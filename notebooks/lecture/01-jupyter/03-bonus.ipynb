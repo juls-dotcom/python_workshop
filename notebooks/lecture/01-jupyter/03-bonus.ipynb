{
 "cells": [
  {
   "cell_type": "markdown",
   "metadata": {},
   "source": [
    "# Jupyter functionnalities (Bonus)"
   ]
  },
  {
   "cell_type": "markdown",
   "metadata": {
    "slideshow": {
     "slide_type": "slide"
    }
   },
   "source": [
    "## Magic functions\n",
    "\n",
    "OS-like command line calls specifically made for Python.\n",
    "\n",
    "Line- or cell-oriented:\n",
    "* Line magics are prefixed with `%`\n",
    "* Cell magics are prefixed with `%%`"
   ]
  },
  {
   "cell_type": "markdown",
   "metadata": {
    "slideshow": {
     "slide_type": "subslide"
    }
   },
   "source": [
    "### Built-in magics\n",
    "\n",
    "* `%debug`: Invoke the Python debugger after an error\n",
    "* `%matplotlib`: Set how plots are shown\n",
    "* `%prun`: Performance profiler\n",
    "* `%time`: Time a statement\n",
    "* `%timeit`: Time using the timeit module\n",
    "* `%whos`: List all variables\n",
    "\n",
    "Need help? `%<name_of_magic_function>?`"
   ]
  },
  {
   "cell_type": "markdown",
   "metadata": {},
   "source": [
    "Let's time how long it would take to your machine to run a `range` function. \n",
    "\n",
    "Don't know what `range` means? Remember, you can execute `range?` to see the doc! Or try it yourself, and see what you get"
   ]
  },
  {
   "cell_type": "code",
   "execution_count": null,
   "metadata": {
    "slideshow": {
     "slide_type": "subslide"
    }
   },
   "outputs": [],
   "source": [
    "%timeit range(1000)"
   ]
  },
  {
   "cell_type": "code",
   "execution_count": null,
   "metadata": {
    "slideshow": {
     "slide_type": "subslide"
    }
   },
   "outputs": [],
   "source": [
    "%%time\n",
    "a = 1000\n",
    "range(a)"
   ]
  },
  {
   "cell_type": "code",
   "execution_count": 4,
   "metadata": {
    "slideshow": {
     "slide_type": "subslide"
    }
   },
   "outputs": [
    {
     "name": "stdout",
     "output_type": "stream",
     "text": [
      " "
     ]
    }
   ],
   "source": [
    "%%prun\n",
    "def sq(i):\n",
    "    return i**2\n",
    "a = [sq(i) for i in range(100000)]"
   ]
  },
  {
   "cell_type": "markdown",
   "metadata": {},
   "source": [
    "# Debugging Tools\n",
    "\n",
    "Did you know that you can use a debugger from jupyter? To use that magic, use `%debug`. This will open the built-in python debugger `pdb`. \n",
    "\n",
    "![images/pdb-cheatsheet.png](images/pdb-cheatsheet.png)"
   ]
  },
  {
   "cell_type": "code",
   "execution_count": null,
   "metadata": {},
   "outputs": [],
   "source": [
    "# NBVAL_RAISES_EXCEPTION\n",
    "\n",
    "def f(x,y,z):\n",
    "    result = x + y \n",
    "    result = result + z \n",
    "    return result \n",
    "\n",
    "f(1, 2, 'a')"
   ]
  },
  {
   "cell_type": "markdown",
   "metadata": {},
   "source": [
    "If we now run `%debug` we get an interactive console where we can step through our function execution"
   ]
  },
  {
   "cell_type": "code",
   "execution_count": null,
   "metadata": {},
   "outputs": [],
   "source": [
    "# Try debugging here\n",
    "# ..."
   ]
  },
  {
   "cell_type": "markdown",
   "metadata": {},
   "source": [
    "You can also set breakpoints at arbitrary places using `set_trace()` <br>\n",
    "Exit using the command `exit`"
   ]
  },
  {
   "cell_type": "code",
   "execution_count": null,
   "metadata": {},
   "outputs": [],
   "source": [
    "# NBVAL_RAISES_EXCEPTION\n",
    "from IPython.core.debugger import set_trace\n",
    "\n",
    "def f(x,y,z):\n",
    "    set_trace()\n",
    "    result = x + y \n",
    "    result = result + z \n",
    "    return result \n",
    "\n",
    "f(1, 2, 'a')"
   ]
  },
  {
   "cell_type": "markdown",
   "metadata": {},
   "source": [
    "## Find the mistakes\n",
    "The function below should do two things:\n",
    "\n",
    "* remove the even numbers from the list, and\n",
    "* append the original length of the list to the list\n",
    "\n",
    "Find and correct the mistakes to get the correct behavior"
   ]
  },
  {
   "cell_type": "code",
   "execution_count": null,
   "metadata": {},
   "outputs": [],
   "source": [
    "def even(num):\n",
    "    return num % 2\n",
    "\n",
    "def foo(numbers=[]):\n",
    "    for i in range(len(numbers)):\n",
    "        if even(numbers[i]):\n",
    "            del numbers[i]\n",
    "    \n",
    "    numbers.append(len(numbers))\n",
    "    \n",
    "    return numbers"
   ]
  },
  {
   "cell_type": "code",
   "execution_count": null,
   "metadata": {},
   "outputs": [],
   "source": [
    "%load answers/debug.py"
   ]
  },
  {
   "cell_type": "markdown",
   "metadata": {},
   "source": [
    "# Autoreload example"
   ]
  },
  {
   "cell_type": "code",
   "execution_count": null,
   "metadata": {},
   "outputs": [],
   "source": [
    "%load_ext autoreload\n",
    "%autoreload 2  "
   ]
  },
  {
   "cell_type": "code",
   "execution_count": null,
   "metadata": {},
   "outputs": [],
   "source": [
    "from exampleproject import data"
   ]
  },
  {
   "cell_type": "code",
   "execution_count": null,
   "metadata": {},
   "outputs": [],
   "source": [
    "# Change the file exampleproject/data.py and rerun this cell\n",
    "data.hello_world()"
   ]
  },
  {
   "cell_type": "markdown",
   "metadata": {},
   "source": [
    "# Writing less terrible notebooks\n",
    "\n",
    "Notebooks are great for interactive analyses, but there's no denying that they're not as powerfull as an IDE and not as reproducible as we want them to be.\n",
    "\n",
    "Henk Griffioen wrote [this really nice blogpost](https://blog.godatadriven.com/write-less-terrible-notebook-code) on making writing less terrible notebooks"
   ]
  },
  {
   "cell_type": "markdown",
   "metadata": {
    "slideshow": {
     "slide_type": "slide"
    }
   },
   "source": [
    "## System shell commands (Advanced level)\n",
    "\n",
    "* Run any command at the shell by prefixing it with `!`;\n",
    "\n",
    "```\n",
    "!ping google.com\n",
    "```\n",
    "\n",
    "* The output can be saved into a list\n",
    "* Prefix Python variables or expressions with `$` to pass them to system commands"
   ]
  },
  {
   "cell_type": "code",
   "execution_count": null,
   "metadata": {
    "scrolled": true,
    "slideshow": {
     "slide_type": "subslide"
    }
   },
   "outputs": [],
   "source": [
    "files = !ls\n",
    "files"
   ]
  },
  {
   "cell_type": "code",
   "execution_count": null,
   "metadata": {
    "slideshow": {
     "slide_type": "subslide"
    }
   },
   "outputs": [],
   "source": [
    "intro = files[0]\n",
    "!wc -l $intro"
   ]
  }
 ],
 "metadata": {
  "kernelspec": {
   "display_name": "Python 3",
   "language": "python",
   "name": "python3"
  },
  "language_info": {
   "codemirror_mode": {
    "name": "ipython",
    "version": 3
   },
   "file_extension": ".py",
   "mimetype": "text/x-python",
   "name": "python",
   "nbconvert_exporter": "python",
   "pygments_lexer": "ipython3",
   "version": "3.7.7"
  }
 },
 "nbformat": 4,
 "nbformat_minor": 2
}
