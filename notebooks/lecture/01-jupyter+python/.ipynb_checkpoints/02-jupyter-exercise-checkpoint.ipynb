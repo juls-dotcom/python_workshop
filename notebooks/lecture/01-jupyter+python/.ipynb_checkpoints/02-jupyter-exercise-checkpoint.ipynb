{
 "cells": [
  {
   "cell_type": "markdown",
   "metadata": {},
   "source": [
    "## Notebook shortcuts \n",
    "\n",
    "All necessary commands have corresponding button at the top of the screen. As you become more familiar with using Jupyter Notebook, you'll become more efficient by using hotkeys instead. A list of some useful ones:\n",
    "\n",
    "- `ctrl  + enter` : run cell\n",
    "- `shift + enter` : run cell and create/select the one after\n",
    "- `esc`           : enter command mode \n",
    "- `ctrl  + s`     : save notebook \n",
    "\n",
    "While in command mode, the shortcuts work a bit differently: \n",
    "\n",
    "- `↑`/`↓` : browser through different cells \n",
    "- `y`     : changes cell to a code cell \n",
    "- `m`     : changes cell to a `markdown` cell\n",
    "- `a`     : create new cell above \n",
    "- `b`     : create new cell below \n",
    "- `l`     : toggle line numbers \n",
    "- `dd`    : delete cell \n",
    "\n",
    "You can always access the docs/help by added the `?` in front of any function in python. You can escape this helper view by pressing `q` or `ESC`. You can view more shortcuts via 'Keyboard Shortcuts'."
   ]
  },
  {
   "cell_type": "markdown",
   "metadata": {},
   "source": [
    "# Exercise \n",
    "\n",
    "Don't use your mouse and add three cells below.\n",
    "\n",
    "- One cell with python code that contains a function with a docstring. \n",
    "- One cell with markdown that contains a header and some text. \n",
    "- One cell with a questionmark in front of the function name created in the first cell. What happens is you use `??` instead of `?`."
   ]
  },
  {
   "cell_type": "code",
   "execution_count": null,
   "metadata": {},
   "outputs": [],
   "source": [
    "# %load answers/example_function.py\n",
    "def example_function(x, y):\n",
    "    \"\"\"\n",
    "    This function performs return the sum between integers x and y\n",
    "    :param x: (int, float) first number\n",
    "    :param y: (int, float) second number\n",
    "    :return: sum between x and y\n",
    "    \"\"\"\n",
    "    return x + y\n",
    "\n"
   ]
  },
  {
   "cell_type": "code",
   "execution_count": null,
   "metadata": {},
   "outputs": [],
   "source": [
    "# %load answers/example_markdown.md\n",
    "## This is a header using markdown\n",
    "\n",
    "* you can also structure your text\n",
    "\n",
    "**or make it bold**"
   ]
  },
  {
   "cell_type": "code",
   "execution_count": null,
   "metadata": {},
   "outputs": [],
   "source": [
    "# %load answers/example_get_doc.py\n",
    "?len"
   ]
  }
 ],
 "metadata": {
  "anaconda-cloud": {},
  "celltoolbar": "Slideshow",
  "kernelspec": {
   "display_name": "Python 3",
   "language": "python",
   "name": "python3"
  },
  "language_info": {
   "codemirror_mode": {
    "name": "ipython",
    "version": 3
   },
   "file_extension": ".py",
   "mimetype": "text/x-python",
   "name": "python",
   "nbconvert_exporter": "python",
   "pygments_lexer": "ipython3",
   "version": "3.7.7"
  }
 },
 "nbformat": 4,
 "nbformat_minor": 2
}
