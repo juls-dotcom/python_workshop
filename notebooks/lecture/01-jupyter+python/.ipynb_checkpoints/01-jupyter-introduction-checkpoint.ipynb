{
 "cells": [
  {
   "cell_type": "markdown",
   "metadata": {
    "slideshow": {
     "slide_type": "slide"
    }
   },
   "source": [
    "# Jupyter notebook\n",
    "\n",
    "![noimg](images/jupyter-logo.png)"
   ]
  },
  {
   "cell_type": "markdown",
   "metadata": {
    "slideshow": {
     "slide_type": "slide"
    }
   },
   "source": [
    "## What is Jupyter?\n",
    "\n",
    "* Open source, interactive data science and scientific computing project\n",
    "* Most important software: `jupyter notebook`"
   ]
  },
  {
   "cell_type": "markdown",
   "metadata": {
    "slideshow": {
     "slide_type": "subslide"
    }
   },
   "source": [
    "## What is Jupyter Notebook?\n",
    "\n",
    "* Web application that combines code, text, figures, etc.\n",
    "* Initially only for the Python language, now compatible with dozens more\n",
    "* Great tool for exploration and easy to get started!\n",
    "\n",
    "<img src=\"images/jupyter-components.png\" alt=\"Drawing\" style=\"width: 600px;\"/>"
   ]
  },
  {
   "cell_type": "markdown",
   "metadata": {
    "slideshow": {
     "slide_type": "subslide"
    }
   },
   "source": [
    "## `jupyter notebook`\n",
    "\n",
    "\n",
    "* Fire up a Jupyter server (`CTRL+c` to exit):\n",
    "\n",
    "```bash\n",
    "$ jupyter notebook\n",
    "```\n",
    "\n",
    "* Client is accessible via your browser\n",
    "```\n",
    "[I 14:48:23.676 NotebookApp] The Jupyter Notebook is running at: http://localhost:8888/\n",
    "```"
   ]
  },
  {
   "cell_type": "markdown",
   "metadata": {
    "slideshow": {
     "slide_type": "subslide"
    }
   },
   "source": [
    "## `jupyter notebook`\n",
    "\n",
    "\n",
    "* __Notebook__: combination of code, text, figures, etc.\n",
    "* __Kernel__: computational engine per Notebook\n",
    "* __Cells__: code or markdown, have input and output\n",
    "\n",
    "All cells in a Notebook share the same kernel and variables"
   ]
  },
  {
   "cell_type": "markdown",
   "metadata": {
    "slideshow": {
     "slide_type": "subslide"
    }
   },
   "source": [
    "### Edit mode vs comand mode\n",
    "`Command` mode allows you to perform operations on cells themselves (delete/copy/cut entire cell).\n",
    "Visible by blue border around the active cell and activated by pressing `Ecs`.\n",
    "Important commands:\n",
    "- `dd` delete cell\n",
    "- `a` paste a new empty cell above the current cell\n",
    "- `b` paste a new empty cell below the current cell\n",
    "- `y` change cell type to code\n",
    "- `m` change cell type to Markdown\n",
    "- `c` copy cell\n",
    "- `v` paste copied cell below current cell\n",
    "- `h` show help"
   ]
  },
  {
   "cell_type": "markdown",
   "metadata": {},
   "source": [
    "### Code vs MarkDown\n",
    "\n",
    "- `y` change cell type to code\n",
    "- `m` change cell type to Markdown\n",
    "\n",
    "`Code` cells will contain the code, and will constitute the main output of your work\n",
    "\n",
    "`Markdown` is a lightweigh markup language designed to annonate and document code alongway using plain text. I recommend using as much Markdown as possible in your notebooks, to allow for documentation of your steps and overall logic. In the best case, Markdown and comments in code cells should allow any user to understand your work>"
   ]
  },
  {
   "cell_type": "markdown",
   "metadata": {
    "slideshow": {
     "slide_type": "subslide"
    }
   },
   "source": [
    "`Edit` mode performs operations within cells and is activated by pressing `Enter`. You can recognize it by the green border around the cell.\n",
    "\n",
    "Run the code in a cell by pressing `Shift` + `Enter` keys\n",
    "\n",
    "Markdown cells support all the usual markdown syntax such as:\n",
    "- \\* for *italic*, \n",
    "-\\_ for __bold__ \n",
    "- \\` for `inline code snippets`\n",
    "- various amounts of \\# for headings\n",
    "#### Level 4 heading\n",
    "- LaTeX notation:  `$...$` for inline mathematics and `$$...$$` for displayed mathematics\n",
    "\n",
    "Linear equation: $y = ax + b$\n",
    "\n",
    "Linear equation: $$y = ax + b$$\n",
    "\n"
   ]
  },
  {
   "cell_type": "markdown",
   "metadata": {
    "slideshow": {
     "slide_type": "slide"
    }
   },
   "source": [
    "## Python in Jupyter environment\n",
    "\n",
    "    Python is one of the language supported by Jupyter.\n",
    "\n",
    "    Python is a popular programming language. It was created in 1991 by Guido van Rossum.\n",
    "\n",
    "    Python is an easy to learn, powerful programming language. It has efficient high-level data structures and a simple but effective approach to programming. \n",
    "\n",
    "#### Why Python?\n",
    "\n",
    "    Python works on different platforms (Windows, Mac, Linux, Raspberry Pi, etc).\n",
    "    Python has a simple syntax similar to the English language.\n",
    "    Python has syntax that allows developers to write programs with fewer lines than some other programming languages.\n",
    "    Python runs on an interpreter system, meaning that code can be executed as soon as it is written. This means that prototyping can be very quick.\n",
    "    Python can be treated in a procedural way, an object-orientated way or a functional way.\n",
    "    Python is the most prominent language in the recent years:\n",
    "![noimg](images/python_growth.png)\n",
    "\n",
    "#### Good to know\n",
    "\n",
    "The most recent major version of Python is Python 3, which we shall be using in this tutorial. However, Python 2, although not being updated with anything other than security updates, is still quite popular.\n",
    "In this tutorial Python will be written in a JupyterLab. It is possible to write Python in other IDES (Integrated Development Environment) such as Thonny, Pycharm, Netbeans or Eclipse which are particularly useful when managing larger collections of Python files.\n",
    "\n",
    "#### Python Syntax\n",
    "\n",
    "    Python was designed to for readability, and has some similarities to the English language with influence from mathematics.\n",
    "    Python uses new lines to complete a command, as opposed to other programming languages which often use semicolons or parentheses.\n",
    "    Python relies on indentation, using whitespace, to define scope; such as the scope of loops, functions and classes. Other programming languages often use curly-brackets for this purpose.\n",
    "\n",
    "#### Python Indentations\n",
    "\n",
    "    Where in other programming languages the indentation in code is for readability only, in Python the indentation is very important. \n",
    "    Python uses indentation to indicate a block of code.\n",
    "\n",
    "    if 5 > 2: print(\"Five is greater than two!\")\n",
    "\n",
    "    Python will give you an error if you skip the indentation.\n",
    "\n",
    "#### Python Comments\n",
    "\n",
    "    Python has commenting capability for the purpose of in-code documentation.\n",
    "\n",
    "    Comments start with a #, and Python will render the rest of the line as a comment:\n",
    "\n",
    "    #This is a comment. print(\"Hello, World!\")\n",
    "    \n",
    "#### Python Docstrings\n",
    "\n",
    "    Python also has extended documentation capability, called docstrings.\n",
    "\n",
    "    Docstrings can be one line, or multiline. Docstrings are also comments:\n",
    "    \n",
    "    Python uses triple quotes at the beginning and end of the docstring:\n",
    "\n",
    "    \"\"\"This is a multiline docstring.\"\"\" print(\"Hello, World!\")\n",
    "\n",
    "#### References\n",
    "\n",
    "https://github.com/trekhleb/learn-python"
   ]
  },
  {
   "cell_type": "markdown",
   "metadata": {},
   "source": [
    "## Let's try some commands!\n",
    "\n",
    "When loading a Python Kernel with your notebook, you have access to all basis Python syntax, which includes for example\n",
    "* print commands:"
   ]
  },
  {
   "cell_type": "code",
   "execution_count": 29,
   "metadata": {
    "slideshow": {
     "slide_type": "subslide"
    }
   },
   "outputs": [
    {
     "name": "stdout",
     "output_type": "stream",
     "text": [
      "first\n"
     ]
    }
   ],
   "source": [
    "print(\"first\")"
   ]
  },
  {
   "cell_type": "code",
   "execution_count": 30,
   "metadata": {
    "slideshow": {
     "slide_type": "-"
    }
   },
   "outputs": [
    {
     "name": "stdout",
     "output_type": "stream",
     "text": [
      "second\n"
     ]
    }
   ],
   "source": [
    "print(\"second\")"
   ]
  },
  {
   "cell_type": "code",
   "execution_count": 31,
   "metadata": {},
   "outputs": [
    {
     "name": "stdout",
     "output_type": "stream",
     "text": [
      "third\n"
     ]
    }
   ],
   "source": [
    "print(\"third\")"
   ]
  },
  {
   "cell_type": "markdown",
   "metadata": {},
   "source": [
    "* Basis calculations"
   ]
  },
  {
   "cell_type": "code",
   "execution_count": 32,
   "metadata": {
    "slideshow": {
     "slide_type": "subslide"
    }
   },
   "outputs": [
    {
     "name": "stdout",
     "output_type": "stream",
     "text": [
      "3\n",
      "7\n"
     ]
    }
   ],
   "source": [
    "first_number = 3\n",
    "second_number = first_number + 4\n",
    "\n",
    "print(first_number)\n",
    "print(second_number)"
   ]
  },
  {
   "cell_type": "code",
   "execution_count": 33,
   "metadata": {
    "slideshow": {
     "slide_type": "subslide"
    }
   },
   "outputs": [
    {
     "name": "stdout",
     "output_type": "stream",
     "text": [
      "8\n"
     ]
    },
    {
     "data": {
      "text/plain": [
       "7"
      ]
     },
     "execution_count": 33,
     "metadata": {},
     "output_type": "execute_result"
    }
   ],
   "source": [
    "third_number = second_number + 1\n",
    "\n",
    "print(third_number)\n",
    "second_number"
   ]
  },
  {
   "cell_type": "code",
   "execution_count": 34,
   "metadata": {},
   "outputs": [
    {
     "name": "stdout",
     "output_type": "stream",
     "text": [
      "Sum: 7\n",
      "Sum: 10\n",
      "Exponentation: 25\n",
      "Sum: 3\n",
      "Modulus: 1\n"
     ]
    }
   ],
   "source": [
    "# Sum\n",
    "print('Sum:', 5+2)\n",
    "\n",
    "# Multiplicaiton\n",
    "print('Sum:', 5*2)\n",
    "\n",
    "# Exponentiation\n",
    "print('Exponentation:', 5**2)\n",
    "\n",
    "# Subtraction\n",
    "print('Sum:', 5-2)\n",
    "\n",
    "# Modulus\n",
    "print('Modulus:', 5%2)"
   ]
  },
  {
   "cell_type": "markdown",
   "metadata": {
    "slideshow": {
     "slide_type": "slide"
    }
   },
   "source": [
    "## The six most important Jupyter commands\n",
    "\n",
    "* `⇧↩`: (shift + enter) execute the cell in which the cursor is and go to next\n",
    "* `object?`: Documentation about ‘object’, use `object??` for source code\n",
    "* `Tab`: Tab completion\n",
    "* `ESC+Z` : Recover deleted cell\n",
    "* `a/b` : insert cell before / after\n",
    "* `dd` : delete cell"
   ]
  },
  {
   "cell_type": "markdown",
   "metadata": {
    "slideshow": {
     "slide_type": "subslide"
    }
   },
   "source": [
    "### Tab completion\n",
    "Tab completion is a convenient way to explore the structure of any object you’re dealing with. Remove the `#`, move your curser to the end and press `TAB`:\n",
    "```\n",
    "ran<TAB> → range\n",
    "```"
   ]
  },
  {
   "cell_type": "code",
   "execution_count": null,
   "metadata": {
    "collapsed": true
   },
   "outputs": [],
   "source": [
    "# Demo with os library\n",
    "import os \n",
    "os.li"
   ]
  },
  {
   "cell_type": "markdown",
   "metadata": {},
   "source": [
    "```\n",
    "open(\"00<TAB> → open(\"00-introduction.ipynb)\n",
    "```"
   ]
  },
  {
   "cell_type": "code",
   "execution_count": null,
   "metadata": {
    "collapsed": true
   },
   "outputs": [],
   "source": [
    "# open(\"00"
   ]
  },
  {
   "cell_type": "markdown",
   "metadata": {
    "slideshow": {
     "slide_type": "subslide"
    }
   },
   "source": [
    "## Documentation\n",
    "\n",
    "\n",
    "```\n",
    "Counter?\n",
    "```\n",
    "\n",
    "```\n",
    "Init signature: Counter(*args, **kwds)\n",
    "Docstring:     \n",
    "Dict subclass for counting hashable items.  Sometimes called a bag\n",
    "or multiset.  Elements are stored as dictionary keys and their counts\n",
    "are stored as dictionary values.\n",
    "...\n",
    "```\n"
   ]
  },
  {
   "cell_type": "code",
   "execution_count": null,
   "metadata": {
    "collapsed": true,
    "slideshow": {
     "slide_type": "subslide"
    }
   },
   "outputs": [],
   "source": [
    "from collections import Counter"
   ]
  },
  {
   "cell_type": "code",
   "execution_count": null,
   "metadata": {
    "collapsed": true,
    "slideshow": {
     "slide_type": "subslide"
    }
   },
   "outputs": [],
   "source": [
    "# Show the docstring\n",
    "Counter?"
   ]
  },
  {
   "cell_type": "markdown",
   "metadata": {
    "slideshow": {
     "slide_type": "subslide"
    }
   },
   "source": [
    "### Source code\n",
    "\n",
    "```\n",
    "Counter??\n",
    "```\n",
    "\n",
    "```\n",
    "class OrderedDict(dict):\n",
    "    'Dictionary that remembers insertion order'\n",
    "\n",
    "    ...\n",
    "\n",
    "    def clear(self):\n",
    "        'od.clear() -> None.  Remove all items from od.'\n",
    "        root = self.__root\n",
    "        root.prev = root.next = root\n",
    "        self.__map.clear()\n",
    "        dict.clear(self)\n",
    "```"
   ]
  },
  {
   "cell_type": "code",
   "execution_count": null,
   "metadata": {
    "collapsed": true,
    "slideshow": {
     "slide_type": "subslide"
    }
   },
   "outputs": [],
   "source": [
    "# Show the source code\n",
    "Counter??"
   ]
  },
  {
   "cell_type": "markdown",
   "metadata": {
    "slideshow": {
     "slide_type": "slide"
    }
   },
   "source": [
    "## Exercise\n",
    "\n",
    "1. Fire up a Jupyter notebook and familiarize yourself with the environment (menu, dropdown, buttons)\n",
    "* Write a Python function in a cell, and try to use it in a different cell\n",
    "* Try tab-completion with the function you just defined"
   ]
  }
 ],
 "metadata": {
  "anaconda-cloud": {},
  "celltoolbar": "Slideshow",
  "kernelspec": {
   "display_name": "Python 3",
   "language": "python",
   "name": "python3"
  },
  "language_info": {
   "codemirror_mode": {
    "name": "ipython",
    "version": 3
   },
   "file_extension": ".py",
   "mimetype": "text/x-python",
   "name": "python",
   "nbconvert_exporter": "python",
   "pygments_lexer": "ipython3",
   "version": "3.7.7"
  },
  "livereveal": {
   "theme": "serif",
   "transition": "zoom"
  },
  "nav_menu": {},
  "toc": {
   "navigate_menu": true,
   "number_sections": true,
   "sideBar": true,
   "threshold": 6,
   "toc_cell": false,
   "toc_section_display": "block",
   "toc_window_display": false
  }
 },
 "nbformat": 4,
 "nbformat_minor": 2
}
