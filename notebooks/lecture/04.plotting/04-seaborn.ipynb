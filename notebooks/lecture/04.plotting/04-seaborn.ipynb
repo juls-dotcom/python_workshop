{
 "cells": [
  {
   "cell_type": "code",
   "execution_count": null,
   "metadata": {
    "slideshow": {
     "slide_type": "skip"
    }
   },
   "outputs": [],
   "source": [
    "%%HTML\n",
    "<link rel=\"stylesheet\" type=\"text/css\" href=\"custom.css\">"
   ]
  },
  {
   "cell_type": "code",
   "execution_count": null,
   "metadata": {
    "slideshow": {
     "slide_type": "skip"
    }
   },
   "outputs": [],
   "source": [
    "# Filter out some warnings from statsmodels\n",
    "\n",
    "import warnings\n",
    "warnings.filterwarnings('ignore')"
   ]
  },
  {
   "cell_type": "markdown",
   "metadata": {
    "slideshow": {
     "slide_type": "subslide"
    }
   },
   "source": [
    "## `seaborn`\n",
    "\n",
    "`seaborn` is a high-level visualization library that uses `matplotlib` under the hood and has strong support for `pandas`."
   ]
  },
  {
   "cell_type": "code",
   "execution_count": null,
   "metadata": {
    "slideshow": {
     "slide_type": "-"
    }
   },
   "outputs": [],
   "source": [
    "%matplotlib inline\n",
    "import matplotlib.pyplot as plt\n",
    "import seaborn as sns"
   ]
  },
  {
   "cell_type": "code",
   "execution_count": null,
   "metadata": {
    "slideshow": {
     "slide_type": "skip"
    }
   },
   "outputs": [],
   "source": [
    "#rc('figure', figsize=(12, 5)) #why do we do this?"
   ]
  },
  {
   "cell_type": "markdown",
   "metadata": {
    "slideshow": {
     "slide_type": "subslide"
    }
   },
   "source": [
    "Side-effect: `seaborn` adjusts `matplotlib`'s style (and makes your plots prettier)!"
   ]
  },
  {
   "cell_type": "code",
   "execution_count": null,
   "metadata": {},
   "outputs": [],
   "source": [
    "import numpy as np\n",
    "\n",
    "x = np.linspace(0, 2 * np.pi, 128, endpoint=True)\n",
    "y_cos, y_sin = np.cos(x), np.sin(x)"
   ]
  },
  {
   "cell_type": "code",
   "execution_count": null,
   "metadata": {},
   "outputs": [],
   "source": [
    "fig, ax = plt.subplots()\n",
    "ax.plot(x, y_cos)\n",
    "ax.plot(x, y_sin)\n",
    "ax.set_ylim(-1.1, 1.1); #note the ';': what does it do?"
   ]
  },
  {
   "cell_type": "markdown",
   "metadata": {
    "slideshow": {
     "slide_type": "slide"
    }
   },
   "source": [
    "## `seaborn` vs `matplotlib`\n",
    "\n",
    "We can use the `hist` function to visualize the distribution of some data in `matplotlib`.\n",
    "\n",
    "However, if you want to create something more advanced, it's a lot of work.\n",
    "\n",
    "Consider a kernel density plot: you have to compute the KDE with `scipy` and plot the results yourself."
   ]
  },
  {
   "cell_type": "code",
   "execution_count": null,
   "metadata": {
    "slideshow": {
     "slide_type": "subslide"
    }
   },
   "outputs": [],
   "source": [
    "# what is a kernel density plot\n",
    "from scipy import stats\n",
    "data = np.random.gamma(2, size=200)\n",
    "\n",
    "kernel = stats.gaussian_kde(data)\n",
    "grid = np.linspace(-2, 12, num=100)\n",
    "plt.plot(grid, kernel(grid));"
   ]
  },
  {
   "cell_type": "markdown",
   "metadata": {
    "slideshow": {
     "slide_type": "subslide"
    }
   },
   "source": [
    "`seaborn` has a handy function for this, called `kdeplot`:"
   ]
  },
  {
   "cell_type": "code",
   "execution_count": null,
   "metadata": {
    "slideshow": {
     "slide_type": "-"
    }
   },
   "outputs": [],
   "source": [
    "sns.kdeplot(data);"
   ]
  },
  {
   "cell_type": "markdown",
   "metadata": {
    "slideshow": {
     "slide_type": "subslide"
    }
   },
   "source": [
    "The higher level `distplot` allows to plot a KDE and a histogram:"
   ]
  },
  {
   "cell_type": "code",
   "execution_count": null,
   "metadata": {
    "scrolled": false,
    "slideshow": {
     "slide_type": "-"
    }
   },
   "outputs": [],
   "source": [
    "sns.distplot(data, bins=10) ;"
   ]
  },
  {
   "cell_type": "markdown",
   "metadata": {
    "slideshow": {
     "slide_type": "subslide"
    }
   },
   "source": [
    "We can also __fit a distribution__ to our histogram."
   ]
  },
  {
   "cell_type": "markdown",
   "metadata": {
    "slideshow": {
     "slide_type": "subslide"
    }
   },
   "source": [
    "A fit with a gamma distribution shows how good the KDE approximation is:"
   ]
  },
  {
   "cell_type": "code",
   "execution_count": null,
   "metadata": {
    "scrolled": false
   },
   "outputs": [],
   "source": [
    "from scipy import stats\n",
    "data = np.random.gamma(2, size=200)\n",
    "sns.distplot(data, fit=stats.gamma);"
   ]
  },
  {
   "cell_type": "markdown",
   "metadata": {
    "slideshow": {
     "slide_type": "subslide"
    }
   },
   "source": [
    "This small example already shows that `seaborn` can make our life easier and has a lot of advanced functionality!"
   ]
  },
  {
   "cell_type": "markdown",
   "metadata": {
    "slideshow": {
     "slide_type": "slide"
    }
   },
   "source": [
    "## `seaborn` and `pandas`\n",
    "\n",
    "`seaborn` is even better when you use it with other libraries.\n",
    "\n",
    "Use `pandas` to get your data into `seaborn` and use `matplotlib` to tweak your plots.\n",
    "\n",
    "`seaborn` generally accepts either:\n",
    "* 1D array (like `numpy` or a column of a DataFrame)\n",
    "* DataFrame + indicators of which columns to plot"
   ]
  },
  {
   "cell_type": "markdown",
   "metadata": {
    "slideshow": {
     "slide_type": "subslide"
    }
   },
   "source": [
    "Let's load an example dataset. `iris` is a DataFrame:"
   ]
  },
  {
   "cell_type": "code",
   "execution_count": null,
   "metadata": {},
   "outputs": [],
   "source": [
    "import seaborn as sns"
   ]
  },
  {
   "cell_type": "code",
   "execution_count": null,
   "metadata": {},
   "outputs": [],
   "source": [
    "iris = sns.load_dataset('iris')\n",
    "iris.drop(['sepal_length', 'petal_width'], axis=1, inplace=True)\n",
    "iris.head()"
   ]
  },
  {
   "cell_type": "markdown",
   "metadata": {
    "slideshow": {
     "slide_type": "subslide"
    }
   },
   "source": [
    "We can visualize the relations between our numerical variables `sepal_width` and `petal_length` with a simple `pairplot`:"
   ]
  },
  {
   "cell_type": "code",
   "execution_count": null,
   "metadata": {
    "scrolled": false,
    "slideshow": {
     "slide_type": "subslide"
    }
   },
   "outputs": [],
   "source": [
    "sns.pairplot(iris, size=3);"
   ]
  },
  {
   "cell_type": "markdown",
   "metadata": {
    "slideshow": {
     "slide_type": "subslide"
    }
   },
   "source": [
    "The argument `hue` is generally a categorical column to separate the data set in different colors:"
   ]
  },
  {
   "cell_type": "code",
   "execution_count": null,
   "metadata": {},
   "outputs": [],
   "source": [
    "sns.pairplot(iris, hue='species', size=2.5)\n",
    "fig.tight_layout()"
   ]
  },
  {
   "cell_type": "markdown",
   "metadata": {
    "slideshow": {
     "slide_type": "subslide"
    }
   },
   "source": [
    "This simple visualization already gives us an idea how to classify species given our variables!"
   ]
  },
  {
   "cell_type": "markdown",
   "metadata": {
    "slideshow": {
     "slide_type": "slide"
    }
   },
   "source": [
    "## `seaborn` and `matplotlib`\n",
    "\n",
    "`seaborn` uses `matplotlib` as its visualization engine and (most of) returned objects are `matplotlib` objects.\n",
    "\n",
    "This means that we can prettify our plots using the `matplotlib` OOP syntax we learned earlier!"
   ]
  },
  {
   "cell_type": "code",
   "execution_count": null,
   "metadata": {
    "scrolled": false,
    "slideshow": {
     "slide_type": "subslide"
    }
   },
   "outputs": [],
   "source": [
    "from scipy import stats\n",
    "data = np.random.gamma(2, size=200)\n",
    "\n",
    "ax = sns.distplot(iris['sepal_width'], axlabel='Sepal width [cm]')\n",
    "ax.set_title('Distribution of sepal widths')\n",
    "ax.set_yticks([0, 0.5, 1, 1.5]);"
   ]
  },
  {
   "cell_type": "markdown",
   "metadata": {
    "slideshow": {
     "slide_type": "subslide"
    }
   },
   "source": [
    "A lot of `seaborn`'s functions* accept an `ax` keyword to tell `seaborn` on which axes to plot: \n",
    "\n",
    "\n",
    "\\* Except those working with FacetGrids"
   ]
  },
  {
   "cell_type": "code",
   "execution_count": null,
   "metadata": {
    "slideshow": {
     "slide_type": "subslide"
    }
   },
   "outputs": [],
   "source": [
    "fig, axes = plt.subplots(2, 1, sharex=True)\n",
    "sns.distplot(iris['sepal_width'], kde=False, ax=axes[0])\n",
    "sns.kdeplot(iris['sepal_width'], legend=False, ax=axes[1])\n",
    "\n",
    "for ax in axes:\n",
    "    ax.set_xlabel('Sepal width [cm]')"
   ]
  },
  {
   "cell_type": "markdown",
   "metadata": {
    "slideshow": {
     "slide_type": "slide"
    }
   },
   "source": [
    "## Summary\n",
    "\n",
    "`seaborn`:\n",
    "* has high level plotting functions that can make our life easier;\n",
    "* accepts arrays or `pandas` DataFrames as input;\n",
    "* outputs `matplotlib` objects that we can tweak!"
   ]
  },
  {
   "cell_type": "markdown",
   "metadata": {
    "slideshow": {
     "slide_type": "subslide"
    }
   },
   "source": [
    "## Excercises (15 minutes)\n",
    "\n",
    "- Plot the distribution of `iris['petal_length']` using `sns.distplot` with a KDE and rug plot but without a histogram.\n",
    "- Use the argument `color` to set the color to red.\n",
    "- Plot the relation between `sepal_width` and `petal_length` using `sns.jointplot`\n",
    "- Plot the relation between `sepal_width` and `petal_length` using `sns.jointplot` as hexbins (hint: look at what the `kind` argument does)"
   ]
  },
  {
   "cell_type": "markdown",
   "metadata": {
    "slideshow": {
     "slide_type": "slide"
    }
   },
   "source": [
    "## High and medium level functions\n",
    "\n",
    "We've already seen that we can do interesting stuff with `sns.jointplot` and `sns.distplot`.\n",
    "\n",
    "`sns.distplot` and `sns.jointplot` call other functions like `sns.kdeplot` and `sns.rugplot` to do the plotting for them."
   ]
  },
  {
   "cell_type": "markdown",
   "metadata": {
    "slideshow": {
     "slide_type": "subslide"
    }
   },
   "source": [
    "`sns.jointplot` is an example of a high level function:"
   ]
  },
  {
   "cell_type": "code",
   "execution_count": null,
   "metadata": {},
   "outputs": [],
   "source": [
    "sns.jointplot('sepal_width', 'petal_length', iris);"
   ]
  },
  {
   "cell_type": "markdown",
   "metadata": {
    "slideshow": {
     "slide_type": "subslide"
    }
   },
   "source": [
    "But we can also use slightly lower level functions to do the plotting ourselves:"
   ]
  },
  {
   "cell_type": "code",
   "execution_count": null,
   "metadata": {
    "slideshow": {
     "slide_type": "-"
    }
   },
   "outputs": [],
   "source": [
    "fig, ax = plt.subplots(figsize=(6, 6))\n",
    "\n",
    "sns.kdeplot(iris['sepal_width'], iris['petal_length'], ax=ax) #note ax=ax\n",
    "sns.rugplot(iris['sepal_width'], color='g', ax=ax)\n",
    "sns.rugplot(iris['petal_length'], vertical=True, ax=ax);"
   ]
  },
  {
   "cell_type": "markdown",
   "metadata": {
    "slideshow": {
     "slide_type": "slide"
    }
   },
   "source": [
    "## Regression plots"
   ]
  },
  {
   "cell_type": "markdown",
   "metadata": {},
   "source": [
    "We've seen how to plot the relations between variables in `seaborn`, but we can also quantify these relations by doing __regression__.\n",
    "\n",
    "Although `seaborn` is not the best package to do linear regression, it's convenient to quickly get information about relations between variables."
   ]
  },
  {
   "cell_type": "markdown",
   "metadata": {
    "slideshow": {
     "slide_type": "subslide"
    }
   },
   "source": [
    "We can use `regplot` to draw a regression plot."
   ]
  },
  {
   "cell_type": "code",
   "execution_count": null,
   "metadata": {
    "slideshow": {
     "slide_type": "-"
    }
   },
   "outputs": [],
   "source": [
    "anscombe = sns.load_dataset('anscombe')\n",
    "linear = anscombe[anscombe.dataset == 'I']\n",
    "quadratic = anscombe[anscombe.dataset == 'II']\n",
    "outlier = anscombe[anscombe.dataset == 'III']"
   ]
  },
  {
   "cell_type": "markdown",
   "metadata": {
    "slideshow": {
     "slide_type": "subslide"
    }
   },
   "source": [
    "`regplot` draws a scatterplot of two variables and plots the `y ~ x` regression line with the 95% confidence interval."
   ]
  },
  {
   "cell_type": "code",
   "execution_count": null,
   "metadata": {},
   "outputs": [],
   "source": [
    "sns.regplot(x='x', y='y', data=linear);"
   ]
  },
  {
   "cell_type": "markdown",
   "metadata": {
    "slideshow": {
     "slide_type": "subslide"
    }
   },
   "source": [
    "For polynomial relations we can specify the polynomial `order`:"
   ]
  },
  {
   "cell_type": "code",
   "execution_count": null,
   "metadata": {},
   "outputs": [],
   "source": [
    "sns.regplot(x='x', y='y', data=quadratic, order=2);"
   ]
  },
  {
   "cell_type": "markdown",
   "metadata": {
    "slideshow": {
     "slide_type": "subslide"
    }
   },
   "source": [
    "For data with outliers we can use robust (Hubert) regression:"
   ]
  },
  {
   "cell_type": "code",
   "execution_count": null,
   "metadata": {},
   "outputs": [],
   "source": [
    "sns.regplot(x='x', y='y', data=outlier, robust=True)"
   ]
  },
  {
   "cell_type": "markdown",
   "metadata": {
    "slideshow": {
     "slide_type": "subslide"
    }
   },
   "source": [
    "## Plotting residues\n",
    "\n",
    "Once the regression is done, it is often very helpful to see how the residues behave as a function of `x` with `sns.residplot`.\n",
    "\n",
    "\n",
    "In case of linear regression, they should be evenly distributed between the `y > 0` and `y < 0` plane."
   ]
  },
  {
   "cell_type": "code",
   "execution_count": null,
   "metadata": {
    "slideshow": {
     "slide_type": "subslide"
    }
   },
   "outputs": [],
   "source": [
    "sns.residplot(x='x', y='y', data=linear)"
   ]
  },
  {
   "cell_type": "markdown",
   "metadata": {
    "slideshow": {
     "slide_type": "subslide"
    }
   },
   "source": [
    "That is, evenly distributed but also not too many consecutive in one of the planes!"
   ]
  },
  {
   "cell_type": "code",
   "execution_count": null,
   "metadata": {},
   "outputs": [],
   "source": [
    "sns.residplot(x='x', y='y', data=quadratic, scatter_kws={'s': 80})"
   ]
  },
  {
   "cell_type": "markdown",
   "metadata": {
    "slideshow": {
     "slide_type": "slide"
    }
   },
   "source": [
    "## Distributions and categories\n",
    "Distributions over categorical data ask for different kinds visualization techniques. "
   ]
  },
  {
   "cell_type": "markdown",
   "metadata": {
    "slideshow": {
     "slide_type": "subslide"
    }
   },
   "source": [
    "Usually one shows either:\n",
    "* the distribution of observations\n",
    "    * `stripplot()`, `boxplot()`,  `violinplot()`\n",
    "* a statistical estimation to show a central tendency and confidence interval\n",
    "    * `barplot()`, `countplot()`,  `pointplot()`"
   ]
  },
  {
   "cell_type": "code",
   "execution_count": null,
   "metadata": {
    "slideshow": {
     "slide_type": "subslide"
    }
   },
   "outputs": [],
   "source": [
    "titanic = sns.load_dataset('titanic')\n",
    "titanic.head()"
   ]
  },
  {
   "cell_type": "markdown",
   "metadata": {
    "slideshow": {
     "slide_type": "subslide"
    }
   },
   "source": [
    "## 1. Distribution of observations\n",
    "\n",
    "Boxplots show a distribution of the median, the first and second quartiles, and a range denoted by whiskers and outliers."
   ]
  },
  {
   "cell_type": "code",
   "execution_count": null,
   "metadata": {
    "slideshow": {
     "slide_type": "subslide"
    }
   },
   "outputs": [],
   "source": [
    "sns.boxplot(x='class', y='age', data=titanic);"
   ]
  },
  {
   "cell_type": "markdown",
   "metadata": {
    "slideshow": {
     "slide_type": "subslide"
    }
   },
   "source": [
    "`sns.boxplot` also supports `hue`:"
   ]
  },
  {
   "cell_type": "code",
   "execution_count": null,
   "metadata": {
    "slideshow": {
     "slide_type": "-"
    }
   },
   "outputs": [],
   "source": [
    "sns.boxplot(x='class', y='age', hue='sex', data=titanic);"
   ]
  },
  {
   "cell_type": "markdown",
   "metadata": {
    "slideshow": {
     "slide_type": "subslide"
    }
   },
   "source": [
    "And some more advanced options:"
   ]
  },
  {
   "cell_type": "code",
   "execution_count": null,
   "metadata": {},
   "outputs": [],
   "source": [
    "sns.boxplot(x='class', y='age', hue='sex', data=titanic,\n",
    "            notch=True, showfliers=True);"
   ]
  },
  {
   "cell_type": "markdown",
   "metadata": {
    "slideshow": {
     "slide_type": "subslide"
    }
   },
   "source": [
    "## 2. Statistical estimation"
   ]
  },
  {
   "cell_type": "markdown",
   "metadata": {
    "slideshow": {
     "slide_type": "subslide"
    }
   },
   "source": [
    "`sns.barplot` can be used to compare averages between categories"
   ]
  },
  {
   "cell_type": "code",
   "execution_count": null,
   "metadata": {},
   "outputs": [],
   "source": [
    "sns.barplot(x='class', y='age', hue='sex', data=titanic, ci=80);"
   ]
  },
  {
   "cell_type": "markdown",
   "metadata": {
    "slideshow": {
     "slide_type": "subslide"
    }
   },
   "source": [
    "We can ask for more strict confidence intervals:"
   ]
  },
  {
   "cell_type": "code",
   "execution_count": null,
   "metadata": {},
   "outputs": [],
   "source": [
    "sns.barplot(x='class', y='age', hue='sex', ci=99, data=titanic);"
   ]
  },
  {
   "cell_type": "markdown",
   "metadata": {
    "slideshow": {
     "slide_type": "subslide"
    }
   },
   "source": [
    "Instead of looking at the average, we can also supply a different estimator:"
   ]
  },
  {
   "cell_type": "code",
   "execution_count": null,
   "metadata": {},
   "outputs": [],
   "source": [
    "sns.barplot(x='class', y='age', hue='sex', data=titanic, estimator=np.std);"
   ]
  },
  {
   "cell_type": "markdown",
   "metadata": {
    "slideshow": {
     "slide_type": "slide"
    }
   },
   "source": [
    "## Summary\n",
    "\n",
    "* `seaborn` has more functionality than we can cover in a day.\n",
    "* We can choose between high and medium level plotting functions.\n",
    "* There's a wide variety of plots: \n",
    "    * distribution plots, regression plots, estimation plots, etc.\n",
    "* Browse `seaborn`'s [gallery](http://seaborn.pydata.org/examples/index.html) for more inspiration."
   ]
  }
 ],
 "metadata": {
  "anaconda-cloud": {},
  "celltoolbar": "Slideshow",
  "kernelspec": {
   "display_name": "Python 3",
   "language": "python",
   "name": "python3"
  },
  "language_info": {
   "codemirror_mode": {
    "name": "ipython",
    "version": 3
   },
   "file_extension": ".py",
   "mimetype": "text/x-python",
   "name": "python",
   "nbconvert_exporter": "python",
   "pygments_lexer": "ipython3",
   "version": "3.7.7"
  },
  "nav_menu": {},
  "toc": {
   "navigate_menu": true,
   "number_sections": true,
   "sideBar": true,
   "threshold": 6,
   "toc_cell": false,
   "toc_section_display": "block",
   "toc_window_display": false
  }
 },
 "nbformat": 4,
 "nbformat_minor": 1
}
