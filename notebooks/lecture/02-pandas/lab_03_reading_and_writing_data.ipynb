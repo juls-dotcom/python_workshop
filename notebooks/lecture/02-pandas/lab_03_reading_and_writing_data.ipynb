{
 "cells": [
  {
   "cell_type": "markdown",
   "metadata": {},
   "source": [
    "<span class=\"image\"><table><tr>\n",
    "<img src=\"images/pandas-logo.png\" style=\"float: left; height: 48px;\">\n",
    "<h1 style=\"text-align: center;\">Lab 3 - Reading and writing data</h1>\n",
    "</tr></table></span>"
   ]
  },
  {
   "cell_type": "code",
   "execution_count": null,
   "metadata": {},
   "outputs": [],
   "source": [
    "import pandas as pd\n",
    "import numpy as np\n",
    "from display_functions import head"
   ]
  },
  {
   "cell_type": "markdown",
   "metadata": {},
   "source": [
    "## Exercise goals:\n",
    "\n",
    "- practice reading in and writing out several different types of data\n",
    "- get more familiar with extracting data from online sources"
   ]
  },
  {
   "cell_type": "markdown",
   "metadata": {},
   "source": [
    "---\n",
    "## Exercise 1: Collecting Dutch films from Wikipedia\n",
    "\n",
    "In this exercise we will use pandas to collect all Dutch films from 2010 till now. The resource that we are going to use is the following Dutch Wikipedia page:\n",
    "\n",
    "<a href=\"https://nl.wikipedia.org/wiki/Lijst_van_Nederlandse_films_(2010-2019)\">https://nl.wikipedia.org/wiki/Lijst\\_van\\_Nederlandse\\_films\\_(2010-2019)</a>\n",
    "\n",
    "Click on the link and have a look around on the page. How many tables do we need to collect?"
   ]
  },
  {
   "cell_type": "markdown",
   "metadata": {},
   "source": [
    "**Answer**: ..."
   ]
  },
  {
   "cell_type": "markdown",
   "metadata": {},
   "source": [
    "We are going to use `pd.read_html` for retrieving the data. \n",
    "\n",
    "Fill out the code below to run it right out of the box:"
   ]
  },
  {
   "cell_type": "code",
   "execution_count": null,
   "metadata": {},
   "outputs": [],
   "source": [
    "url = <FILL IN>\n",
    "dfs = pd.read_html(url)"
   ]
  },
  {
   "cell_type": "markdown",
   "metadata": {},
   "source": [
    "What did the `pd.read_html` return? Hoe many 'tables' did it collect?"
   ]
  },
  {
   "cell_type": "code",
   "execution_count": null,
   "metadata": {},
   "outputs": [],
   "source": [
    "<FILL IN>"
   ]
  },
  {
   "cell_type": "markdown",
   "metadata": {},
   "source": [
    "Use the function below to try to figure out what tables were actually collected:"
   ]
  },
  {
   "cell_type": "code",
   "execution_count": null,
   "metadata": {},
   "outputs": [],
   "source": [
    "from IPython.display import display\n",
    "from IPython.display import HTML\n",
    "\n",
    "def display_tables(dfs, max_rows=3):\n",
    "    \"\"\"\n",
    "    Display first `max_rows` of the DataFrames is dfs.\n",
    "    \n",
    "    Parameters\n",
    "    ----------\n",
    "    dfs : list with DataFrames\n",
    "        List obtained by downloading tables from Wikipedia.\n",
    "        \n",
    "    max_rows : integer\n",
    "        Number of rows to display\n",
    "    \"\"\"\n",
    "    for i, df in enumerate(dfs):\n",
    "        print('\\nTable {}\\n-------'.format(i))\n",
    "        first_rows = df.head(max_rows)\n",
    "        display(HTML(first_rows.to_html()))\n",
    "        print('  ...\\n')"
   ]
  },
  {
   "cell_type": "code",
   "execution_count": null,
   "metadata": {
    "scrolled": true
   },
   "outputs": [],
   "source": [
    "<FILL IN>"
   ]
  },
  {
   "cell_type": "markdown",
   "metadata": {},
   "source": [
    "Use the parameter `match` of `pd.read_html` to make sure only the correct tables are collected (those with the string `Titel`):"
   ]
  },
  {
   "cell_type": "code",
   "execution_count": null,
   "metadata": {
    "scrolled": true
   },
   "outputs": [],
   "source": [
    "dfs = <FILL IN>\n",
    "display_tables(dfs)"
   ]
  },
  {
   "cell_type": "markdown",
   "metadata": {},
   "source": [
    "Looking at the created DataFrame we find that the heading is incorrectly added as a row, fix that with the `header` parameter:"
   ]
  },
  {
   "cell_type": "code",
   "execution_count": null,
   "metadata": {
    "scrolled": true
   },
   "outputs": [],
   "source": [
    "dfs = <FILL IN>\n",
    "display_tables(dfs)"
   ]
  },
  {
   "cell_type": "markdown",
   "metadata": {},
   "source": [
    "Our Dutch films per year are now in a list of DataFrames. \n",
    "Instead of storing the DataFrames in a list, we want to store them in a `dict` with years as keys and DataFrames as values.\n",
    "\n",
    "Fill out the code below such that the DataFrames end up in the dict `films` with the year as key.\n",
    "First generate a list `years` with the years of our films. "
   ]
  },
  {
   "cell_type": "code",
   "execution_count": null,
   "metadata": {},
   "outputs": [],
   "source": [
    "years = <FILL IN>\n",
    "films = <FILL IN>"
   ]
  },
  {
   "cell_type": "markdown",
   "metadata": {},
   "source": [
    "## Exercise 2: Writing the Dutch films to Excel"
   ]
  },
  {
   "cell_type": "markdown",
   "metadata": {},
   "source": [
    "Someone asks you if they can get an Excel file containing the Dutch films from 2010 till now. \n",
    "They preferably want each year of films on a different sheet."
   ]
  },
  {
   "cell_type": "markdown",
   "metadata": {},
   "source": [
    "Create the requested a 'dutch_films.xlsx' file using the `ExcelWriter`:"
   ]
  },
  {
   "cell_type": "code",
   "execution_count": null,
   "metadata": {},
   "outputs": [],
   "source": [
    "filepath = <FILL IN>\n",
    "with pd.ExcelWriter(filepath) as writer:\n",
    "    for year, df in sorted(films.items()):  # note that dict are by default not key sorted\n",
    "        df.<FILL IN>"
   ]
  },
  {
   "cell_type": "markdown",
   "metadata": {},
   "source": [
    "## Exercise 3:  Reading in some cyclist data\n",
    "\n",
    "We will try to read in some bike data that lists how many people were on 7 different bike paths in Montreal, each day.\n",
    "\n",
    "Use the `head` shell command (or the `head()` function if you're on Windows) to peek at the first 3 lines of the data using the command line:"
   ]
  },
  {
   "cell_type": "code",
   "execution_count": null,
   "metadata": {
    "scrolled": true
   },
   "outputs": [],
   "source": [
    "# This might fail if you're on Windows\n",
    "!head -n 3 data/bikes.csv"
   ]
  },
  {
   "cell_type": "code",
   "execution_count": null,
   "metadata": {},
   "outputs": [],
   "source": [
    "head('data/bikes.csv', 3)"
   ]
  },
  {
   "cell_type": "markdown",
   "metadata": {},
   "source": [
    "Now it is up to you to correctly read in the file, make sure that:\n",
    "- all fields are read (use the right separator with `sep`);\n",
    "- the correct `encoding` is used (`'latin1'`);\n",
    "- the Date column is parsed as a date (not only parse the dates, also set `dayfirst=True`);\n",
    "- set `Date` as the `index_col`."
   ]
  },
  {
   "cell_type": "code",
   "execution_count": null,
   "metadata": {},
   "outputs": [],
   "source": [
    "df = <FILL IN> \n",
    "df.head()"
   ]
  }
 ],
 "metadata": {
  "anaconda-cloud": {},
  "kernelspec": {
   "display_name": "Python 3",
   "language": "python",
   "name": "python3"
  },
  "language_info": {
   "codemirror_mode": {
    "name": "ipython",
    "version": 3
   },
   "file_extension": ".py",
   "mimetype": "text/x-python",
   "name": "python",
   "nbconvert_exporter": "python",
   "pygments_lexer": "ipython3",
   "version": "3.7.7"
  }
 },
 "nbformat": 4,
 "nbformat_minor": 1
}
