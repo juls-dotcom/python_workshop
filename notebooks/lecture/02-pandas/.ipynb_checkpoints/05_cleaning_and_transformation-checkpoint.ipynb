{
 "cells": [
  {
   "cell_type": "code",
   "execution_count": 1,
   "metadata": {
    "slideshow": {
     "slide_type": "skip"
    }
   },
   "outputs": [],
   "source": [
    "import pandas as pd\n",
    "import numpy as np\n",
    "from IPython.display import HTML\n",
    "import seaborn as sns\n",
    "from matplotlib import pyplot as plt\n",
    "pd.set_option('max_colwidth',20)\n",
    "plt.style.use('fivethirtyeight')\n",
    "%matplotlib inline\n",
    "from display_functions import df_HBox"
   ]
  },
  {
   "cell_type": "markdown",
   "metadata": {
    "collapsed": true,
    "slideshow": {
     "slide_type": "slide"
    }
   },
   "source": [
    "# 5 - Cleaning and transformation"
   ]
  },
  {
   "cell_type": "markdown",
   "metadata": {
    "collapsed": true,
    "slideshow": {
     "slide_type": "slide"
    }
   },
   "source": [
    "## Outline\n",
    "\n",
    "Goal: *show how pandas can be leveraged for cleaning and transformation a dataset.*"
   ]
  },
  {
   "cell_type": "markdown",
   "metadata": {
    "slideshow": {
     "slide_type": "subslide"
    }
   },
   "source": [
    "Key topics:\n",
    "\n",
    "- Data wrangling\n",
    "- Assigning new values\n",
    "- Removing duplicate data\n",
    "- Working with missing data\n",
    "- Replacing values\n",
    "- Working with text data\n",
    "- Transformation functions\n",
    "- Function application"
   ]
  },
  {
   "cell_type": "markdown",
   "metadata": {
    "slideshow": {
     "slide_type": "slide"
    }
   },
   "source": [
    "## Data wrangling\n",
    "\n",
    "I would say that I spend about 80 percent of my time on data preparation, in other words data wrangling. How about you?"
   ]
  },
  {
   "cell_type": "markdown",
   "metadata": {
    "slideshow": {
     "slide_type": "fragment"
    }
   },
   "source": [
    "Although not always the most interesting job, it is a very important task because:\n",
    "\n",
    "- High quality datasets are the corner stone of a good analyses.\n",
    "- Even the most powerful predictive models perform badly on crappy data.\n",
    "- Getting intimate with the data pays itself back during model building."
   ]
  },
  {
   "cell_type": "markdown",
   "metadata": {
    "slideshow": {
     "slide_type": "subslide"
    }
   },
   "source": [
    "We wrangle the data until we (and our models) can make sense of it, using the following operations:\n",
    "- cleaning\n",
    "- transformation\n",
    "- reshaping\n",
    "- merging"
   ]
  },
  {
   "cell_type": "markdown",
   "metadata": {
    "slideshow": {
     "slide_type": "fragment"
    }
   },
   "source": [
    "In this lecture we focus on the first two, the latter two will be discussed in the next lecture."
   ]
  },
  {
   "cell_type": "markdown",
   "metadata": {
    "slideshow": {
     "slide_type": "slide"
    }
   },
   "source": [
    "## Assigning new values"
   ]
  },
  {
   "cell_type": "markdown",
   "metadata": {},
   "source": [
    "Data can be overwritten or added to a pandas object through assignment.\n",
    "\n",
    "We identify two main ways of setting new values:\n",
    "\n",
    "- indexing with assignment\n",
    "- chained assignment (only for DataFrame)"
   ]
  },
  {
   "cell_type": "markdown",
   "metadata": {
    "slideshow": {
     "slide_type": "fragment"
    }
   },
   "source": [
    "Next we will discuss these methods."
   ]
  },
  {
   "cell_type": "markdown",
   "metadata": {
    "slideshow": {
     "slide_type": "subslide"
    }
   },
   "source": [
    "### Indexing with assignment\n",
    "\n",
    "Assign data directly to an indexed subset."
   ]
  },
  {
   "cell_type": "markdown",
   "metadata": {
    "slideshow": {
     "slide_type": "subslide"
    }
   },
   "source": [
    "First, create a dataset:"
   ]
  },
  {
   "cell_type": "code",
   "execution_count": 2,
   "metadata": {
    "slideshow": {
     "slide_type": "-"
    }
   },
   "outputs": [
    {
     "data": {
      "text/html": [
       "<div>\n",
       "<style scoped>\n",
       "    .dataframe tbody tr th:only-of-type {\n",
       "        vertical-align: middle;\n",
       "    }\n",
       "\n",
       "    .dataframe tbody tr th {\n",
       "        vertical-align: top;\n",
       "    }\n",
       "\n",
       "    .dataframe thead th {\n",
       "        text-align: right;\n",
       "    }\n",
       "</style>\n",
       "<table border=\"1\" class=\"dataframe\">\n",
       "  <thead>\n",
       "    <tr style=\"text-align: right;\">\n",
       "      <th></th>\n",
       "      <th>A</th>\n",
       "      <th>B</th>\n",
       "      <th>C</th>\n",
       "    </tr>\n",
       "  </thead>\n",
       "  <tbody>\n",
       "    <tr>\n",
       "      <th>a</th>\n",
       "      <td>1.0</td>\n",
       "      <td>1.0</td>\n",
       "      <td>None</td>\n",
       "    </tr>\n",
       "    <tr>\n",
       "      <th>b</th>\n",
       "      <td>2.0</td>\n",
       "      <td>2.0</td>\n",
       "      <td>foo</td>\n",
       "    </tr>\n",
       "    <tr>\n",
       "      <th>c</th>\n",
       "      <td>NaN</td>\n",
       "      <td>3.0</td>\n",
       "      <td>bar</td>\n",
       "    </tr>\n",
       "  </tbody>\n",
       "</table>\n",
       "</div>"
      ],
      "text/plain": [
       "     A    B     C\n",
       "a  1.0  1.0  None\n",
       "b  2.0  2.0   foo\n",
       "c  NaN  3.0   bar"
      ]
     },
     "execution_count": 2,
     "metadata": {},
     "output_type": "execute_result"
    }
   ],
   "source": [
    "df = pd.DataFrame(\n",
    "    {'A': pd.Series([1., 2.], index=['a', 'b']),\n",
    "     'B': pd.Series([1., 2., 3.], index=['a', 'b', 'c']),\n",
    "     'C': pd.Series([None, 'foo', 'bar'], index=['a', 'b', 'c'])})\n",
    "df"
   ]
  },
  {
   "cell_type": "markdown",
   "metadata": {
    "slideshow": {
     "slide_type": "subslide"
    }
   },
   "source": [
    "Overwrite a column:"
   ]
  },
  {
   "cell_type": "code",
   "execution_count": 3,
   "metadata": {},
   "outputs": [
    {
     "data": {
      "application/vnd.jupyter.widget-view+json": {
       "model_id": "f0e8cbffdf5d4579be9c81c0f7a767ae",
       "version_major": 2,
       "version_minor": 0
      },
      "text/plain": [
       "HBox(children=(HTML(value='df<table border=\"1\" class=\"dataframe rendered_html\">\\n  <thead>\\n    <tr style=\"tex…"
      ]
     },
     "metadata": {},
     "output_type": "display_data"
    }
   ],
   "source": [
    "result = df.copy()\n",
    "result['B'] = 5\n",
    "\n",
    "df_HBox((df, result), ['df', 'result'])"
   ]
  },
  {
   "cell_type": "markdown",
   "metadata": {
    "slideshow": {
     "slide_type": "subslide"
    }
   },
   "source": [
    "Overwrite part of a row:"
   ]
  },
  {
   "cell_type": "code",
   "execution_count": 4,
   "metadata": {
    "scrolled": true
   },
   "outputs": [
    {
     "data": {
      "application/vnd.jupyter.widget-view+json": {
       "model_id": "4ad737bfaf2b4a0daccd4bc01c7b4f53",
       "version_major": 2,
       "version_minor": 0
      },
      "text/plain": [
       "HBox(children=(HTML(value='df<table border=\"1\" class=\"dataframe rendered_html\">\\n  <thead>\\n    <tr style=\"tex…"
      ]
     },
     "metadata": {},
     "output_type": "display_data"
    }
   ],
   "source": [
    "result = df.copy()\n",
    "result.loc['b', 'A':'B'] = [10, 20]\n",
    "\n",
    "df_HBox((df, result), ['df', 'result'])"
   ]
  },
  {
   "cell_type": "markdown",
   "metadata": {
    "slideshow": {
     "slide_type": "fragment"
    }
   },
   "source": [
    "Overwrite a row:"
   ]
  },
  {
   "cell_type": "code",
   "execution_count": 5,
   "metadata": {
    "scrolled": true
   },
   "outputs": [
    {
     "data": {
      "application/vnd.jupyter.widget-view+json": {
       "model_id": "80f66e9ec05c4a6a96026b66e58f9cc0",
       "version_major": 2,
       "version_minor": 0
      },
      "text/plain": [
       "HBox(children=(HTML(value='df<table border=\"1\" class=\"dataframe rendered_html\">\\n  <thead>\\n    <tr style=\"tex…"
      ]
     },
     "metadata": {},
     "output_type": "display_data"
    }
   ],
   "source": [
    "result = df.copy()\n",
    "result.iloc[2] = result.iloc[1]\n",
    "\n",
    "df_HBox((df, result), ['df', 'result'])"
   ]
  },
  {
   "cell_type": "markdown",
   "metadata": {
    "slideshow": {
     "slide_type": "subslide"
    }
   },
   "source": [
    "Set a single value:"
   ]
  },
  {
   "cell_type": "code",
   "execution_count": 6,
   "metadata": {},
   "outputs": [
    {
     "data": {
      "application/vnd.jupyter.widget-view+json": {
       "model_id": "f992167a2891457faa9ac85108fc9870",
       "version_major": 2,
       "version_minor": 0
      },
      "text/plain": [
       "HBox(children=(HTML(value='df<table border=\"1\" class=\"dataframe rendered_html\">\\n  <thead>\\n    <tr style=\"tex…"
      ]
     },
     "metadata": {},
     "output_type": "display_data"
    }
   ],
   "source": [
    "result = df.copy()\n",
    "result.iloc[0, -1] = 'baz'\n",
    "\n",
    "df_HBox((df, result), ['df', 'result'])"
   ]
  },
  {
   "cell_type": "markdown",
   "metadata": {
    "slideshow": {
     "slide_type": "fragment"
    }
   },
   "source": [
    "Set a cross-section"
   ]
  },
  {
   "cell_type": "code",
   "execution_count": 7,
   "metadata": {},
   "outputs": [
    {
     "data": {
      "application/vnd.jupyter.widget-view+json": {
       "model_id": "122b64a4743f4272bd67d414439e1e27",
       "version_major": 2,
       "version_minor": 0
      },
      "text/plain": [
       "HBox(children=(HTML(value='df<table border=\"1\" class=\"dataframe rendered_html\">\\n  <thead>\\n    <tr style=\"tex…"
      ]
     },
     "metadata": {},
     "output_type": "display_data"
    }
   ],
   "source": [
    "result = df.copy()\n",
    "result.loc['b':, :'B'] = np.random.randint(100, 1000, size=(2, 2))\n",
    "\n",
    "df_HBox((df, result), ['df', 'result'])"
   ]
  },
  {
   "cell_type": "markdown",
   "metadata": {
    "slideshow": {
     "slide_type": "subslide"
    }
   },
   "source": [
    "### Setting with expansion\n",
    "\n",
    "Perform enlargement by assigning to a **non-existent** label using on the following attributes: \n",
    "- `obj[]`\n",
    "- `obj.loc[]`"
   ]
  },
  {
   "cell_type": "markdown",
   "metadata": {
    "slideshow": {
     "slide_type": "fragment"
    }
   },
   "source": [
    "Adding a new column:"
   ]
  },
  {
   "cell_type": "code",
   "execution_count": 8,
   "metadata": {},
   "outputs": [
    {
     "data": {
      "application/vnd.jupyter.widget-view+json": {
       "model_id": "9873c59e3eed4070afee1929f62d0508",
       "version_major": 2,
       "version_minor": 0
      },
      "text/plain": [
       "HBox(children=(HTML(value='df<table border=\"1\" class=\"dataframe rendered_html\">\\n  <thead>\\n    <tr style=\"tex…"
      ]
     },
     "metadata": {},
     "output_type": "display_data"
    }
   ],
   "source": [
    "result = df.copy()\n",
    "result['D'] = result['A'] * result['B']\n",
    "\n",
    "df_HBox((df, result), ['df', 'result'])"
   ]
  },
  {
   "cell_type": "markdown",
   "metadata": {
    "slideshow": {
     "slide_type": "subslide"
    }
   },
   "source": [
    "Adding a new row and column:"
   ]
  },
  {
   "cell_type": "code",
   "execution_count": 9,
   "metadata": {},
   "outputs": [
    {
     "data": {
      "application/vnd.jupyter.widget-view+json": {
       "model_id": "67f3d0254b4d43ddaf687f90dbd2571c",
       "version_major": 2,
       "version_minor": 0
      },
      "text/plain": [
       "HBox(children=(HTML(value='df<table border=\"1\" class=\"dataframe rendered_html\">\\n  <thead>\\n    <tr style=\"tex…"
      ]
     },
     "metadata": {},
     "output_type": "display_data"
    }
   ],
   "source": [
    "result = df.copy()\n",
    "result.loc['e', 'E'] = True\n",
    "\n",
    "df_HBox((df, result), ['df', 'result'])"
   ]
  },
  {
   "cell_type": "markdown",
   "metadata": {
    "slideshow": {
     "slide_type": "subslide"
    }
   },
   "source": [
    "### Chained assignment\n",
    "\n",
    "The `obj.assign()` method allows the assignment of new data to columns. It can be used in 'method chaining' making it a very powerful method."
   ]
  },
  {
   "cell_type": "markdown",
   "metadata": {
    "slideshow": {
     "slide_type": "fragment"
    }
   },
   "source": [
    "The method can handle both callable and non-callable input; in case of callable input, it will be applied on the whole DataFrame itself."
   ]
  },
  {
   "cell_type": "markdown",
   "metadata": {
    "slideshow": {
     "slide_type": "subslide"
    }
   },
   "source": [
    "Let's apply chaining to our top questions data set:"
   ]
  },
  {
   "cell_type": "code",
   "execution_count": 10,
   "metadata": {},
   "outputs": [
    {
     "data": {
      "text/html": [
       "<div>\n",
       "<style scoped>\n",
       "    .dataframe tbody tr th:only-of-type {\n",
       "        vertical-align: middle;\n",
       "    }\n",
       "\n",
       "    .dataframe tbody tr th {\n",
       "        vertical-align: top;\n",
       "    }\n",
       "\n",
       "    .dataframe thead th {\n",
       "        text-align: right;\n",
       "    }\n",
       "</style>\n",
       "<table border=\"1\" class=\"dataframe\">\n",
       "  <thead>\n",
       "    <tr style=\"text-align: right;\">\n",
       "      <th></th>\n",
       "      <th>Titel</th>\n",
       "      <th>Regisseur</th>\n",
       "      <th>Acteurs</th>\n",
       "      <th>Genre</th>\n",
       "      <th>Bijzonderheden</th>\n",
       "      <th>Score</th>\n",
       "    </tr>\n",
       "  </thead>\n",
       "  <tbody>\n",
       "    <tr>\n",
       "      <th>0</th>\n",
       "      <td>Iep!</td>\n",
       "      <td>Ineke Houtman</td>\n",
       "      <td>Huub Stapel Joke...</td>\n",
       "      <td>Familiefilm</td>\n",
       "      <td>17 februari</td>\n",
       "      <td>3</td>\n",
       "    </tr>\n",
       "    <tr>\n",
       "      <th>1</th>\n",
       "      <td>Gangsterboys</td>\n",
       "      <td>Paul Ruven</td>\n",
       "      <td>Georgina Verbaan...</td>\n",
       "      <td>Komedie</td>\n",
       "      <td>18 februari</td>\n",
       "      <td>6</td>\n",
       "    </tr>\n",
       "  </tbody>\n",
       "</table>\n",
       "</div>"
      ],
      "text/plain": [
       "          Titel      Regisseur              Acteurs        Genre  \\\n",
       "0          Iep!  Ineke Houtman  Huub Stapel Joke...  Familiefilm   \n",
       "1  Gangsterboys     Paul Ruven  Georgina Verbaan...      Komedie   \n",
       "\n",
       "  Bijzonderheden  Score  \n",
       "0    17 februari      3  \n",
       "1    18 februari      6  "
      ]
     },
     "execution_count": 10,
     "metadata": {},
     "output_type": "execute_result"
    }
   ],
   "source": [
    "films = pd.read_excel('data/dutch_films.xlsx')\n",
    "films['Score'] = np.random.randint(1, 11, size=len(films))\n",
    "films.head(2)"
   ]
  },
  {
   "cell_type": "markdown",
   "metadata": {
    "slideshow": {
     "slide_type": "subslide"
    }
   },
   "source": [
    "Used chained assignment to add a column containing the number of genres:"
   ]
  },
  {
   "cell_type": "code",
   "execution_count": 11,
   "metadata": {
    "slideshow": {
     "slide_type": "fragment"
    }
   },
   "outputs": [
    {
     "data": {
      "image/png": "[encoded data removed]",
      "text/plain": [
       "<Figure size 432x288 with 1 Axes>"
      ]
     },
     "metadata": {},
     "output_type": "display_data"
    }
   ],
   "source": [
    "ax = (\n",
    "    films\n",
    "    .assign(num_genres=films['Genre'].str.split().str.len())\n",
    "    ['num_genres']\n",
    "    .value_counts()\n",
    "    .plot.bar()\n",
    ")\n",
    "ax.set_xlabel('# genres')\n",
    "ax.set_ylabel('# movies')\n",
    "ax.set_title('Number of genres per movie');"
   ]
  },
  {
   "cell_type": "markdown",
   "metadata": {
    "slideshow": {
     "slide_type": "subslide"
    }
   },
   "source": [
    "Let's chain a function that computes the score divided by the number of genres (yes, you are right, the result is not very informative):"
   ]
  },
  {
   "cell_type": "code",
   "execution_count": 12,
   "metadata": {},
   "outputs": [
    {
     "data": {
      "text/html": [
       "<div>\n",
       "<style scoped>\n",
       "    .dataframe tbody tr th:only-of-type {\n",
       "        vertical-align: middle;\n",
       "    }\n",
       "\n",
       "    .dataframe tbody tr th {\n",
       "        vertical-align: top;\n",
       "    }\n",
       "\n",
       "    .dataframe thead th {\n",
       "        text-align: right;\n",
       "    }\n",
       "</style>\n",
       "<table border=\"1\" class=\"dataframe\">\n",
       "  <thead>\n",
       "    <tr style=\"text-align: right;\">\n",
       "      <th></th>\n",
       "      <th>Titel</th>\n",
       "      <th>Regisseur</th>\n",
       "      <th>Acteurs</th>\n",
       "      <th>Genre</th>\n",
       "      <th>Bijzonderheden</th>\n",
       "      <th>Score</th>\n",
       "      <th>num_genres</th>\n",
       "      <th>avg_score_per_genre</th>\n",
       "    </tr>\n",
       "  </thead>\n",
       "  <tbody>\n",
       "    <tr>\n",
       "      <th>14</th>\n",
       "      <td>LelleBelle</td>\n",
       "      <td>Mischa Kamp</td>\n",
       "      <td>Anna Raadsveld B...</td>\n",
       "      <td>Romantiek Erotie...</td>\n",
       "      <td>9 oktober</td>\n",
       "      <td>7</td>\n",
       "      <td>3</td>\n",
       "      <td>2.333333</td>\n",
       "    </tr>\n",
       "    <tr>\n",
       "      <th>25</th>\n",
       "      <td>Dik Trom</td>\n",
       "      <td>Arne Toonen</td>\n",
       "      <td>Michael Nierse F...</td>\n",
       "      <td>Komedie Jeugd</td>\n",
       "      <td>8 december</td>\n",
       "      <td>4</td>\n",
       "      <td>2</td>\n",
       "      <td>2.000000</td>\n",
       "    </tr>\n",
       "    <tr>\n",
       "      <th>27</th>\n",
       "      <td>Loft</td>\n",
       "      <td>Antoinette Beumer</td>\n",
       "      <td>Barry Atsma Gijs...</td>\n",
       "      <td>Drama Thriller</td>\n",
       "      <td>16 december</td>\n",
       "      <td>8</td>\n",
       "      <td>2</td>\n",
       "      <td>4.000000</td>\n",
       "    </tr>\n",
       "  </tbody>\n",
       "</table>\n",
       "</div>"
      ],
      "text/plain": [
       "         Titel          Regisseur              Acteurs                Genre  \\\n",
       "14  LelleBelle        Mischa Kamp  Anna Raadsveld B...  Romantiek Erotie...   \n",
       "25    Dik Trom        Arne Toonen  Michael Nierse F...        Komedie Jeugd   \n",
       "27        Loft  Antoinette Beumer  Barry Atsma Gijs...       Drama Thriller   \n",
       "\n",
       "   Bijzonderheden  Score  num_genres  avg_score_per_genre  \n",
       "14      9 oktober      7           3             2.333333  \n",
       "25     8 december      4           2             2.000000  \n",
       "27    16 december      8           2             4.000000  "
      ]
     },
     "execution_count": 12,
     "metadata": {},
     "output_type": "execute_result"
    }
   ],
   "source": [
    "(\n",
    "    films\n",
    "    .assign(num_genres=films['Genre'].str.split().str.len(),\n",
    "            avg_score_per_genre=lambda x: x['Score'] / x['num_genres'])\n",
    "    .loc[lambda x: x.num_genres > 1]\n",
    ")"
   ]
  },
  {
   "cell_type": "markdown",
   "metadata": {
    "slideshow": {
     "slide_type": "slide"
    }
   },
   "source": [
    "## Removing duplicate data:\n",
    "\n",
    "It is often the case that (subsets of) the data contains duplicate entries. In some cases, these need to be removed."
   ]
  },
  {
   "cell_type": "markdown",
   "metadata": {
    "slideshow": {
     "slide_type": "subslide"
    }
   },
   "source": [
    "### Dropping duplicate entries\n",
    "The following method drops duplicate rows, optionally based on a subset:\n",
    "```python\n",
    "obj.drop_duplicates(subset=None, keep='first', inplace=False)\n",
    "```"
   ]
  },
  {
   "cell_type": "markdown",
   "metadata": {
    "slideshow": {
     "slide_type": "fragment"
    }
   },
   "source": [
    "Drop duplicate rows:"
   ]
  },
  {
   "cell_type": "code",
   "execution_count": 13,
   "metadata": {},
   "outputs": [
    {
     "data": {
      "text/html": [
       "<div>\n",
       "<style scoped>\n",
       "    .dataframe tbody tr th:only-of-type {\n",
       "        vertical-align: middle;\n",
       "    }\n",
       "\n",
       "    .dataframe tbody tr th {\n",
       "        vertical-align: top;\n",
       "    }\n",
       "\n",
       "    .dataframe thead th {\n",
       "        text-align: right;\n",
       "    }\n",
       "</style>\n",
       "<table border=\"1\" class=\"dataframe\">\n",
       "  <thead>\n",
       "    <tr style=\"text-align: right;\">\n",
       "      <th></th>\n",
       "      <th>A</th>\n",
       "      <th>B</th>\n",
       "      <th>C</th>\n",
       "    </tr>\n",
       "  </thead>\n",
       "  <tbody>\n",
       "    <tr>\n",
       "      <th>a</th>\n",
       "      <td>1.0</td>\n",
       "      <td>1.0</td>\n",
       "      <td>None</td>\n",
       "    </tr>\n",
       "    <tr>\n",
       "      <th>b</th>\n",
       "      <td>2.0</td>\n",
       "      <td>2.0</td>\n",
       "      <td>foo</td>\n",
       "    </tr>\n",
       "    <tr>\n",
       "      <th>c</th>\n",
       "      <td>NaN</td>\n",
       "      <td>3.0</td>\n",
       "      <td>bar</td>\n",
       "    </tr>\n",
       "    <tr>\n",
       "      <th>d</th>\n",
       "      <td>0.0</td>\n",
       "      <td>3.0</td>\n",
       "      <td>bar</td>\n",
       "    </tr>\n",
       "  </tbody>\n",
       "</table>\n",
       "</div>"
      ],
      "text/plain": [
       "     A    B     C\n",
       "a  1.0  1.0  None\n",
       "b  2.0  2.0   foo\n",
       "c  NaN  3.0   bar\n",
       "d  0.0  3.0   bar"
      ]
     },
     "execution_count": 13,
     "metadata": {},
     "output_type": "execute_result"
    }
   ],
   "source": [
    "df.loc['d', :] = [0, 3, 'bar']\n",
    "df"
   ]
  },
  {
   "cell_type": "code",
   "execution_count": 14,
   "metadata": {
    "slideshow": {
     "slide_type": "-"
    }
   },
   "outputs": [
    {
     "data": {
      "application/vnd.jupyter.widget-view+json": {
       "model_id": "bc8861e8ea244fd0b00231d5daf1cff8",
       "version_major": 2,
       "version_minor": 0
      },
      "text/plain": [
       "HBox(children=(HTML(value='df<table border=\"1\" class=\"dataframe rendered_html\">\\n  <thead>\\n    <tr style=\"tex…"
      ]
     },
     "metadata": {},
     "output_type": "display_data"
    }
   ],
   "source": [
    "result = df.drop_duplicates()\n",
    "\n",
    "df_HBox((df, result), ['df', 'result'])"
   ]
  },
  {
   "cell_type": "markdown",
   "metadata": {
    "slideshow": {
     "slide_type": "subslide"
    }
   },
   "source": [
    "Drop rows based on duplicates in a single column, keeping last duplicate entries: "
   ]
  },
  {
   "cell_type": "code",
   "execution_count": 15,
   "metadata": {},
   "outputs": [
    {
     "data": {
      "application/vnd.jupyter.widget-view+json": {
       "model_id": "b92965204f594568bda34cd11821cd77",
       "version_major": 2,
       "version_minor": 0
      },
      "text/plain": [
       "HBox(children=(HTML(value='df<table border=\"1\" class=\"dataframe rendered_html\">\\n  <thead>\\n    <tr style=\"tex…"
      ]
     },
     "metadata": {},
     "output_type": "display_data"
    }
   ],
   "source": [
    "result = df.drop_duplicates('B', keep='last')\n",
    "\n",
    "df_HBox((df, result), ['df', 'result'])"
   ]
  },
  {
   "cell_type": "markdown",
   "metadata": {
    "slideshow": {
     "slide_type": "fragment"
    }
   },
   "source": [
    "Dropping duplicates from a single column:"
   ]
  },
  {
   "cell_type": "code",
   "execution_count": 16,
   "metadata": {},
   "outputs": [
    {
     "data": {
      "application/vnd.jupyter.widget-view+json": {
       "model_id": "c68f642d8bc14a46a02c218156798d4e",
       "version_major": 2,
       "version_minor": 0
      },
      "text/plain": [
       "HBox(children=(HTML(value='df[\\'B\\']<div class=\"rendered_html\"><pre>a    1.0\\nb    2.0\\nc    3.0\\nd    3.0</pr…"
      ]
     },
     "metadata": {},
     "output_type": "display_data"
    }
   ],
   "source": [
    "result = df['B'].drop_duplicates()\n",
    "\n",
    "df_HBox((df['B'], result), [\"df['B']\", 'result'])"
   ]
  },
  {
   "cell_type": "markdown",
   "metadata": {
    "slideshow": {
     "slide_type": "slide"
    }
   },
   "source": [
    "## Working with missing data\n",
    "\n",
    "Definition of 'missing' as stated in the pandas docs: \n",
    "> by 'missing' we simply mean null or 'not present for whatever reason' "
   ]
  },
  {
   "cell_type": "markdown",
   "metadata": {
    "slideshow": {
     "slide_type": "fragment"
    }
   },
   "source": [
    "Depending on the type of the column or Series; missing data is be stored using different objects:\n",
    "\n",
    "- numeric (float): `np.NaN`\n",
    "- datatime: `pd.NaT`\n",
    "- object: `None`, `np.NaN` or `pd.NaT`"
   ]
  },
  {
   "cell_type": "markdown",
   "metadata": {
    "slideshow": {
     "slide_type": "subslide"
    }
   },
   "source": [
    "Note that integer and boolean types cannot store missing data; as a result the columns/Series will be upcasted:\n",
    "- boolean => `object`\n",
    "- integer => `float`"
   ]
  },
  {
   "cell_type": "code",
   "execution_count": 17,
   "metadata": {},
   "outputs": [
    {
     "name": "stdout",
     "output_type": "stream",
     "text": [
      "object\n",
      "float64\n"
     ]
    }
   ],
   "source": [
    "print(pd.Series([True, True, np.nan]).dtype)\n",
    "print(pd.Series([1, 2, 3, 4, np.nan]).dtype)"
   ]
  },
  {
   "cell_type": "markdown",
   "metadata": {
    "slideshow": {
     "slide_type": "subslide"
    }
   },
   "source": [
    "The following strategies can be used for dealing with missing data:\n",
    "\n",
    "- filtering by boolean indexing\n",
    "- directly dropping NA values\n",
    "- filling with fixed values or interpolation"
   ]
  },
  {
   "cell_type": "markdown",
   "metadata": {
    "slideshow": {
     "slide_type": "subslide"
    }
   },
   "source": [
    "### Filtering NA values\n",
    "\n",
    "The following methods return boolean vectors that mark missing or present entries:\n",
    "\n",
    "```python\n",
    "obj.isnull()\n",
    "obj.notnull()\n",
    "```"
   ]
  },
  {
   "cell_type": "markdown",
   "metadata": {
    "slideshow": {
     "slide_type": "subslide"
    }
   },
   "source": [
    "Let's generate some data:"
   ]
  },
  {
   "cell_type": "code",
   "execution_count": 18,
   "metadata": {
    "slideshow": {
     "slide_type": "-"
    }
   },
   "outputs": [
    {
     "data": {
      "text/html": [
       "<div>\n",
       "<style scoped>\n",
       "    .dataframe tbody tr th:only-of-type {\n",
       "        vertical-align: middle;\n",
       "    }\n",
       "\n",
       "    .dataframe tbody tr th {\n",
       "        vertical-align: top;\n",
       "    }\n",
       "\n",
       "    .dataframe thead th {\n",
       "        text-align: right;\n",
       "    }\n",
       "</style>\n",
       "<table border=\"1\" class=\"dataframe\">\n",
       "  <thead>\n",
       "    <tr style=\"text-align: right;\">\n",
       "      <th></th>\n",
       "      <th>one</th>\n",
       "      <th>two</th>\n",
       "      <th>three</th>\n",
       "      <th>four</th>\n",
       "      <th>five</th>\n",
       "    </tr>\n",
       "  </thead>\n",
       "  <tbody>\n",
       "    <tr>\n",
       "      <th>a</th>\n",
       "      <td>-0.010984</td>\n",
       "      <td>-0.286601</td>\n",
       "      <td>False</td>\n",
       "      <td>None</td>\n",
       "      <td>2001-01-01</td>\n",
       "    </tr>\n",
       "    <tr>\n",
       "      <th>b</th>\n",
       "      <td>NaN</td>\n",
       "      <td>NaN</td>\n",
       "      <td>NaN</td>\n",
       "      <td>NaN</td>\n",
       "      <td>NaT</td>\n",
       "    </tr>\n",
       "    <tr>\n",
       "      <th>c</th>\n",
       "      <td>1.302769</td>\n",
       "      <td>0.708094</td>\n",
       "      <td>True</td>\n",
       "      <td>baz</td>\n",
       "      <td>2002-01-01</td>\n",
       "    </tr>\n",
       "    <tr>\n",
       "      <th>d</th>\n",
       "      <td>-0.168252</td>\n",
       "      <td>0.145826</td>\n",
       "      <td>False</td>\n",
       "      <td>baz</td>\n",
       "      <td>2003-01-01</td>\n",
       "    </tr>\n",
       "  </tbody>\n",
       "</table>\n",
       "</div>"
      ],
      "text/plain": [
       "        one       two  three  four       five\n",
       "a -0.010984 -0.286601  False  None 2001-01-01\n",
       "b       NaN       NaN    NaN   NaN        NaT\n",
       "c  1.302769  0.708094   True   baz 2002-01-01\n",
       "d -0.168252  0.145826  False   baz 2003-01-01"
      ]
     },
     "execution_count": 18,
     "metadata": {},
     "output_type": "execute_result"
    }
   ],
   "source": [
    "df = pd.DataFrame(np.random.randn(3, 2), index=['a', 'c', 'd'],\n",
    "                  columns=['one', 'two'])\n",
    "df['three'] = df['one'] > 0\n",
    "df['four'] = 'baz'\n",
    "df.loc['a', 'four'] = None\n",
    "df['five'] = pd.date_range('2001', '2003', freq='AS')\n",
    "df = df.reindex(list('abcd'))\n",
    "df"
   ]
  },
  {
   "cell_type": "markdown",
   "metadata": {
    "slideshow": {
     "slide_type": "subslide"
    }
   },
   "source": [
    "Show values in DataFrame that are NA:"
   ]
  },
  {
   "cell_type": "code",
   "execution_count": 19,
   "metadata": {},
   "outputs": [
    {
     "data": {
      "application/vnd.jupyter.widget-view+json": {
       "model_id": "70863fc9440d4a838d1718005c3fa063",
       "version_major": 2,
       "version_minor": 0
      },
      "text/plain": [
       "HBox(children=(HTML(value='df<table border=\"1\" class=\"dataframe rendered_html\">\\n  <thead>\\n    <tr style=\"tex…"
      ]
     },
     "metadata": {},
     "output_type": "display_data"
    }
   ],
   "source": [
    "result = df.isnull()\n",
    "\n",
    "df_HBox((df, result), ['df', 'result'])"
   ]
  },
  {
   "cell_type": "markdown",
   "metadata": {
    "slideshow": {
     "slide_type": "subslide"
    }
   },
   "source": [
    "Count the rows that have one or more NA values:"
   ]
  },
  {
   "cell_type": "code",
   "execution_count": 20,
   "metadata": {},
   "outputs": [
    {
     "data": {
      "text/plain": [
       "2"
      ]
     },
     "execution_count": 20,
     "metadata": {},
     "output_type": "execute_result"
    }
   ],
   "source": [
    "df.isnull().any(axis=1).sum()"
   ]
  },
  {
   "cell_type": "markdown",
   "metadata": {
    "slideshow": {
     "slide_type": "fragment"
    }
   },
   "source": [
    "Compute the fill factor per column:"
   ]
  },
  {
   "cell_type": "code",
   "execution_count": 21,
   "metadata": {},
   "outputs": [
    {
     "data": {
      "text/plain": [
       "one      0.75\n",
       "two      0.75\n",
       "three    0.75\n",
       "four     0.50\n",
       "five     0.75\n",
       "dtype: float64"
      ]
     },
     "execution_count": 21,
     "metadata": {},
     "output_type": "execute_result"
    }
   ],
   "source": [
    "df.notnull().sum() / len(df)"
   ]
  },
  {
   "cell_type": "markdown",
   "metadata": {
    "slideshow": {
     "slide_type": "subslide"
    }
   },
   "source": [
    "Note that regular equality comparison **cannot** be used selecting NA values:"
   ]
  },
  {
   "cell_type": "code",
   "execution_count": 22,
   "metadata": {
    "scrolled": true
   },
   "outputs": [
    {
     "data": {
      "text/plain": [
       "a    None\n",
       "b     NaN\n",
       "c     baz\n",
       "d     baz\n",
       "Name: four, dtype: object"
      ]
     },
     "execution_count": 22,
     "metadata": {},
     "output_type": "execute_result"
    }
   ],
   "source": [
    "df['four']"
   ]
  },
  {
   "cell_type": "code",
   "execution_count": 23,
   "metadata": {
    "scrolled": true,
    "slideshow": {
     "slide_type": "fragment"
    }
   },
   "outputs": [
    {
     "data": {
      "text/plain": [
       "a    False\n",
       "b    False\n",
       "c    False\n",
       "d    False\n",
       "Name: four, dtype: bool"
      ]
     },
     "execution_count": 23,
     "metadata": {},
     "output_type": "execute_result"
    }
   ],
   "source": [
    "df['four'] == None"
   ]
  },
  {
   "cell_type": "code",
   "execution_count": 24,
   "metadata": {
    "scrolled": true,
    "slideshow": {
     "slide_type": "fragment"
    }
   },
   "outputs": [
    {
     "data": {
      "text/plain": [
       "a    False\n",
       "b    False\n",
       "c    False\n",
       "d    False\n",
       "Name: four, dtype: bool"
      ]
     },
     "execution_count": 24,
     "metadata": {},
     "output_type": "execute_result"
    }
   ],
   "source": [
    "df['four'] == np.NaN"
   ]
  },
  {
   "cell_type": "markdown",
   "metadata": {
    "slideshow": {
     "slide_type": "subslide"
    }
   },
   "source": [
    "### Dropping NA values\n",
    "The following method drops rows/entries with NA values, optionally based on a subset:\n",
    "```python\n",
    "obj.dropna()\n",
    "```"
   ]
  },
  {
   "cell_type": "markdown",
   "metadata": {
    "slideshow": {
     "slide_type": "fragment"
    }
   },
   "source": [
    "Drop rows with 'any' NA value:"
   ]
  },
  {
   "cell_type": "code",
   "execution_count": 25,
   "metadata": {
    "scrolled": true
   },
   "outputs": [
    {
     "data": {
      "application/vnd.jupyter.widget-view+json": {
       "model_id": "820cddae021e4e739f7f17f542500341",
       "version_major": 2,
       "version_minor": 0
      },
      "text/plain": [
       "HBox(children=(HTML(value='df<table border=\"1\" class=\"dataframe rendered_html\">\\n  <thead>\\n    <tr style=\"tex…"
      ]
     },
     "metadata": {},
     "output_type": "display_data"
    }
   ],
   "source": [
    "result = df.dropna(how='any')\n",
    "\n",
    "df_HBox((df, result), ['df', 'result'])"
   ]
  },
  {
   "cell_type": "markdown",
   "metadata": {
    "slideshow": {
     "slide_type": "subslide"
    }
   },
   "source": [
    "Drop rows with 'all' NA values:"
   ]
  },
  {
   "cell_type": "code",
   "execution_count": 26,
   "metadata": {},
   "outputs": [
    {
     "data": {
      "application/vnd.jupyter.widget-view+json": {
       "model_id": "4d64ca0a8f264d228a2935bd89ab1a0c",
       "version_major": 2,
       "version_minor": 0
      },
      "text/plain": [
       "HBox(children=(HTML(value='df<table border=\"1\" class=\"dataframe rendered_html\">\\n  <thead>\\n    <tr style=\"tex…"
      ]
     },
     "metadata": {},
     "output_type": "display_data"
    }
   ],
   "source": [
    "result = df.dropna(how='all')\n",
    "\n",
    "df_HBox((df, result), ['df', 'result'])"
   ]
  },
  {
   "cell_type": "markdown",
   "metadata": {
    "slideshow": {
     "slide_type": "subslide"
    }
   },
   "source": [
    "Keep only columns with at least 3 non-NA values:"
   ]
  },
  {
   "cell_type": "code",
   "execution_count": 27,
   "metadata": {},
   "outputs": [
    {
     "data": {
      "application/vnd.jupyter.widget-view+json": {
       "model_id": "91e16405cbc14e7dbe53f1112a3671fd",
       "version_major": 2,
       "version_minor": 0
      },
      "text/plain": [
       "HBox(children=(HTML(value='df<table border=\"1\" class=\"dataframe rendered_html\">\\n  <thead>\\n    <tr style=\"tex…"
      ]
     },
     "metadata": {},
     "output_type": "display_data"
    }
   ],
   "source": [
    "result = df.dropna(axis=1, thresh=3)\n",
    "\n",
    "df_HBox((df, result), ['df', 'result'])"
   ]
  },
  {
   "cell_type": "markdown",
   "metadata": {
    "slideshow": {
     "slide_type": "subslide"
    }
   },
   "source": [
    "### Filling NA values\n",
    "The `obj.fillna()` method can be used to fill NA values:\n",
    "```python\n",
    "obj.fillna(value=None, method=None, axis=None, \n",
    "           inplace=False, limit=None, \n",
    "           downcast=None)\n",
    "```"
   ]
  },
  {
   "cell_type": "markdown",
   "metadata": {
    "slideshow": {
     "slide_type": "subslide"
    }
   },
   "source": [
    "Replace NA values with a value:"
   ]
  },
  {
   "cell_type": "code",
   "execution_count": 28,
   "metadata": {},
   "outputs": [
    {
     "data": {
      "application/vnd.jupyter.widget-view+json": {
       "model_id": "a17af9ebc1884b5999aef02841bad78d",
       "version_major": 2,
       "version_minor": 0
      },
      "text/plain": [
       "HBox(children=(HTML(value='df<table border=\"1\" class=\"dataframe rendered_html\">\\n  <thead>\\n    <tr style=\"tex…"
      ]
     },
     "metadata": {},
     "output_type": "display_data"
    }
   ],
   "source": [
    "result = df.fillna(0)\n",
    "\n",
    "df_HBox((df, result), ['df', 'result'])"
   ]
  },
  {
   "cell_type": "markdown",
   "metadata": {
    "slideshow": {
     "slide_type": "subslide"
    }
   },
   "source": [
    "Choosing a fill method:\n",
    "<table style=\"border-collapse:collapse;border-spacing:0\"><tr><th style=\"font-family:Arial, sans-serif;font-size:18px;font-weight:bold;padding:5px 5px;border-style:solid;border-width:1px;overflow:hidden;word-break:normal;vertical-align:top\">method</th><th style=\"font-family:Arial, sans-serif;font-size:18px;font-weight:bold;padding:5px 5px;border-style:solid;border-width:1px;overflow:hidden;word-break:normal;vertical-align:top\">action</th></tr><tr><td style=\"font-family:Arial, sans-serif;font-size:18px;padding:5px 5px;border-style:solid;border-width:1px;overflow:hidden;word-break:normal;vertical-align:top\">`pad` / `ffill`</td><td style=\"font-family:Arial, sans-serif;font-size:18px;padding:5px 5px;border-style:solid;border-width:1px;overflow:hidden;word-break:normal;vertical-align:top\">Fill values forward.</td></tr><tr><td style=\"font-family:Arial, sans-serif;font-size:18px;padding:5px 5px;border-style:solid;border-width:1px;overflow:hidden;word-break:normal;vertical-align:top\">`bfill` / `backfill`</td><td style=\"font-family:Arial, sans-serif;font-size:18px;padding:5px 5px;border-style:solid;border-width:1px;overflow:hidden;word-break:normal;vertical-align:top\">Fill values backward.</td></tr></table>"
   ]
  },
  {
   "cell_type": "markdown",
   "metadata": {
    "slideshow": {
     "slide_type": "subslide"
    }
   },
   "source": [
    "### Interpolation\n",
    "The following method can be used to fill NA values by interpolation:\n",
    "```python\n",
    "obj.interpolate(method='linear', axis=0, \n",
    "                limit=None, inplace=False, \n",
    "                limit_direction='forward', \n",
    "                downcast=None)\n",
    "```"
   ]
  },
  {
   "cell_type": "markdown",
   "metadata": {
    "slideshow": {
     "slide_type": "subslide"
    }
   },
   "source": [
    "Let's create a timeseries:"
   ]
  },
  {
   "cell_type": "code",
   "execution_count": 29,
   "metadata": {},
   "outputs": [
    {
     "data": {
      "image/png": "[encoded data removed]",
      "text/plain": [
       "<Figure size 432x288 with 1 Axes>"
      ]
     },
     "metadata": {},
     "output_type": "display_data"
    }
   ],
   "source": [
    "ts = pd.Series(np.random.randint(-1,3,size=100).cumsum(),\n",
    "               index=pd.date_range('2012-01-01', periods=100))\n",
    "ts[30:35] = np.NaN\n",
    "ts[50:60] = np.NaN\n",
    "ts.plot();"
   ]
  },
  {
   "cell_type": "markdown",
   "metadata": {
    "slideshow": {
     "slide_type": "subslide"
    }
   },
   "source": [
    "Filling NA values with different interpolation methods:"
   ]
  },
  {
   "cell_type": "code",
   "execution_count": 30,
   "metadata": {},
   "outputs": [
    {
     "data": {
      "image/png": "[encoded data removed]",
      "text/plain": [
       "<Figure size 432x288 with 1 Axes>"
      ]
     },
     "metadata": {},
     "output_type": "display_data"
    }
   ],
   "source": [
    "ts.interpolate(method='linear').plot(label='linear', legend=True, alpha=.5)\n",
    "ts.interpolate(method='quadratic').plot(label='quadratic', legend=True, alpha=.5)\n",
    "ts.interpolate(method='spline', order=3).plot(label='spline', legend=True, alpha=.5);"
   ]
  },
  {
   "cell_type": "markdown",
   "metadata": {
    "slideshow": {
     "slide_type": "slide"
    }
   },
   "source": [
    "## Replacing values"
   ]
  },
  {
   "cell_type": "markdown",
   "metadata": {},
   "source": [
    "Besides replacing the NA values in the data, we often also want to replace other sets of values."
   ]
  },
  {
   "cell_type": "markdown",
   "metadata": {
    "slideshow": {
     "slide_type": "fragment"
    }
   },
   "source": [
    "Replacing a set of values can be conveniently done using the following strategies:\n",
    "\n",
    "- replacing through boolean indexing\n",
    "- conditional replacement of values\n",
    "- generic replacement of values"
   ]
  },
  {
   "cell_type": "markdown",
   "metadata": {
    "slideshow": {
     "slide_type": "subslide"
    }
   },
   "source": [
    "### Conditional replacement\n",
    "The following methods can be used to perform conditional replacement of values:\n",
    "```python\n",
    "obj.where(cond, other=nan, inplace=False, \n",
    "          axis=None, level=None, \n",
    "          try_cast=False, raise_on_error=True)\n",
    "\n",
    "obj.mask(cond, other=nan, inplace=False, axis=None,\n",
    "         level=None, try_cast=False, \n",
    "         raise_on_error=True)\n",
    "```"
   ]
  },
  {
   "cell_type": "markdown",
   "metadata": {
    "slideshow": {
     "slide_type": "subslide"
    }
   },
   "source": [
    "Keep positive values set others to min infinity:"
   ]
  },
  {
   "cell_type": "code",
   "execution_count": 31,
   "metadata": {},
   "outputs": [
    {
     "data": {
      "application/vnd.jupyter.widget-view+json": {
       "model_id": "0ff0816204274edfb38da927bd62291e",
       "version_major": 2,
       "version_minor": 0
      },
      "text/plain": [
       "HBox(children=(HTML(value='df<table border=\"1\" class=\"dataframe rendered_html\">\\n  <thead>\\n    <tr style=\"tex…"
      ]
     },
     "metadata": {},
     "output_type": "display_data"
    }
   ],
   "source": [
    "df = pd.DataFrame(np.random.randn(3, 4)*5, \n",
    "                  columns=list('ABCD'))\n",
    "result = df.where(df > 0, other=-np.inf)\n",
    "\n",
    "df_HBox((df, result), ['df', 'result'])"
   ]
  },
  {
   "cell_type": "markdown",
   "metadata": {
    "slideshow": {
     "slide_type": "subslide"
    }
   },
   "source": [
    "Keep negative values, reverse sign of others:"
   ]
  },
  {
   "cell_type": "code",
   "execution_count": 32,
   "metadata": {},
   "outputs": [
    {
     "data": {
      "application/vnd.jupyter.widget-view+json": {
       "model_id": "aa0609a51b0f412b8cd91c5cc1378223",
       "version_major": 2,
       "version_minor": 0
      },
      "text/plain": [
       "HBox(children=(HTML(value='df<table border=\"1\" class=\"dataframe rendered_html\">\\n  <thead>\\n    <tr style=\"tex…"
      ]
     },
     "metadata": {},
     "output_type": "display_data"
    }
   ],
   "source": [
    "result = df.where(df < 0, other=-df)\n",
    "\n",
    "df_HBox((df, result), ['df', 'result'])"
   ]
  },
  {
   "cell_type": "markdown",
   "metadata": {
    "slideshow": {
     "slide_type": "fragment"
    }
   },
   "source": [
    "Replace values with text denoting their sign:"
   ]
  },
  {
   "cell_type": "code",
   "execution_count": 33,
   "metadata": {},
   "outputs": [
    {
     "data": {
      "application/vnd.jupyter.widget-view+json": {
       "model_id": "3fe10eead7c24bee9c76a176fcf093dd",
       "version_major": 2,
       "version_minor": 0
      },
      "text/plain": [
       "HBox(children=(HTML(value='df<table border=\"1\" class=\"dataframe rendered_html\">\\n  <thead>\\n    <tr style=\"tex…"
      ]
     },
     "metadata": {},
     "output_type": "display_data"
    }
   ],
   "source": [
    "result = df.mask(df > 0, 'Pos').mask(df <= 0, 'Neg')\n",
    "\n",
    "df_HBox((df, result), ['df', 'result'])"
   ]
  },
  {
   "cell_type": "markdown",
   "metadata": {
    "slideshow": {
     "slide_type": "slide"
    }
   },
   "source": [
    "## Working with text data\n",
    "\n",
    "Series and Index objects are equipped with a set of string processing methods. \n",
    "\n",
    "These methods make it easy to operate on each element of a 'string array'.\n",
    "\n",
    "Also, these methods exclude NA values automatically, making them very powerful!"
   ]
  },
  {
   "cell_type": "markdown",
   "metadata": {
    "slideshow": {
     "slide_type": "fragment"
    }
   },
   "source": [
    "We have a very large number of string function at our disposal:"
   ]
  },
  {
   "cell_type": "markdown",
   "metadata": {
    "slideshow": {
     "slide_type": "subslide"
    }
   },
   "source": [
    "<table style=\"border-collapse:collapse;border-spacing:0\"><tr><th style=\"font-family:Arial, sans-serif;font-size:18px;font-weight:bold;padding:5px 5px;border-style:solid;border-width:1px;overflow:hidden;word-break:normal;vertical-align:top\">Method</th><th style=\"font-family:Arial, sans-serif;font-size:18px;font-weight:bold;padding:5px 5px;border-style:solid;border-width:1px;overflow:hidden;word-break:normal;vertical-align:top\">Description</th></tr><tr><td style=\"font-family:Arial, sans-serif;font-size:18px;padding:5px 5px;border-style:solid;border-width:1px;overflow:hidden;word-break:normal;vertical-align:top\">cat()</td><td style=\"font-family:Arial, sans-serif;font-size:18px;padding:5px 5px;border-style:solid;border-width:1px;overflow:hidden;word-break:normal;vertical-align:top\">Concatenate strings</td></tr><tr><td style=\"font-family:Arial, sans-serif;font-size:18px;padding:5px 5px;border-style:solid;border-width:1px;overflow:hidden;word-break:normal;vertical-align:top\">split()</td><td style=\"font-family:Arial, sans-serif;font-size:18px;padding:5px 5px;border-style:solid;border-width:1px;overflow:hidden;word-break:normal;vertical-align:top\">Split strings on delimiter</td></tr><tr><td style=\"font-family:Arial, sans-serif;font-size:18px;padding:5px 5px;border-style:solid;border-width:1px;overflow:hidden;word-break:normal;vertical-align:top\">rsplit()</td><td style=\"font-family:Arial, sans-serif;font-size:18px;padding:5px 5px;border-style:solid;border-width:1px;overflow:hidden;word-break:normal;vertical-align:top\">Split strings on delimiter working from the end of the string</td></tr><tr><td style=\"font-family:Arial, sans-serif;font-size:18px;padding:5px 5px;border-style:solid;border-width:1px;overflow:hidden;word-break:normal;vertical-align:top\">get()</td><td style=\"font-family:Arial, sans-serif;font-size:18px;padding:5px 5px;border-style:solid;border-width:1px;overflow:hidden;word-break:normal;vertical-align:top\">Index into each element (retrieve i-th element)</td></tr><tr><td style=\"font-family:Arial, sans-serif;font-size:18px;padding:5px 5px;border-style:solid;border-width:1px;overflow:hidden;word-break:normal;vertical-align:top\">join()</td><td style=\"font-family:Arial, sans-serif;font-size:18px;padding:5px 5px;border-style:solid;border-width:1px;overflow:hidden;word-break:normal;vertical-align:top\">Join strings in each element of the Series with passed separator</td></tr><tr><td style=\"font-family:Arial, sans-serif;font-size:18px;padding:5px 5px;border-style:solid;border-width:1px;overflow:hidden;word-break:normal;vertical-align:top\">get_dummies()</td><td style=\"font-family:Arial, sans-serif;font-size:18px;padding:5px 5px;border-style:solid;border-width:1px;overflow:hidden;word-break:normal;vertical-align:top\">Split strings on the delimiter returning DataFrame of dummy variables</td></tr><tr><td style=\"font-family:Arial, sans-serif;font-size:18px;padding:5px 5px;border-style:solid;border-width:1px;overflow:hidden;word-break:normal;vertical-align:top\">contains()</td><td style=\"font-family:Arial, sans-serif;font-size:18px;padding:5px 5px;border-style:solid;border-width:1px;overflow:hidden;word-break:normal;vertical-align:top\">Return boolean array if each string contains pattern/regex</td></tr><tr><td style=\"font-family:Arial, sans-serif;font-size:18px;padding:5px 5px;border-style:solid;border-width:1px;overflow:hidden;word-break:normal;vertical-align:top\">replace()</td><td style=\"font-family:Arial, sans-serif;font-size:18px;padding:5px 5px;border-style:solid;border-width:1px;overflow:hidden;word-break:normal;vertical-align:top\">Replace occurrences of pattern/regex with some other string</td></tr><tr><td style=\"font-family:Arial, sans-serif;font-size:18px;padding:5px 5px;border-style:solid;border-width:1px;overflow:hidden;word-break:normal;vertical-align:top\">repeat()</td><td style=\"font-family:Arial, sans-serif;font-size:18px;padding:5px 5px;border-style:solid;border-width:1px;overflow:hidden;word-break:normal;vertical-align:top\">Duplicate values (`s.str.repeat(3)` equivalent to `x * 3`)</td></tr><tr><td style=\"font-family:Arial, sans-serif;font-size:18px;padding:5px 5px;border-style:solid;border-width:1px;overflow:hidden;word-break:normal;vertical-align:top\">pad()</td><td style=\"font-family:Arial, sans-serif;font-size:18px;padding:5px 5px;border-style:solid;border-width:1px;overflow:hidden;word-break:normal;vertical-align:top\">Add whitespace to left, right, or both sides of strings</td></tr><tr><td style=\"font-family:Arial, sans-serif;font-size:18px;padding:5px 5px;border-style:solid;border-width:1px;overflow:hidden;word-break:normal;vertical-align:top\">center()</td><td style=\"font-family:Arial, sans-serif;font-size:18px;padding:5px 5px;border-style:solid;border-width:1px;overflow:hidden;word-break:normal;vertical-align:top\">Equivalent to `str.center`</td></tr><tr><td style=\"font-family:Arial, sans-serif;font-size:18px;padding:5px 5px;border-style:solid;border-width:1px;overflow:hidden;word-break:normal;vertical-align:top\">ljust()</td><td style=\"font-family:Arial, sans-serif;font-size:18px;padding:5px 5px;border-style:solid;border-width:1px;overflow:hidden;word-break:normal;vertical-align:top\">Equivalent to `str.ljust`</td></tr><tr><td style=\"font-family:Arial, sans-serif;font-size:18px;padding:5px 5px;border-style:solid;border-width:1px;overflow:hidden;word-break:normal;vertical-align:top\">rjust()</td><td style=\"font-family:Arial, sans-serif;font-size:18px;padding:5px 5px;border-style:solid;border-width:1px;overflow:hidden;word-break:normal;vertical-align:top\">Equivalent to `str.rjust`</td></tr><tr><td style=\"font-family:Arial, sans-serif;font-size:18px;padding:5px 5px;border-style:solid;border-width:1px;overflow:hidden;word-break:normal;vertical-align:top\">zfill()</td><td style=\"font-family:Arial, sans-serif;font-size:18px;padding:5px 5px;border-style:solid;border-width:1px;overflow:hidden;word-break:normal;vertical-align:top\">Equivalent to `str.zfill`</td></tr><tr><td style=\"font-family:Arial, sans-serif;font-size:18px;padding:5px 5px;border-style:solid;border-width:1px;overflow:hidden;word-break:normal;vertical-align:top\">wrap()</td><td style=\"font-family:Arial, sans-serif;font-size:18px;padding:5px 5px;border-style:solid;border-width:1px;overflow:hidden;word-break:normal;vertical-align:top\">Split long strings into lines with length less than a given width</td></tr></table>"
   ]
  },
  {
   "cell_type": "markdown",
   "metadata": {
    "slideshow": {
     "slide_type": "subslide"
    }
   },
   "source": [
    "<table style=\"border-collapse:collapse;border-spacing:0\"><tr><th style=\"font-family:Arial, sans-serif;font-size:18px;font-weight:bold;padding:5px 5px;border-style:solid;border-width:1px;overflow:hidden;word-break:normal;vertical-align:top\">Method</th><th style=\"font-family:Arial, sans-serif;font-size:18px;font-weight:bold;padding:5px 5px;border-style:solid;border-width:1px;overflow:hidden;word-break:normal;vertical-align:top\">Description</th></tr><tr><td style=\"font-family:Arial, sans-serif;font-size:18px;padding:5px 5px;border-style:solid;border-width:1px;overflow:hidden;word-break:normal;vertical-align:top\">extract()</td><td style=\"font-family:Arial, sans-serif;font-size:18px;padding:5px 5px;border-style:solid;border-width:1px;overflow:hidden;word-break:normal;vertical-align:top\">Call `re.search` on each element, returning DataFrame with one <br>row for each element and one column for each regex capture group</td></tr><tr><td style=\"font-family:Arial, sans-serif;font-size:18px;padding:5px 5px;border-style:solid;border-width:1px;overflow:hidden;word-break:normal;vertical-align:top\">extractall()</td><td style=\"font-family:Arial, sans-serif;font-size:18px;padding:5px 5px;border-style:solid;border-width:1px;overflow:hidden;word-break:normal;vertical-align:top\">Call `re.findall` on each element, returning DataFrame with one <br>row for each match and one column for each regex capture group</td></tr><tr><td style=\"font-family:Arial, sans-serif;font-size:18px;padding:5px 5px;border-style:solid;border-width:1px;overflow:hidden;word-break:normal;vertical-align:top\">slice()</td><td style=\"font-family:Arial, sans-serif;font-size:18px;padding:5px 5px;border-style:solid;border-width:1px;overflow:hidden;word-break:normal;vertical-align:top\">Slice each string in the Series</td></tr><tr><td style=\"font-family:Arial, sans-serif;font-size:18px;padding:5px 5px;border-style:solid;border-width:1px;overflow:hidden;word-break:normal;vertical-align:top\">slice_replace()</td><td style=\"font-family:Arial, sans-serif;font-size:18px;padding:5px 5px;border-style:solid;border-width:1px;overflow:hidden;word-break:normal;vertical-align:top\">Replace slice in each string with passed value</td></tr><tr><td style=\"font-family:Arial, sans-serif;font-size:18px;padding:5px 5px;border-style:solid;border-width:1px;overflow:hidden;word-break:normal;vertical-align:top\">count()</td><td style=\"font-family:Arial, sans-serif;font-size:18px;padding:5px 5px;border-style:solid;border-width:1px;overflow:hidden;word-break:normal;vertical-align:top\">Count occurrences of pattern</td></tr><tr><td style=\"font-family:Arial, sans-serif;font-size:18px;padding:5px 5px;border-style:solid;border-width:1px;overflow:hidden;word-break:normal;vertical-align:top\">startswith()</td><td style=\"font-family:Arial, sans-serif;font-size:18px;padding:5px 5px;border-style:solid;border-width:1px;overflow:hidden;word-break:normal;vertical-align:top\">Equivalent to `str.startswith(pat)` for each element</td></tr><tr><td style=\"font-family:Arial, sans-serif;font-size:18px;padding:5px 5px;border-style:solid;border-width:1px;overflow:hidden;word-break:normal;vertical-align:top\">endswith()</td><td style=\"font-family:Arial, sans-serif;font-size:18px;padding:5px 5px;border-style:solid;border-width:1px;overflow:hidden;word-break:normal;vertical-align:top\">Equivalent to `str.endswith(pat)` for each element</td></tr><tr><td style=\"font-family:Arial, sans-serif;font-size:18px;padding:5px 5px;border-style:solid;border-width:1px;overflow:hidden;word-break:normal;vertical-align:top\">findall()</td><td style=\"font-family:Arial, sans-serif;font-size:18px;padding:5px 5px;border-style:solid;border-width:1px;overflow:hidden;word-break:normal;vertical-align:top\">Compute list of all occurrences of pattern/regex for each string</td></tr><tr><td style=\"font-family:Arial, sans-serif;font-size:18px;padding:5px 5px;border-style:solid;border-width:1px;overflow:hidden;word-break:normal;vertical-align:top\">match()</td><td style=\"font-family:Arial, sans-serif;font-size:18px;padding:5px 5px;border-style:solid;border-width:1px;overflow:hidden;word-break:normal;vertical-align:top\">Call `re.match` on each element, returning matched groups as list</td></tr><tr><td style=\"font-family:Arial, sans-serif;font-size:18px;padding:5px 5px;border-style:solid;border-width:1px;overflow:hidden;word-break:normal;vertical-align:top\">len()</td><td style=\"font-family:Arial, sans-serif;font-size:18px;padding:5px 5px;border-style:solid;border-width:1px;overflow:hidden;word-break:normal;vertical-align:top\">Compute string lengths</td></tr><tr><td style=\"font-family:Arial, sans-serif;font-size:18px;padding:5px 5px;border-style:solid;border-width:1px;overflow:hidden;word-break:normal;vertical-align:top\">strip()</td><td style=\"font-family:Arial, sans-serif;font-size:18px;padding:5px 5px;border-style:solid;border-width:1px;overflow:hidden;word-break:normal;vertical-align:top\">Equivalent to `str.strip`</td></tr><tr><td style=\"font-family:Arial, sans-serif;font-size:18px;padding:5px 5px;border-style:solid;border-width:1px;overflow:hidden;word-break:normal;vertical-align:top\">rstrip()</td><td style=\"font-family:Arial, sans-serif;font-size:18px;padding:5px 5px;border-style:solid;border-width:1px;overflow:hidden;word-break:normal;vertical-align:top\">Equivalent to `str.rstrip`</td></tr><tr><td style=\"font-family:Arial, sans-serif;font-size:18px;padding:5px 5px;border-style:solid;border-width:1px;overflow:hidden;word-break:normal;vertical-align:top\">lstrip()</td><td style=\"font-family:Arial, sans-serif;font-size:18px;padding:5px 5px;border-style:solid;border-width:1px;overflow:hidden;word-break:normal;vertical-align:top\">Equivalent to `str.lstrip`</td></tr><tr><td style=\"font-family:Arial, sans-serif;font-size:18px;padding:5px 5px;border-style:solid;border-width:1px;overflow:hidden;word-break:normal;vertical-align:top\">partition()</td><td style=\"font-family:Arial, sans-serif;font-size:18px;padding:5px 5px;border-style:solid;border-width:1px;overflow:hidden;word-break:normal;vertical-align:top\">Equivalent to `str.partition`</td></tr><tr><td style=\"font-family:Arial, sans-serif;font-size:18px;padding:5px 5px;border-style:solid;border-width:1px;overflow:hidden;word-break:normal;vertical-align:top\">rpartition()</td><td style=\"font-family:Arial, sans-serif;font-size:18px;padding:5px 5px;border-style:solid;border-width:1px;overflow:hidden;word-break:normal;vertical-align:top\">Equivalent to `str.rpartition`</td></tr></table>"
   ]
  },
  {
   "cell_type": "markdown",
   "metadata": {
    "slideshow": {
     "slide_type": "subslide"
    }
   },
   "source": [
    "<table style=\"border-collapse:collapse;border-spacing:0\"><tr><th style=\"font-family:Arial, sans-serif;font-size:18px;font-weight:bold;padding:5px 5px;border-style:solid;border-width:1px;overflow:hidden;word-break:normal;vertical-align:top\">Method</th><th style=\"font-family:Arial, sans-serif;font-size:18px;font-weight:bold;padding:5px 5px;border-style:solid;border-width:1px;overflow:hidden;word-break:normal;vertical-align:top\">Description</th></tr><tr><td style=\"font-family:Arial, sans-serif;font-size:18px;padding:5px 5px;border-style:solid;border-width:1px;overflow:hidden;word-break:normal;vertical-align:top\">lower()</td><td style=\"font-family:Arial, sans-serif;font-size:18px;padding:5px 5px;border-style:solid;border-width:1px;overflow:hidden;word-break:normal;vertical-align:top\">Equivalent to `str.lower`</td></tr><tr><td style=\"font-family:Arial, sans-serif;font-size:18px;padding:5px 5px;border-style:solid;border-width:1px;overflow:hidden;word-break:normal;vertical-align:top\">upper()</td><td style=\"font-family:Arial, sans-serif;font-size:18px;padding:5px 5px;border-style:solid;border-width:1px;overflow:hidden;word-break:normal;vertical-align:top\">Equivalent to `str.upper`</td></tr><tr><td style=\"font-family:Arial, sans-serif;font-size:18px;padding:5px 5px;border-style:solid;border-width:1px;overflow:hidden;word-break:normal;vertical-align:top\">find()</td><td style=\"font-family:Arial, sans-serif;font-size:18px;padding:5px 5px;border-style:solid;border-width:1px;overflow:hidden;word-break:normal;vertical-align:top\">Equivalent to `str.find`</td></tr><tr><td style=\"font-family:Arial, sans-serif;font-size:18px;padding:5px 5px;border-style:solid;border-width:1px;overflow:hidden;word-break:normal;vertical-align:top\">rfind()</td><td style=\"font-family:Arial, sans-serif;font-size:18px;padding:5px 5px;border-style:solid;border-width:1px;overflow:hidden;word-break:normal;vertical-align:top\">Equivalent to `str.rfind`</td></tr><tr><td style=\"font-family:Arial, sans-serif;font-size:18px;padding:5px 5px;border-style:solid;border-width:1px;overflow:hidden;word-break:normal;vertical-align:top\">index()</td><td style=\"font-family:Arial, sans-serif;font-size:18px;padding:5px 5px;border-style:solid;border-width:1px;overflow:hidden;word-break:normal;vertical-align:top\">Equivalent to `str.index`</td></tr><tr><td style=\"font-family:Arial, sans-serif;font-size:18px;padding:5px 5px;border-style:solid;border-width:1px;overflow:hidden;word-break:normal;vertical-align:top\">rindex()</td><td style=\"font-family:Arial, sans-serif;font-size:18px;padding:5px 5px;border-style:solid;border-width:1px;overflow:hidden;word-break:normal;vertical-align:top\">Equivalent to `str.rindex`</td></tr><tr><td style=\"font-family:Arial, sans-serif;font-size:18px;padding:5px 5px;border-style:solid;border-width:1px;overflow:hidden;word-break:normal;vertical-align:top\">capitalize()</td><td style=\"font-family:Arial, sans-serif;font-size:18px;padding:5px 5px;border-style:solid;border-width:1px;overflow:hidden;word-break:normal;vertical-align:top\">Equivalent to `str.capitalize`</td></tr><tr><td style=\"font-family:Arial, sans-serif;font-size:18px;padding:5px 5px;border-style:solid;border-width:1px;overflow:hidden;word-break:normal;vertical-align:top\">swapcase()</td><td style=\"font-family:Arial, sans-serif;font-size:18px;padding:5px 5px;border-style:solid;border-width:1px;overflow:hidden;word-break:normal;vertical-align:top\">Equivalent to `str.swapcase`</td></tr><tr><td style=\"font-family:Arial, sans-serif;font-size:18px;padding:5px 5px;border-style:solid;border-width:1px;overflow:hidden;word-break:normal;vertical-align:top\">normalize()</td><td style=\"font-family:Arial, sans-serif;font-size:18px;padding:5px 5px;border-style:solid;border-width:1px;overflow:hidden;word-break:normal;vertical-align:top\">Return Unicode normal form. Equivalent to `unicodedata.normalize`</td></tr><tr><td style=\"font-family:Arial, sans-serif;font-size:18px;padding:5px 5px;border-style:solid;border-width:1px;overflow:hidden;word-break:normal;vertical-align:top\">translate()</td><td style=\"font-family:Arial, sans-serif;font-size:18px;padding:5px 5px;border-style:solid;border-width:1px;overflow:hidden;word-break:normal;vertical-align:top\">Equivalent to `str.translate`</td></tr><tr><td style=\"font-family:Arial, sans-serif;font-size:18px;padding:5px 5px;border-style:solid;border-width:1px;overflow:hidden;word-break:normal;vertical-align:top\">isalnum()</td><td style=\"font-family:Arial, sans-serif;font-size:18px;padding:5px 5px;border-style:solid;border-width:1px;overflow:hidden;word-break:normal;vertical-align:top\">Equivalent to `str.isalnum`</td></tr><tr><td style=\"font-family:Arial, sans-serif;font-size:18px;padding:5px 5px;border-style:solid;border-width:1px;overflow:hidden;word-break:normal;vertical-align:top\">isalpha()</td><td style=\"font-family:Arial, sans-serif;font-size:18px;padding:5px 5px;border-style:solid;border-width:1px;overflow:hidden;word-break:normal;vertical-align:top\">Equivalent to `str.isalpha`</td></tr><tr><td style=\"font-family:Arial, sans-serif;font-size:18px;padding:5px 5px;border-style:solid;border-width:1px;overflow:hidden;word-break:normal;vertical-align:top\">isdigit()</td><td style=\"font-family:Arial, sans-serif;font-size:18px;padding:5px 5px;border-style:solid;border-width:1px;overflow:hidden;word-break:normal;vertical-align:top\">Equivalent to `str.isdigit`</td></tr><tr><td style=\"font-family:Arial, sans-serif;font-size:18px;padding:5px 5px;border-style:solid;border-width:1px;overflow:hidden;word-break:normal;vertical-align:top\">isspace()</td><td style=\"font-family:Arial, sans-serif;font-size:18px;padding:5px 5px;border-style:solid;border-width:1px;overflow:hidden;word-break:normal;vertical-align:top\">Equivalent to `str.isspace`</td></tr><tr><td style=\"font-family:Arial, sans-serif;font-size:18px;padding:5px 5px;border-style:solid;border-width:1px;overflow:hidden;word-break:normal;vertical-align:top\">islower()</td><td style=\"font-family:Arial, sans-serif;font-size:18px;padding:5px 5px;border-style:solid;border-width:1px;overflow:hidden;word-break:normal;vertical-align:top\">Equivalent to `str.islower`</td></tr><tr><td style=\"font-family:Arial, sans-serif;font-size:18px;padding:5px 5px;border-style:solid;border-width:1px;overflow:hidden;word-break:normal;vertical-align:top\">isupper()</td><td style=\"font-family:Arial, sans-serif;font-size:18px;padding:5px 5px;border-style:solid;border-width:1px;overflow:hidden;word-break:normal;vertical-align:top\">Equivalent to `str.isupper`</td></tr><tr><td style=\"font-family:Arial, sans-serif;font-size:18px;padding:5px 5px;border-style:solid;border-width:1px;overflow:hidden;word-break:normal;vertical-align:top\">istitle()</td><td style=\"font-family:Arial, sans-serif;font-size:18px;padding:5px 5px;border-style:solid;border-width:1px;overflow:hidden;word-break:normal;vertical-align:top\">Equivalent to `str.istitle`</td></tr><tr><td style=\"font-family:Arial, sans-serif;font-size:18px;padding:5px 5px;border-style:solid;border-width:1px;overflow:hidden;word-break:normal;vertical-align:top\">isnumeric()</td><td style=\"font-family:Arial, sans-serif;font-size:18px;padding:5px 5px;border-style:solid;border-width:1px;overflow:hidden;word-break:normal;vertical-align:top\">Equivalent to `str.isnumeric`</td></tr><tr><td style=\"font-family:Arial, sans-serif;font-size:18px;padding:5px 5px;border-style:solid;border-width:1px;overflow:hidden;word-break:normal;vertical-align:top\">isdecimal()</td><td style=\"font-family:Arial, sans-serif;font-size:18px;padding:5px 5px;border-style:solid;border-width:1px;overflow:hidden;word-break:normal;vertical-align:top\">Equivalent to `str.isdecimal`</td></tr></table>"
   ]
  },
  {
   "cell_type": "markdown",
   "metadata": {
    "slideshow": {
     "slide_type": "subslide"
    }
   },
   "source": [
    "### Example: normalizing column names\n",
    "\n",
    "String functions come in handy for normalizing column names of a DataFrame. "
   ]
  },
  {
   "cell_type": "code",
   "execution_count": 34,
   "metadata": {
    "slideshow": {
     "slide_type": "fragment"
    }
   },
   "outputs": [
    {
     "data": {
      "text/html": [
       "<div>\n",
       "<style scoped>\n",
       "    .dataframe tbody tr th:only-of-type {\n",
       "        vertical-align: middle;\n",
       "    }\n",
       "\n",
       "    .dataframe tbody tr th {\n",
       "        vertical-align: top;\n",
       "    }\n",
       "\n",
       "    .dataframe thead th {\n",
       "        text-align: right;\n",
       "    }\n",
       "</style>\n",
       "<table border=\"1\" class=\"dataframe\">\n",
       "  <thead>\n",
       "    <tr style=\"text-align: right;\">\n",
       "      <th></th>\n",
       "      <th>a-VAL 1</th>\n",
       "      <th>B-Val 2</th>\n",
       "      <th>c-VAL3</th>\n",
       "    </tr>\n",
       "  </thead>\n",
       "  <tbody>\n",
       "    <tr>\n",
       "      <th>0</th>\n",
       "      <td>1</td>\n",
       "      <td>1</td>\n",
       "      <td>1</td>\n",
       "    </tr>\n",
       "    <tr>\n",
       "      <th>1</th>\n",
       "      <td>1</td>\n",
       "      <td>1</td>\n",
       "      <td>0</td>\n",
       "    </tr>\n",
       "    <tr>\n",
       "      <th>2</th>\n",
       "      <td>1</td>\n",
       "      <td>1</td>\n",
       "      <td>0</td>\n",
       "    </tr>\n",
       "  </tbody>\n",
       "</table>\n",
       "</div>"
      ],
      "text/plain": [
       "   a-VAL 1  B-Val 2  c-VAL3\n",
       "0        1        1       1\n",
       "1        1        1       0\n",
       "2        1        1       0"
      ]
     },
     "execution_count": 34,
     "metadata": {},
     "output_type": "execute_result"
    }
   ],
   "source": [
    "df = pd.DataFrame(np.random.randint(2, size=(3, 3)),\n",
    "                  columns=['a-VAL 1', 'B-Val 2', 'c-VAL3'])\n",
    "df"
   ]
  },
  {
   "cell_type": "code",
   "execution_count": 35,
   "metadata": {
    "scrolled": true,
    "slideshow": {
     "slide_type": "fragment"
    }
   },
   "outputs": [
    {
     "data": {
      "text/html": [
       "<div>\n",
       "<style scoped>\n",
       "    .dataframe tbody tr th:only-of-type {\n",
       "        vertical-align: middle;\n",
       "    }\n",
       "\n",
       "    .dataframe tbody tr th {\n",
       "        vertical-align: top;\n",
       "    }\n",
       "\n",
       "    .dataframe thead th {\n",
       "        text-align: right;\n",
       "    }\n",
       "</style>\n",
       "<table border=\"1\" class=\"dataframe\">\n",
       "  <thead>\n",
       "    <tr style=\"text-align: right;\">\n",
       "      <th></th>\n",
       "      <th>a_val1</th>\n",
       "      <th>b_val2</th>\n",
       "      <th>c_val3</th>\n",
       "    </tr>\n",
       "  </thead>\n",
       "  <tbody>\n",
       "    <tr>\n",
       "      <th>0</th>\n",
       "      <td>1</td>\n",
       "      <td>1</td>\n",
       "      <td>1</td>\n",
       "    </tr>\n",
       "    <tr>\n",
       "      <th>1</th>\n",
       "      <td>1</td>\n",
       "      <td>1</td>\n",
       "      <td>0</td>\n",
       "    </tr>\n",
       "    <tr>\n",
       "      <th>2</th>\n",
       "      <td>1</td>\n",
       "      <td>1</td>\n",
       "      <td>0</td>\n",
       "    </tr>\n",
       "  </tbody>\n",
       "</table>\n",
       "</div>"
      ],
      "text/plain": [
       "   a_val1  b_val2  c_val3\n",
       "0       1       1       1\n",
       "1       1       1       0\n",
       "2       1       1       0"
      ]
     },
     "execution_count": 35,
     "metadata": {},
     "output_type": "execute_result"
    }
   ],
   "source": [
    "df.columns = (df.columns\n",
    "              .str.lower()\n",
    "              .str.replace(' ', '')\n",
    "              .str.replace('-', '_'))\n",
    "df  "
   ]
  },
  {
   "cell_type": "markdown",
   "metadata": {
    "slideshow": {
     "slide_type": "slide"
    }
   },
   "source": [
    "## Transformation functions"
   ]
  },
  {
   "cell_type": "markdown",
   "metadata": {},
   "source": [
    "There are several built-in transformation functions that can be used to transform data in most of the pandas objects.\n",
    "\n",
    "These functions return an object that is the same size as the one they are applied to."
   ]
  },
  {
   "cell_type": "markdown",
   "metadata": {
    "slideshow": {
     "slide_type": "fragment"
    }
   },
   "source": [
    "We identify two types of transformation functions:\n",
    "\n",
    "- general transformation functions\n",
    "- numeric transformation functions"
   ]
  },
  {
   "cell_type": "markdown",
   "metadata": {
    "slideshow": {
     "slide_type": "subslide"
    }
   },
   "source": [
    "### General transformation functions\n",
    "\n",
    "\n",
    "The following functions allow generic transformation of pandas objects:"
   ]
  },
  {
   "cell_type": "markdown",
   "metadata": {},
   "source": [
    "<table style=\"border-collapse:collapse;border-spacing:0\"><tr><th style=\"font-family:Arial, sans-serif;font-size:18px;font-weight:bold;padding:5px 5px;border-style:solid;border-width:1px;overflow:hidden;word-break:normal;vertical-align:top\">transformation method</th><th style=\"font-family:Arial, sans-serif;font-size:18px;font-weight:bold;padding:5px 5px;border-style:solid;border-width:1px;overflow:hidden;word-break:normal;vertical-align:top\">description</th></tr><tr><td style=\"font-family:Arial, sans-serif;font-size:18px;padding:5px 5px;border-style:solid;border-width:1px;overflow:hidden;word-break:normal;vertical-align:top\">`obj.astype(dtype, …)`</td><td style=\"font-family:Arial, sans-serif;font-size:18px;padding:5px 5px;border-style:solid;border-width:1px;overflow:hidden;word-break:normal;vertical-align:top\">Cast object to input numpy.dtype.</td></tr><tr><td style=\"font-family:Arial, sans-serif;font-size:18px;padding:5px 5px;border-style:solid;border-width:1px;overflow:hidden;word-break:normal;vertical-align:top\">`obj.copy()`</td><td style=\"font-family:Arial, sans-serif;font-size:18px;padding:5px 5px;border-style:solid;border-width:1px;overflow:hidden;word-break:normal;vertical-align:top\">Make a copy of this object.</td></tr><tr><td style=\"font-family:Arial, sans-serif;font-size:18px;padding:5px 5px;border-style:solid;border-width:1px;overflow:hidden;word-break:normal;vertical-align:top\">`pd.to_datetime(arg, …)`</td><td style=\"font-family:Arial, sans-serif;font-size:18px;padding:5px 5px;border-style:solid;border-width:1px;overflow:hidden;word-break:normal;vertical-align:top\">Convert argument to datetime.</td></tr><tr><td style=\"font-family:Arial, sans-serif;font-size:18px;padding:5px 5px;border-style:solid;border-width:1px;overflow:hidden;word-break:normal;vertical-align:top\">`pd.to_timedelta(arg, …)`</td><td style=\"font-family:Arial, sans-serif;font-size:18px;padding:5px 5px;border-style:solid;border-width:1px;overflow:hidden;word-break:normal;vertical-align:top\">Convert argument to timedelta.</td></tr><tr><td style=\"font-family:Arial, sans-serif;font-size:18px;padding:5px 5px;border-style:solid;border-width:1px;overflow:hidden;word-break:normal;vertical-align:top\">`pd.to_numeric(arg, …)`</td><td style=\"font-family:Arial, sans-serif;font-size:18px;padding:5px 5px;border-style:solid;border-width:1px;overflow:hidden;word-break:normal;vertical-align:top\">Convert argument to a numeric type.</td></tr></table>"
   ]
  },
  {
   "cell_type": "markdown",
   "metadata": {
    "slideshow": {
     "slide_type": "fragment"
    }
   },
   "source": [
    "Of these, especially important is:\n",
    "```python\n",
    "pd.to_datetime(arg, errors='raise', \n",
    "               dayfirst=False, yearfirst=False,\n",
    "               utc=None, box=True, format=None,\n",
    "               exact=True, coerce=None, unit='ns', \n",
    "               infer_datetime_format=False)\n",
    "```"
   ]
  },
  {
   "cell_type": "markdown",
   "metadata": {
    "slideshow": {
     "slide_type": "subslide"
    }
   },
   "source": [
    "Examples of to datetime conversion:"
   ]
  },
  {
   "cell_type": "code",
   "execution_count": 36,
   "metadata": {},
   "outputs": [
    {
     "data": {
      "text/plain": [
       "Timestamp('2001-01-01 00:00:00')"
      ]
     },
     "execution_count": 36,
     "metadata": {},
     "output_type": "execute_result"
    }
   ],
   "source": [
    "pd.to_datetime('2001')"
   ]
  },
  {
   "cell_type": "code",
   "execution_count": 37,
   "metadata": {
    "slideshow": {
     "slide_type": "fragment"
    }
   },
   "outputs": [
    {
     "data": {
      "text/plain": [
       "0   2001-01-01\n",
       "1   2001-03-01\n",
       "2          NaT\n",
       "3   2001-04-01\n",
       "dtype: datetime64[ns]"
      ]
     },
     "execution_count": 37,
     "metadata": {},
     "output_type": "execute_result"
    }
   ],
   "source": [
    "s = pd.Series(['01-01-2001', '03-01-2001', '', '04-01-2001'])\n",
    "pd.to_datetime(s)"
   ]
  },
  {
   "cell_type": "code",
   "execution_count": 38,
   "metadata": {
    "slideshow": {
     "slide_type": "fragment"
    }
   },
   "outputs": [
    {
     "data": {
      "text/html": [
       "<div>\n",
       "<style scoped>\n",
       "    .dataframe tbody tr th:only-of-type {\n",
       "        vertical-align: middle;\n",
       "    }\n",
       "\n",
       "    .dataframe tbody tr th {\n",
       "        vertical-align: top;\n",
       "    }\n",
       "\n",
       "    .dataframe thead th {\n",
       "        text-align: right;\n",
       "    }\n",
       "</style>\n",
       "<table border=\"1\" class=\"dataframe\">\n",
       "  <thead>\n",
       "    <tr style=\"text-align: right;\">\n",
       "      <th></th>\n",
       "      <th>date</th>\n",
       "      <th>time</th>\n",
       "      <th>dt</th>\n",
       "    </tr>\n",
       "  </thead>\n",
       "  <tbody>\n",
       "    <tr>\n",
       "      <th>0</th>\n",
       "      <td>01/01/2001</td>\n",
       "      <td>13.00.00</td>\n",
       "      <td>2001-01-01 13:00:00</td>\n",
       "    </tr>\n",
       "    <tr>\n",
       "      <th>1</th>\n",
       "      <td>01/01/2001</td>\n",
       "      <td>14.00.00</td>\n",
       "      <td>2001-01-01 14:00:00</td>\n",
       "    </tr>\n",
       "    <tr>\n",
       "      <th>2</th>\n",
       "      <td>01/01/2001</td>\n",
       "      <td>15.00.00</td>\n",
       "      <td>2001-01-01 15:00:00</td>\n",
       "    </tr>\n",
       "  </tbody>\n",
       "</table>\n",
       "</div>"
      ],
      "text/plain": [
       "         date      time                  dt\n",
       "0  01/01/2001  13.00.00 2001-01-01 13:00:00\n",
       "1  01/01/2001  14.00.00 2001-01-01 14:00:00\n",
       "2  01/01/2001  15.00.00 2001-01-01 15:00:00"
      ]
     },
     "execution_count": 38,
     "metadata": {},
     "output_type": "execute_result"
    }
   ],
   "source": [
    "df = pd.DataFrame({'date': ['01/01/2001', '01/01/2001', '01/01/2001'],\n",
    "                   'time': ['13.00.00', '14.00.00', '15.00.00']})\n",
    "df['dt'] = pd.to_datetime(df['time'] + df['date'], \n",
    "                          format='%H.%M.%S%d/%m/%Y')\n",
    "df"
   ]
  },
  {
   "cell_type": "markdown",
   "metadata": {
    "slideshow": {
     "slide_type": "subslide"
    }
   },
   "source": [
    "### Numeric transformation functions\n",
    "\n",
    "The following functions allow generic transformation of numeric values in pandas objects:"
   ]
  },
  {
   "cell_type": "markdown",
   "metadata": {},
   "source": [
    "<table style=\"border-collapse:collapse;border-spacing:0\"><tr><th style=\"font-family:Arial, sans-serif;font-size:18px;font-weight:bold;padding:5px 5px;border-style:solid;border-width:1px;overflow:hidden;word-break:normal;vertical-align:top\">numeric transformation method</th><th style=\"font-family:Arial, sans-serif;font-size:18px;font-weight:bold;padding:5px 5px;border-style:solid;border-width:1px;overflow:hidden;word-break:normal;vertical-align:top\">description</th></tr><tr><td style=\"font-family:Arial, sans-serif;font-size:18px;padding:5px 5px;border-style:solid;border-width:1px;overflow:hidden;word-break:normal\">`obj.abs()`</td><td style=\"font-family:Arial, sans-serif;font-size:18px;padding:5px 5px;border-style:solid;border-width:1px;overflow:hidden;word-break:normal\">Take absolute values.</td></tr><tr><td style=\"font-family:Arial, sans-serif;font-size:18px;padding:5px 5px;border-style:solid;border-width:1px;overflow:hidden;word-break:normal\">`s.between(left, right, inclusive)`</td><td style=\"font-family:Arial, sans-serif;font-size:18px;padding:5px 5px;border-style:solid;border-width:1px;overflow:hidden;word-break:normal\">Boolean Series equivalent to left &lt;= series &lt;= right. <br>NA values are False.</td></tr><tr><td style=\"font-family:Arial, sans-serif;font-size:18px;padding:5px 5px;border-style:solid;border-width:1px;overflow:hidden;word-break:normal\">`obj.clip(lower, upper, axis, …)`</td><td style=\"font-family:Arial, sans-serif;font-size:18px;padding:5px 5px;border-style:solid;border-width:1px;overflow:hidden;word-break:normal\">Trim values at input threshold(s).</td></tr><tr><td style=\"font-family:Arial, sans-serif;font-size:18px;padding:5px 5px;border-style:solid;border-width:1px;overflow:hidden;word-break:normal\">`obj.cummax(skipna , axis, …)`</td><td style=\"font-family:Arial, sans-serif;font-size:18px;padding:5px 5px;border-style:solid;border-width:1px;overflow:hidden;word-break:normal\">Compute cumulative max over requested axis.</td></tr><tr><td style=\"font-family:Arial, sans-serif;font-size:18px;padding:5px 5px;border-style:solid;border-width:1px;overflow:hidden;word-break:normal\">`obj.cummin(skipna , axis, …)`</td><td style=\"font-family:Arial, sans-serif;font-size:18px;padding:5px 5px;border-style:solid;border-width:1px;overflow:hidden;word-break:normal\">Compute cumulative min over requested axis.</td></tr><tr><td style=\"font-family:Arial, sans-serif;font-size:18px;padding:5px 5px;border-style:solid;border-width:1px;overflow:hidden;word-break:normal\">`obj.cumprod(skipna , axis, …)`</td><td style=\"font-family:Arial, sans-serif;font-size:18px;padding:5px 5px;border-style:solid;border-width:1px;overflow:hidden;word-break:normal\">Compute cumulative product over requested axis.</td></tr><tr><td style=\"font-family:Arial, sans-serif;font-size:18px;padding:5px 5px;border-style:solid;border-width:1px;overflow:hidden;word-break:normal\">`obj.cumsum(skipna , axis, …)`</td><td style=\"font-family:Arial, sans-serif;font-size:18px;padding:5px 5px;border-style:solid;border-width:1px;overflow:hidden;word-break:normal\">Compute cumulative sum over requested axis.</td></tr><tr><td style=\"font-family:Arial, sans-serif;font-size:18px;padding:5px 5px;border-style:solid;border-width:1px;overflow:hidden;word-break:normal\">`obj.diff(periods, axis)`</td><td style=\"font-family:Arial, sans-serif;font-size:18px;padding:5px 5px;border-style:solid;border-width:1px;overflow:hidden;word-break:normal\">Take discrete difference after shifting n periods.</td></tr><tr><td style=\"font-family:Arial, sans-serif;font-size:18px;padding:5px 5px;border-style:solid;border-width:1px;overflow:hidden;word-break:normal\">`obj.pct_change(periods, fill_method, axis,…)`</td><td style=\"font-family:Arial, sans-serif;font-size:18px;padding:5px 5px;border-style:solid;border-width:1px;overflow:hidden;word-break:normal\">Compute percent change over given number of periods.</td></tr><tr><td style=\"font-family:Arial, sans-serif;font-size:18px;padding:5px 5px;border-style:solid;border-width:1px;overflow:hidden;word-break:normal\">`obj.rank(method, numeric_only, axis, …)`</td><td style=\"font-family:Arial, sans-serif;font-size:18px;padding:5px 5px;border-style:solid;border-width:1px;overflow:hidden;word-break:normal\">Compute numerical data ranks (1 through n) <br>along axis. Equal values are assigned a rank <br>according to methods.</td></tr><tr><td style=\"font-family:Arial, sans-serif;font-size:18px;padding:5px 5px;border-style:solid;border-width:1px;overflow:hidden;word-break:normal\">`obj.round(decimals, …)`</td><td style=\"font-family:Arial, sans-serif;font-size:18px;padding:5px 5px;border-style:solid;border-width:1px;overflow:hidden;word-break:normal\">Round values to a variable number of decimal places.</td></tr></table>"
   ]
  },
  {
   "cell_type": "markdown",
   "metadata": {
    "slideshow": {
     "slide_type": "subslide"
    }
   },
   "source": [
    "Compute ranking and time differences on some data:"
   ]
  },
  {
   "cell_type": "code",
   "execution_count": 39,
   "metadata": {},
   "outputs": [],
   "source": [
    "times = ['2014-01-02 14:00:12', '2014-01-02 14:01:50',\n",
    "         '2014-01-02 14:04:10', '2014-01-02 14:04:10']\n",
    "df = pd.DataFrame({'person': ['John', 'Mary', 'Bert', 'Ann'],\n",
    "                   'finish_time': pd.to_datetime(times)})"
   ]
  },
  {
   "cell_type": "code",
   "execution_count": 40,
   "metadata": {
    "slideshow": {
     "slide_type": "fragment"
    }
   },
   "outputs": [
    {
     "data": {
      "text/html": [
       "<div>\n",
       "<style scoped>\n",
       "    .dataframe tbody tr th:only-of-type {\n",
       "        vertical-align: middle;\n",
       "    }\n",
       "\n",
       "    .dataframe tbody tr th {\n",
       "        vertical-align: top;\n",
       "    }\n",
       "\n",
       "    .dataframe thead th {\n",
       "        text-align: right;\n",
       "    }\n",
       "</style>\n",
       "<table border=\"1\" class=\"dataframe\">\n",
       "  <thead>\n",
       "    <tr style=\"text-align: right;\">\n",
       "      <th></th>\n",
       "      <th>person</th>\n",
       "      <th>finish_time</th>\n",
       "      <th>rank</th>\n",
       "      <th>timediff</th>\n",
       "      <th>cumdiff_seconds</th>\n",
       "    </tr>\n",
       "  </thead>\n",
       "  <tbody>\n",
       "    <tr>\n",
       "      <th>0</th>\n",
       "      <td>John</td>\n",
       "      <td>2014-01-02 14:00:12</td>\n",
       "      <td>1.0</td>\n",
       "      <td>NaT</td>\n",
       "      <td>NaN</td>\n",
       "    </tr>\n",
       "    <tr>\n",
       "      <th>1</th>\n",
       "      <td>Mary</td>\n",
       "      <td>2014-01-02 14:01:50</td>\n",
       "      <td>2.0</td>\n",
       "      <td>00:01:38</td>\n",
       "      <td>98.0</td>\n",
       "    </tr>\n",
       "    <tr>\n",
       "      <th>2</th>\n",
       "      <td>Bert</td>\n",
       "      <td>2014-01-02 14:04:10</td>\n",
       "      <td>3.5</td>\n",
       "      <td>00:02:20</td>\n",
       "      <td>238.0</td>\n",
       "    </tr>\n",
       "    <tr>\n",
       "      <th>3</th>\n",
       "      <td>Ann</td>\n",
       "      <td>2014-01-02 14:04:10</td>\n",
       "      <td>3.5</td>\n",
       "      <td>00:00:00</td>\n",
       "      <td>238.0</td>\n",
       "    </tr>\n",
       "  </tbody>\n",
       "</table>\n",
       "</div>"
      ],
      "text/plain": [
       "  person         finish_time  rank timediff  cumdiff_seconds\n",
       "0   John 2014-01-02 14:00:12   1.0      NaT              NaN\n",
       "1   Mary 2014-01-02 14:01:50   2.0 00:01:38             98.0\n",
       "2   Bert 2014-01-02 14:04:10   3.5 00:02:20            238.0\n",
       "3    Ann 2014-01-02 14:04:10   3.5 00:00:00            238.0"
      ]
     },
     "execution_count": 40,
     "metadata": {},
     "output_type": "execute_result"
    }
   ],
   "source": [
    "df['rank'] = df['finish_time'].rank()\n",
    "df['timediff'] = df['finish_time'].diff()\n",
    "df['cumdiff_seconds'] = df['timediff'].dt.seconds.cumsum()\n",
    "df"
   ]
  },
  {
   "cell_type": "markdown",
   "metadata": {
    "slideshow": {
     "slide_type": "slide"
    }
   },
   "source": [
    "## Function application\n",
    "\n",
    "Besides the wide range of built-in methods you can also apply your own functions to pandas objects. "
   ]
  },
  {
   "cell_type": "markdown",
   "metadata": {
    "slideshow": {
     "slide_type": "fragment"
    }
   },
   "source": [
    "There are three methods for doing function application. Choosing the appropriate method depends on whether your function requires:\n",
    "\n",
    "- tablewise application: `pipe()`\n",
    "- row or column-wise application: `apply()`\n",
    "- elementwise application: `applymap()` (or `map()` for Series)"
   ]
  },
  {
   "cell_type": "markdown",
   "metadata": {
    "slideshow": {
     "slide_type": "subslide"
    }
   },
   "source": [
    "### Tablewise function application\n",
    "\n",
    "The `pipe()` function allows you to apply functions on the whole data frame in a method chaining fashion."
   ]
  },
  {
   "cell_type": "markdown",
   "metadata": {
    "slideshow": {
     "slide_type": "subslide"
    }
   },
   "source": [
    "An example of a complex chain of operations:"
   ]
  },
  {
   "cell_type": "code",
   "execution_count": 41,
   "metadata": {},
   "outputs": [
    {
     "data": {
      "text/html": [
       "<div>\n",
       "<style scoped>\n",
       "    .dataframe tbody tr th:only-of-type {\n",
       "        vertical-align: middle;\n",
       "    }\n",
       "\n",
       "    .dataframe tbody tr th {\n",
       "        vertical-align: top;\n",
       "    }\n",
       "\n",
       "    .dataframe thead th {\n",
       "        text-align: right;\n",
       "    }\n",
       "</style>\n",
       "<table border=\"1\" class=\"dataframe\">\n",
       "  <thead>\n",
       "    <tr style=\"text-align: right;\">\n",
       "      <th></th>\n",
       "      <th>sepal_length</th>\n",
       "      <th>sepal_width</th>\n",
       "      <th>petal_length</th>\n",
       "      <th>petal_width</th>\n",
       "      <th>species</th>\n",
       "    </tr>\n",
       "  </thead>\n",
       "  <tbody>\n",
       "    <tr>\n",
       "      <th>0</th>\n",
       "      <td>5.1</td>\n",
       "      <td>3.5</td>\n",
       "      <td>1.4</td>\n",
       "      <td>0.2</td>\n",
       "      <td>setosa</td>\n",
       "    </tr>\n",
       "    <tr>\n",
       "      <th>1</th>\n",
       "      <td>4.9</td>\n",
       "      <td>3.0</td>\n",
       "      <td>1.4</td>\n",
       "      <td>0.2</td>\n",
       "      <td>setosa</td>\n",
       "    </tr>\n",
       "  </tbody>\n",
       "</table>\n",
       "</div>"
      ],
      "text/plain": [
       "   sepal_length  sepal_width  petal_length  petal_width species\n",
       "0           5.1          3.5           1.4          0.2  setosa\n",
       "1           4.9          3.0           1.4          0.2  setosa"
      ]
     },
     "execution_count": 41,
     "metadata": {},
     "output_type": "execute_result"
    }
   ],
   "source": [
    "iris_data = sns.load_dataset('iris')\n",
    "iris_data.head(2)"
   ]
  },
  {
   "cell_type": "code",
   "execution_count": 42,
   "metadata": {
    "scrolled": false,
    "slideshow": {
     "slide_type": "fragment"
    }
   },
   "outputs": [
    {
     "name": "stderr",
     "output_type": "stream",
     "text": [
      "/Users/vincentwarmerdam/Development/accelerator/lecture18_pydata/lecture/venv/lib/python3.6/site-packages/scipy/stats/stats.py:1713: FutureWarning: Using a non-tuple sequence for multidimensional indexing is deprecated; use `arr[tuple(seq)]` instead of `arr[seq]`. In the future this will be interpreted as an array index, `arr[np.array(seq)]`, which will result either in an error or a different result.\n",
      "  return np.add.reduce(sorted[indexer] * weights, axis=axis) / sumval\n"
     ]
    },
    {
     "data": {
      "image/png": "[encoded data removed]",
      "text/plain": [
       "<Figure size 432x288 with 1 Axes>"
      ]
     },
     "metadata": {},
     "output_type": "display_data"
    }
   ],
   "source": [
    "(\n",
    "    iris_data\n",
    "    .loc[lambda x: x['sepal_length'] > 5]\n",
    "    .assign(sepal_ratio=lambda x: x['sepal_length'] / x['sepal_width'])\n",
    "    .pipe((sns.violinplot, 'data'), x='species', y='sepal_ratio')\n",
    ");"
   ]
  },
  {
   "cell_type": "markdown",
   "metadata": {
    "slideshow": {
     "slide_type": "subslide"
    }
   },
   "source": [
    "### Row or column-wise function application\n",
    "\n",
    "The `apply` function allows you to apply functions on whole rows or columns:"
   ]
  },
  {
   "cell_type": "markdown",
   "metadata": {
    "slideshow": {
     "slide_type": "fragment"
    }
   },
   "source": [
    "Apply a function columns wise:"
   ]
  },
  {
   "cell_type": "code",
   "execution_count": 43,
   "metadata": {},
   "outputs": [
    {
     "data": {
      "text/html": [
       "<div>\n",
       "<style scoped>\n",
       "    .dataframe tbody tr th:only-of-type {\n",
       "        vertical-align: middle;\n",
       "    }\n",
       "\n",
       "    .dataframe tbody tr th {\n",
       "        vertical-align: top;\n",
       "    }\n",
       "\n",
       "    .dataframe thead th {\n",
       "        text-align: right;\n",
       "    }\n",
       "</style>\n",
       "<table border=\"1\" class=\"dataframe\">\n",
       "  <thead>\n",
       "    <tr style=\"text-align: right;\">\n",
       "      <th></th>\n",
       "      <th>sepal_length</th>\n",
       "      <th>sepal_width</th>\n",
       "      <th>petal_length</th>\n",
       "      <th>petal_width</th>\n",
       "      <th>species</th>\n",
       "    </tr>\n",
       "  </thead>\n",
       "  <tbody>\n",
       "    <tr>\n",
       "      <th>14</th>\n",
       "      <td>False</td>\n",
       "      <td>True</td>\n",
       "      <td>False</td>\n",
       "      <td>False</td>\n",
       "      <td>None</td>\n",
       "    </tr>\n",
       "    <tr>\n",
       "      <th>98</th>\n",
       "      <td>False</td>\n",
       "      <td>False</td>\n",
       "      <td>False</td>\n",
       "      <td>False</td>\n",
       "      <td>None</td>\n",
       "    </tr>\n",
       "    <tr>\n",
       "      <th>75</th>\n",
       "      <td>True</td>\n",
       "      <td>False</td>\n",
       "      <td>True</td>\n",
       "      <td>True</td>\n",
       "      <td>None</td>\n",
       "    </tr>\n",
       "    <tr>\n",
       "      <th>16</th>\n",
       "      <td>False</td>\n",
       "      <td>True</td>\n",
       "      <td>False</td>\n",
       "      <td>False</td>\n",
       "      <td>None</td>\n",
       "    </tr>\n",
       "  </tbody>\n",
       "</table>\n",
       "</div>"
      ],
      "text/plain": [
       "    sepal_length  sepal_width  petal_length  petal_width species\n",
       "14         False         True         False        False    None\n",
       "98         False        False         False        False    None\n",
       "75          True        False          True         True    None\n",
       "16         False         True         False        False    None"
      ]
     },
     "execution_count": 43,
     "metadata": {},
     "output_type": "execute_result"
    }
   ],
   "source": [
    "def is_larger_than_mean(col):\n",
    "    if col.name != 'species':\n",
    "        return col > col.mean()\n",
    "    \n",
    "result = iris_data.apply(is_larger_than_mean)\n",
    "result.sample(4, random_state=1)"
   ]
  },
  {
   "cell_type": "markdown",
   "metadata": {
    "slideshow": {
     "slide_type": "subslide"
    }
   },
   "source": [
    "Apply a function row wise:"
   ]
  },
  {
   "cell_type": "code",
   "execution_count": 44,
   "metadata": {},
   "outputs": [
    {
     "data": {
      "application/vnd.jupyter.widget-view+json": {
       "model_id": "e2be73c19e0b464688d7d38d68fb44c3",
       "version_major": 2,
       "version_minor": 0
      },
      "text/plain": [
       "HBox(children=(HTML(value='iris_data<table border=\"1\" class=\"dataframe rendered_html\">\\n  <thead>\\n    <tr sty…"
      ]
     },
     "metadata": {},
     "output_type": "display_data"
    }
   ],
   "source": [
    "def multiply_dimensions(row):\n",
    "    return pd.Series([row['sepal_length'] * row['sepal_width'],\n",
    "                      row['petal_length'] * row['petal_width']],\n",
    "                      index=['sepal_mult','petal_mult'])\n",
    "\n",
    "result = iris_data.apply(multiply_dimensions, axis=1)\n",
    "df_HBox((iris_data.head(), result.head()), ['iris_data', 'result'])"
   ]
  },
  {
   "cell_type": "markdown",
   "metadata": {
    "slideshow": {
     "slide_type": "slide"
    }
   },
   "source": [
    "## Exercises: [lab 5 - Cleaning and transformation](lab_05_cleaning_and_transformation.ipynb)"
   ]
  }
 ],
 "metadata": {
  "anaconda-cloud": {},
  "celltoolbar": "Slideshow",
  "kernelspec": {
   "display_name": "Python 3",
   "language": "python",
   "name": "python3"
  },
  "language_info": {
   "codemirror_mode": {
    "name": "ipython",
    "version": 3
   },
   "file_extension": ".py",
   "mimetype": "text/x-python",
   "name": "python",
   "nbconvert_exporter": "python",
   "pygments_lexer": "ipython3",
   "version": "3.7.7"
  },
  "widgets": {
   "state": {
    "1497112f7cda4a2abef816a03f25340b": {
     "views": [
      {
       "cell_index": 28
      }
     ]
    },
    "1d3d13c8ec114e75b1142ca0853405a4": {
     "views": [
      {
       "cell_index": 15
      }
     ]
    },
    "348b1f0b0bbd498a939bcc47d23be52c": {
     "views": [
      {
       "cell_index": 79
      }
     ]
    },
    "4a6fbbc1089c4e42b56a0dc842ac4c98": {
     "views": [
      {
       "cell_index": 21
      }
     ]
    },
    "8c5c2d9767604a56b2291ece92e1748a": {
     "views": [
      {
       "cell_index": 17
      }
     ]
    },
    "9f3d2c6097cd47c1b3ae32e9aecf052f": {
     "views": [
      {
       "cell_index": 82
      }
     ]
    },
    "a157c9c83a5b4adc90cba2883c1ffdd3": {
     "views": [
      {
       "cell_index": 98
      }
     ]
    },
    "ab82ea499e0542a1b57a807da62c1916": {
     "views": [
      {
       "cell_index": 50
      }
     ]
    },
    "af415bfc78ac4ab59c220a0a1ab03ba0": {
     "views": [
      {
       "cell_index": 52
      }
     ]
    },
    "b3cb3f7e7fb64cf79581471848e8761c": {
     "views": [
      {
       "cell_index": 26
      }
     ]
    },
    "bd6bf58ece5545f29cb43771c2ce76b3": {
     "views": [
      {
       "cell_index": 64
      }
     ]
    },
    "d009659f10c24c60a8929b82aef55844": {
     "views": [
      {
       "cell_index": 54
      }
     ]
    },
    "d1565c8f3cc04cc9af615e9cf73979b0": {
     "views": [
      {
       "cell_index": 75
      }
     ]
    },
    "ed7a1284842941d7a7839367452959e8": {
     "views": [
      {
       "cell_index": 77
      }
     ]
    },
    "f4c0a1c017604025b3716f12bd87d6e3": {
     "views": [
      {
       "cell_index": 100
      }
     ]
    },
    "f88adb6cd3b542cd93040aa35ae755c3": {
     "views": [
      {
       "cell_index": 102
      }
     ]
    },
    "f8b53871df094adca092433d31208d83": {
     "views": [
      {
       "cell_index": 162
      }
     ]
    },
    "fa4506860ac948c49ac590c80aabb7a7": {
     "views": [
      {
       "cell_index": 23
      }
     ]
    },
    "fea32cb841a94744944e5238bc3aaa18": {
     "views": [
      {
       "cell_index": 19
      }
     ]
    }
   },
   "version": "1.2.0"
  }
 },
 "nbformat": 4,
 "nbformat_minor": 1
}
