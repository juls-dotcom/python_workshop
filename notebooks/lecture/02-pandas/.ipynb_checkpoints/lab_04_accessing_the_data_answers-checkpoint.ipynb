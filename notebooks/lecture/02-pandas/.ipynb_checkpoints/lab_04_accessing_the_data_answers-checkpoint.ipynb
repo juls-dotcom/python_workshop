{
 "cells": [
  {
   "cell_type": "markdown",
   "metadata": {},
   "source": [
    "<span class=\"image\"><table><tr>\n",
    "<img src=\"images/pandas-logo.png\" style=\"float: left; height: 48px;\">\n",
    "<h1 style=\"text-align: center;\">Lab 4 - Accessing the data</h1>\n",
    "</tr></table></span>"
   ]
  },
  {
   "cell_type": "code",
   "execution_count": null,
   "metadata": {},
   "outputs": [],
   "source": [
    "import pandas as pd\n",
    "import numpy as np"
   ]
  },
  {
   "cell_type": "markdown",
   "metadata": {},
   "source": [
    "## Exercise goals:\n",
    "\n",
    "- practice accessing the data using different indexing methods\n",
    "- apply some boolean filtering to select subsets of data"
   ]
  },
  {
   "cell_type": "markdown",
   "metadata": {},
   "source": [
    "---\n",
    "\n",
    "In this lab we will consider a dataset taken from the [PyCon tutorial of Brandon Rhodes](https://github.com/brandon-rhodes/pycon-pandas-tutorial). The data set contains data taken from [IMDB](http://www.imdb.com/).\n",
    "\n",
    "## Exercise : IMBD data"
   ]
  },
  {
   "cell_type": "markdown",
   "metadata": {},
   "source": [
    "Start with reading in the `imdb/titles.csv` file from the `data/` folder:"
   ]
  },
  {
   "cell_type": "code",
   "execution_count": null,
   "metadata": {
    "scrolled": false
   },
   "outputs": [],
   "source": [
    "titles = pd.read_csv('data/imdb/titles.csv')  # ANSWER"
   ]
  },
  {
   "cell_type": "markdown",
   "metadata": {},
   "source": [
    "Take a quick peak at the data, is the data ordered?"
   ]
  },
  {
   "cell_type": "code",
   "execution_count": null,
   "metadata": {},
   "outputs": [],
   "source": [
    "titles.head() # not ordered # ANSWER"
   ]
  },
  {
   "cell_type": "markdown",
   "metadata": {},
   "source": [
    "How many rows of data do we have?"
   ]
  },
  {
   "cell_type": "code",
   "execution_count": null,
   "metadata": {},
   "outputs": [],
   "source": [
    "nrows = titles.shape[0] # ANSWER\n",
    "nrows"
   ]
  },
  {
   "cell_type": "markdown",
   "metadata": {},
   "source": [
    "Any null values in either of the columns?"
   ]
  },
  {
   "cell_type": "code",
   "execution_count": null,
   "metadata": {},
   "outputs": [],
   "source": [
    "titles.isnull().any() # ANSWER"
   ]
  },
  {
   "cell_type": "markdown",
   "metadata": {},
   "source": [
    "How many unique titles does the data have?"
   ]
  },
  {
   "cell_type": "code",
   "execution_count": null,
   "metadata": {},
   "outputs": [],
   "source": [
    "nunique = (~titles['title'].duplicated(keep='first')).sum() #ANSWER \n",
    "# or alternatively\n",
    "nunique = titles['title'].nunique() #ANSWER \n",
    "nunique"
   ]
  },
  {
   "cell_type": "markdown",
   "metadata": {},
   "source": [
    "How many titles have only a single entry in the data? (hint: check the arguments for `.duplicated()` method or use the `value_counts()` method)"
   ]
  },
  {
   "cell_type": "code",
   "execution_count": null,
   "metadata": {},
   "outputs": [],
   "source": [
    "ntruly_unique = (~titles['title'].duplicated(keep=False)).sum() #ANSWER \n",
    "# or alternatively\n",
    "ntruly_unique = (titles['title'].value_counts() == 1).sum() #ANSWER \n",
    "ntruly_unique"
   ]
  },
  {
   "cell_type": "markdown",
   "metadata": {},
   "source": [
    "Use two different methods to select all rows with the title 'Hamlet' and 'Macbeth':"
   ]
  },
  {
   "cell_type": "code",
   "execution_count": null,
   "metadata": {
    "scrolled": true
   },
   "outputs": [],
   "source": [
    "# first method\n",
    "df1 = titles[titles['title'].isin(['Hamlet', 'Macbeth'])] # ANSWER\n",
    "# second method\n",
    "df2 = titles[(titles['title'] == 'Hamlet') |\n",
    "             (titles['title'] == 'Macbeth')] # ANSWER\n",
    "# third method\n",
    "df3 = titles.query(\"title in ['Hamlet', 'Macbeth']\") # ANSWER\n",
    "\n",
    "print(\"Ok? {}\".format(df1.equals(df2) & df1.equals(df3)))\n",
    "df1.head()"
   ]
  },
  {
   "cell_type": "markdown",
   "metadata": {},
   "source": [
    "How many Hamlet and Macbeth movies are present in the data?"
   ]
  },
  {
   "cell_type": "code",
   "execution_count": null,
   "metadata": {},
   "outputs": [],
   "source": [
    "# ANSWER\n",
    "for title in ['Hamlet', 'Macbeth']:  \n",
    "    print('{}: {}'.format(title, (df1['title'] == title).sum())) \n",
    "# or alternatively\n",
    "df1['title'].value_counts() # ANSWER"
   ]
  },
  {
   "cell_type": "markdown",
   "metadata": {},
   "source": [
    "Use two different methods to count all movies from the 80s :"
   ]
  },
  {
   "cell_type": "code",
   "execution_count": null,
   "metadata": {},
   "outputs": [],
   "source": [
    "# first method\n",
    "val1 = ((titles['year'] >= 1980) & \n",
    "        (titles['year'] < 1990)).sum()  # ANSWER\n",
    "# second method\n",
    "val2 = len(titles[titles['year'] // 10 == 198]) # ANSWER\n",
    "\n",
    "print(\"Ok? {}\".format(val1==val2))\n",
    "val1"
   ]
  },
  {
   "cell_type": "markdown",
   "metadata": {},
   "source": [
    "Starting from the year 2000, how many distinct movies begin with the letter 's' or 'S'? (Hint: use the string methods under `.str.`!) "
   ]
  },
  {
   "cell_type": "code",
   "execution_count": null,
   "metadata": {},
   "outputs": [],
   "source": [
    "s_titles = titles.loc[(titles['year'] >= 2000) & \n",
    "                      titles['title'].str[0].isin(['s','S']), \n",
    "                     'title'] # ANSWER\n",
    "# alternatively\n",
    "s_titles = titles.loc[(titles['year'] >= 2000) & \n",
    "                      (titles['title'].str.startswith('s') | \n",
    "                       titles['title'].str.startswith('S')),\n",
    "                     'title'] # ANSWER\n",
    "# Note that duplicates must be removed *after* having filtered on year!\n",
    "s_titles.nunique() # ANSWER"
   ]
  }
 ],
 "metadata": {
  "anaconda-cloud": {},
  "kernelspec": {
   "display_name": "Python 3",
   "language": "python",
   "name": "python3"
  },
  "language_info": {
   "codemirror_mode": {
    "name": "ipython",
    "version": 3
   },
   "file_extension": ".py",
   "mimetype": "text/x-python",
   "name": "python",
   "nbconvert_exporter": "python",
   "pygments_lexer": "ipython3",
   "version": "3.7.7"
  }
 },
 "nbformat": 4,
 "nbformat_minor": 1
}
