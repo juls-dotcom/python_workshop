{
 "cells": [
  {
   "cell_type": "code",
   "execution_count": 1,
   "metadata": {
    "slideshow": {
     "slide_type": "skip"
    }
   },
   "outputs": [],
   "source": [
    "import pandas as pd\n",
    "import numpy as np\n",
    "from IPython.display import HTML\n",
    "from matplotlib import pyplot as plt\n",
    "pd.set_option('max_colwidth', 20)\n",
    "plt.style.use('fivethirtyeight')\n",
    "%matplotlib inline"
   ]
  },
  {
   "cell_type": "markdown",
   "metadata": {
    "collapsed": true,
    "slideshow": {
     "slide_type": "slide"
    }
   },
   "source": [
    "# 4 - Accessing the data"
   ]
  },
  {
   "cell_type": "markdown",
   "metadata": {
    "collapsed": true,
    "slideshow": {
     "slide_type": "slide"
    }
   },
   "source": [
    "## Outline\n",
    "\n",
    "Goal: *Provide an overview of the available methods for indexing, selection and filtering of the data.*"
   ]
  },
  {
   "cell_type": "markdown",
   "metadata": {
    "slideshow": {
     "slide_type": "subslide"
    }
   },
   "source": [
    "Key topics:\n",
    "\n",
    "- Access to the data\n",
    "- Quick access methods\n",
    "- Indexing attributes\n",
    "- Filtering the data\n",
    "- Managing axis labeling"
   ]
  },
  {
   "cell_type": "markdown",
   "metadata": {
    "slideshow": {
     "slide_type": "slide"
    }
   },
   "source": [
    "## Accessing the data\n",
    "\n",
    "The axis labeling information in pandas objects serves many purposes:\n",
    "\n",
    "- identifies data (i.e. provides metadata)\n",
    "- enables automatic and explicit data alignment\n",
    "- allows intuitive getting and setting of subsets of the data set\n",
    "\n",
    "In this lecture, we focus on the final point; how one can leverage the axis labeling for selecting the data."
   ]
  },
  {
   "cell_type": "markdown",
   "metadata": {
    "slideshow": {
     "slide_type": "subslide"
    }
   },
   "source": [
    "Pandas provides the following approaches for accessing the data stored in a pandas data structure:\n",
    "\n",
    "- quick access methods\n",
    "- data iterators (not discussed here)\n",
    "- indexing attributes and methods\n",
    "\n",
    "The first two are primarily concerned with getting the data, the latter also allows both getting an setting of values in DataFrames and Series."
   ]
  },
  {
   "cell_type": "markdown",
   "metadata": {
    "slideshow": {
     "slide_type": "slide"
    }
   },
   "source": [
    "## Quick access methods\n",
    "\n",
    "These methods allow us to take a quick peek at the data:\n",
    "\n",
    "<table style=\"border-collapse:collapse;border-spacing:0\"><tr><th style=\"font-family:Arial, sans-serif;font-size:18px;font-weight:bold;padding:5px 5px;border-style:solid;border-width:1px;overflow:hidden;word-break:normal;vertical-align:top\">quick access method</th><th style=\"font-family:Arial, sans-serif;font-size:18px;font-weight:bold;padding:5px 5px;border-style:solid;border-width:1px;overflow:hidden;word-break:normal;vertical-align:top\">description</th></tr><tr><td style=\"font-family:Arial, sans-serif;font-size:18px;padding:5px 5px;border-style:solid;border-width:1px;overflow:hidden;word-break:normal;vertical-align:top\">`obj.head(n)`</td><td style=\"font-family:Arial, sans-serif;font-size:18px;padding:5px 5px;border-style:solid;border-width:1px;overflow:hidden;word-break:normal;vertical-align:top\">returns first n rows</td></tr><tr><td style=\"font-family:Arial, sans-serif;font-size:18px;padding:5px 5px;border-style:solid;border-width:1px;overflow:hidden;word-break:normal;vertical-align:top\">`obj.tail(n)`</td><td style=\"font-family:Arial, sans-serif;font-size:18px;padding:5px 5px;border-style:solid;border-width:1px;overflow:hidden;word-break:normal;vertical-align:top\">returns last n rows</td></tr><tr><td style=\"font-family:Arial, sans-serif;font-size:18px;padding:5px 5px;border-style:solid;border-width:1px;overflow:hidden;word-break:normal;vertical-align:top\">`obj.nlargest(n, columns,…)`</td><td style=\"font-family:Arial, sans-serif;font-size:18px;padding:5px 5px;border-style:solid;border-width:1px;overflow:hidden;word-break:normal;vertical-align:top\">get the rows sorted by the n largest values of columns</td></tr><tr><td style=\"font-family:Arial, sans-serif;font-size:18px;padding:5px 5px;border-style:solid;border-width:1px;overflow:hidden;word-break:normal;vertical-align:top\">`obj.nsmallest(n, columns,…)`</td><td style=\"font-family:Arial, sans-serif;font-size:18px;padding:5px 5px;border-style:solid;border-width:1px;overflow:hidden;word-break:normal;vertical-align:top\">get the rows sorted by the n smallest values of columns</td></tr><tr><td style=\"font-family:Arial, sans-serif;font-size:18px;padding:5px 5px;border-style:solid;border-width:1px;overflow:hidden;word-break:normal;vertical-align:top\">`obj.sample(n, frac, axis, …)`</td><td style=\"font-family:Arial, sans-serif;font-size:18px;padding:5px 5px;border-style:solid;border-width:1px;overflow:hidden;word-break:normal;vertical-align:top\">return random sample of rows or columns</td></tr></table>"
   ]
  },
  {
   "cell_type": "markdown",
   "metadata": {
    "slideshow": {
     "slide_type": "subslide"
    }
   },
   "source": [
    "Show the first 2 rows:"
   ]
  },
  {
   "cell_type": "code",
   "execution_count": 2,
   "metadata": {
    "slideshow": {
     "slide_type": "-"
    }
   },
   "outputs": [
    {
     "data": {
      "text/html": [
       "<div>\n",
       "<style scoped>\n",
       "    .dataframe tbody tr th:only-of-type {\n",
       "        vertical-align: middle;\n",
       "    }\n",
       "\n",
       "    .dataframe tbody tr th {\n",
       "        vertical-align: top;\n",
       "    }\n",
       "\n",
       "    .dataframe thead th {\n",
       "        text-align: right;\n",
       "    }\n",
       "</style>\n",
       "<table border=\"1\" class=\"dataframe\">\n",
       "  <thead>\n",
       "    <tr style=\"text-align: right;\">\n",
       "      <th></th>\n",
       "      <th>Titel</th>\n",
       "      <th>Regisseur</th>\n",
       "      <th>Acteurs</th>\n",
       "      <th>Genre</th>\n",
       "      <th>Bijzonderheden</th>\n",
       "      <th>random_number</th>\n",
       "    </tr>\n",
       "  </thead>\n",
       "  <tbody>\n",
       "    <tr>\n",
       "      <th>0</th>\n",
       "      <td>Iep!</td>\n",
       "      <td>Ineke Houtman</td>\n",
       "      <td>Huub Stapel Joke...</td>\n",
       "      <td>Familiefilm</td>\n",
       "      <td>17 februari</td>\n",
       "      <td>0.012898</td>\n",
       "    </tr>\n",
       "    <tr>\n",
       "      <th>1</th>\n",
       "      <td>Gangsterboys</td>\n",
       "      <td>Paul Ruven</td>\n",
       "      <td>Georgina Verbaan...</td>\n",
       "      <td>Komedie</td>\n",
       "      <td>18 februari</td>\n",
       "      <td>0.833662</td>\n",
       "    </tr>\n",
       "  </tbody>\n",
       "</table>\n",
       "</div>"
      ],
      "text/plain": [
       "          Titel      Regisseur              Acteurs        Genre  \\\n",
       "0          Iep!  Ineke Houtman  Huub Stapel Joke...  Familiefilm   \n",
       "1  Gangsterboys     Paul Ruven  Georgina Verbaan...      Komedie   \n",
       "\n",
       "  Bijzonderheden  random_number  \n",
       "0    17 februari       0.012898  \n",
       "1    18 februari       0.833662  "
      ]
     },
     "execution_count": 2,
     "metadata": {},
     "output_type": "execute_result"
    }
   ],
   "source": [
    "films = pd.read_excel('data/dutch_films.xlsx')\n",
    "films['random_number'] = np.random.random(len(films))\n",
    "films.head(2)"
   ]
  },
  {
   "cell_type": "markdown",
   "metadata": {
    "slideshow": {
     "slide_type": "subslide"
    }
   },
   "source": [
    "Show the first 2 rows with largest `random_number`:"
   ]
  },
  {
   "cell_type": "code",
   "execution_count": 3,
   "metadata": {
    "slideshow": {
     "slide_type": "-"
    }
   },
   "outputs": [
    {
     "data": {
      "text/html": [
       "<div>\n",
       "<style scoped>\n",
       "    .dataframe tbody tr th:only-of-type {\n",
       "        vertical-align: middle;\n",
       "    }\n",
       "\n",
       "    .dataframe tbody tr th {\n",
       "        vertical-align: top;\n",
       "    }\n",
       "\n",
       "    .dataframe thead th {\n",
       "        text-align: right;\n",
       "    }\n",
       "</style>\n",
       "<table border=\"1\" class=\"dataframe\">\n",
       "  <thead>\n",
       "    <tr style=\"text-align: right;\">\n",
       "      <th></th>\n",
       "      <th>Titel</th>\n",
       "      <th>Regisseur</th>\n",
       "      <th>Acteurs</th>\n",
       "      <th>Genre</th>\n",
       "      <th>Bijzonderheden</th>\n",
       "      <th>random_number</th>\n",
       "    </tr>\n",
       "  </thead>\n",
       "  <tbody>\n",
       "    <tr>\n",
       "      <th>26</th>\n",
       "      <td>New Kids Turbo</td>\n",
       "      <td>Steffen Haars Fl...</td>\n",
       "      <td>Huub Smit Tim Ha...</td>\n",
       "      <td>Komedie</td>\n",
       "      <td>9 december</td>\n",
       "      <td>0.974559</td>\n",
       "    </tr>\n",
       "    <tr>\n",
       "      <th>13</th>\n",
       "      <td>Foeksia de Miniheks</td>\n",
       "      <td>Johan Nijenhuis</td>\n",
       "      <td>Rachelle Verdel ...</td>\n",
       "      <td>Fantasy</td>\n",
       "      <td>6 oktober</td>\n",
       "      <td>0.935438</td>\n",
       "    </tr>\n",
       "  </tbody>\n",
       "</table>\n",
       "</div>"
      ],
      "text/plain": [
       "                  Titel            Regisseur              Acteurs    Genre  \\\n",
       "26       New Kids Turbo  Steffen Haars Fl...  Huub Smit Tim Ha...  Komedie   \n",
       "13  Foeksia de Miniheks      Johan Nijenhuis  Rachelle Verdel ...  Fantasy   \n",
       "\n",
       "   Bijzonderheden  random_number  \n",
       "26     9 december       0.974559  \n",
       "13      6 oktober       0.935438  "
      ]
     },
     "execution_count": 3,
     "metadata": {},
     "output_type": "execute_result"
    }
   ],
   "source": [
    "films.nlargest(2, columns='random_number')"
   ]
  },
  {
   "cell_type": "markdown",
   "metadata": {
    "slideshow": {
     "slide_type": "subslide"
    }
   },
   "source": [
    "Draw a sample of 5 items from `Genre` column without replacement:"
   ]
  },
  {
   "cell_type": "code",
   "execution_count": 36,
   "metadata": {
    "slideshow": {
     "slide_type": "-"
    }
   },
   "outputs": [
    {
     "data": {
      "text/plain": [
       "r6       Drama\n",
       "r18      Drama\n",
       "r5       Drama\n",
       "r9     Komedie\n",
       "r21     Horror\n",
       "Name: Genre, dtype: object"
      ]
     },
     "execution_count": 36,
     "metadata": {},
     "output_type": "execute_result"
    }
   ],
   "source": [
    "se = films['Genre']\n",
    "se.sample(5, replace=False)"
   ]
  },
  {
   "cell_type": "markdown",
   "metadata": {
    "slideshow": {
     "slide_type": "slide"
    }
   },
   "source": [
    "## Indexing attributes\n",
    "\n",
    "Indexing attributes provide access to the data stored in pandas objects through\n",
    "\n",
    "- label based indexing\n",
    "- position based indexing\n",
    "- boolean indexing \n",
    "\n",
    "these can be used with several different types of indexers.\n"
   ]
  },
  {
   "cell_type": "markdown",
   "metadata": {
    "slideshow": {
     "slide_type": "subslide"
    }
   },
   "source": [
    "An overview of the indexing attributes:\n",
    "\n",
    "<table style=\"border-collapse:collapse;border-spacing:0\">\n",
    "    <tr>\n",
    "        <th style=\"font-family:Arial, sans-serif;font-size:18px;font-weight:bold;padding:5px 5px;border-style:solid;border-width:1px;overflow:hidden;word-break:normal\" rowspan=\"2\">attribute</th>\n",
    "        <th style=\"font-family:Arial, sans-serif;font-size:18px;font-weight:bold;padding:5px 5px;border-style:solid;border-width:1px;overflow:hidden;word-break:normal;text-align:center;vertical-align:top\" colspan=\"3\">allowed indexers</th><th style=\"font-family:Arial, sans-serif;font-size:18px;font-weight:bold;padding:5px 5px;border-style:solid;border-width:1px;overflow:hidden;word-break:normal\" rowspan=\"2\">description</th>\n",
    "    </tr>\n",
    "    <tr>\n",
    "        <td style=\"font-family:Arial, sans-serif;font-size:18px;padding:5px 5px;border-style:solid;border-width:1px;overflow:hidden;word-break:normal;font-weight:bold;text-align:center;vertical-align:top\">value</td>\n",
    "        <td style=\"font-family:Arial, sans-serif;font-size:18px;padding:5px 5px;border-style:solid;border-width:1px;overflow:hidden;word-break:normal;font-weight:bold;text-align:center;vertical-align:top\">list</td>\n",
    "        <td style=\"font-family:Arial, sans-serif;font-size:18px;padding:5px 5px;border-style:solid;border-width:1px;overflow:hidden;word-break:normal;font-weight:bold;text-align:center;vertical-align:top\">slice</td>\n",
    "    </tr>\n",
    "    <tr>\n",
    "        <td style=\"font-family:Arial, sans-serif;font-size:18px;padding:5px 5px;border-style:solid;border-width:1px;overflow:hidden;word-break:normal\">`s.<idx>`<br>`df.<col>`</td>\n",
    "        <td style=\"font-family:Arial, sans-serif;font-size:18px;padding:5px 5px;border-style:solid;border-width:1px;overflow:hidden;word-break:normal;text-align:center\">label</td>\n",
    "        <td style=\"font-family:Arial, sans-serif;font-size:18px;padding:5px 5px;border-style:solid;border-width:1px;overflow:hidden;word-break:normal;text-align:center\">-</td>\n",
    "        <td style=\"font-family:Arial, sans-serif;font-size:18px;padding:5px 5px;border-style:solid;border-width:1px;overflow:hidden;word-break:normal;text-align:center\">-</td>\n",
    "        <td style=\"font-family:Arial, sans-serif;font-size:18px;padding:5px 5px;border-style:solid;border-width:1px;overflow:hidden;word-break:normal\">access a column (or index) as an attribute</td>\n",
    "    </tr>\n",
    "    <tr>\n",
    "        <td style=\"font-family:Arial, sans-serif;font-size:18px;padding:5px 5px;border-style:solid;border-width:1px;overflow:hidden;word-break:normal;vertical-align:top\">`s[…]`</td>\n",
    "        <td style=\"font-family:Arial, sans-serif;font-size:18px;padding:5px 5px;border-style:solid;border-width:1px;overflow:hidden;word-break:normal;text-align:center;vertical-align:top\">label, int</td>\n",
    "        <td style=\"font-family:Arial, sans-serif;font-size:18px;padding:5px 5px;border-style:solid;border-width:1px;overflow:hidden;word-break:normal;text-align:center;vertical-align:top\">label, int, bool</td>\n",
    "        <td style=\"font-family:Arial, sans-serif;font-size:18px;padding:5px 5px;border-style:solid;border-width:1px;overflow:hidden;word-break:normal;text-align:center;vertical-align:top\">label, int</td>\n",
    "        <td style=\"font-family:Arial, sans-serif;font-size:18px;padding:5px 5px;border-style:solid;border-width:1px;overflow:hidden;word-break:normal;vertical-align:top\">basic indexer for selecting values</td>\n",
    "    </tr>\n",
    "    <tr>\n",
    "        <td style=\"font-family:Arial, sans-serif;font-size:18px;padding:5px 5px;border-style:solid;border-width:1px;overflow:hidden;word-break:normal\">`df[…]` (cols)<br></td>\n",
    "        <td style=\"font-family:Arial, sans-serif;font-size:18px;padding:5px 5px;border-style:solid;border-width:1px;overflow:hidden;word-break:normal;text-align:center\">label</td>\n",
    "        <td style=\"font-family:Arial, sans-serif;font-size:18px;padding:5px 5px;border-style:solid;border-width:1px;overflow:hidden;word-break:normal;text-align:center\">label, int</td>\n",
    "        <td style=\"font-family:Arial, sans-serif;font-size:18px;padding:5px 5px;border-style:solid;border-width:1px;overflow:hidden;word-break:normal;text-align:center\">-</td>\n",
    "        <td style=\"font-family:Arial, sans-serif;font-size:18px;padding:5px 5px;border-style:solid;border-width:1px;overflow:hidden;word-break:normal\">basic indexer for selecting columns</td></tr><tr>\n",
    "        <td style=\"font-family:Arial, sans-serif;font-size:18px;padding:5px 5px;border-style:solid;border-width:1px;overflow:hidden;word-break:normal;vertical-align:top\">`df[…]` (rows)</td>\n",
    "        <td style=\"font-family:Arial, sans-serif;font-size:18px;padding:5px 5px;border-style:solid;border-width:1px;overflow:hidden;word-break:normal;text-align:center;vertical-align:top\">-</td>\n",
    "        <td style=\"font-family:Arial, sans-serif;font-size:18px;padding:5px 5px;border-style:solid;border-width:1px;overflow:hidden;word-break:normal;text-align:center;vertical-align:top\">bool</td>\n",
    "        <td style=\"font-family:Arial, sans-serif;font-size:18px;padding:5px 5px;border-style:solid;border-width:1px;overflow:hidden;word-break:normal;text-align:center;vertical-align:top\">int</td>\n",
    "        <td style=\"font-family:Arial, sans-serif;font-size:18px;padding:5px 5px;border-style:solid;border-width:1px;overflow:hidden;word-break:normal;vertical-align:top\">basic indexer for selecting rows</td>\n",
    "    </tr>\n",
    "    <tr>\n",
    "        <td style=\"font-family:Arial, sans-serif;font-size:18px;padding:5px 5px;border-style:solid;border-width:1px;overflow:hidden;word-break:normal;vertical-align:top\">`obj.loc[…]`</td>\n",
    "        <td style=\"font-family:Arial, sans-serif;font-size:18px;padding:5px 5px;border-style:solid;border-width:1px;overflow:hidden;word-break:normal;text-align:center;vertical-align:top\">label</td>\n",
    "        <td style=\"font-family:Arial, sans-serif;font-size:18px;padding:5px 5px;border-style:solid;border-width:1px;overflow:hidden;word-break:normal;text-align:center;vertical-align:top\">label, bool</td>\n",
    "        <td style=\"font-family:Arial, sans-serif;font-size:18px;padding:5px 5px;border-style:solid;border-width:1px;overflow:hidden;word-break:normal;text-align:center;vertical-align:top\">label</td>\n",
    "        <td style=\"font-family:Arial, sans-serif;font-size:18px;padding:5px 5px;border-style:solid;border-width:1px;overflow:hidden;word-break:normal;vertical-align:top\">label-location based indexer</td>    \n",
    "    </tr>\n",
    "    <tr>\n",
    "        <td style=\"font-family:Arial, sans-serif;font-size:18px;padding:5px 5px;border-style:solid;border-width:1px;overflow:hidden;word-break:normal;vertical-align:top\">`obj.iloc[…]`</td>\n",
    "        <td style=\"font-family:Arial, sans-serif;font-size:18px;padding:5px 5px;border-style:solid;border-width:1px;overflow:hidden;word-break:normal;text-align:center;vertical-align:top\">int</td>\n",
    "        <td style=\"font-family:Arial, sans-serif;font-size:18px;padding:5px 5px;border-style:solid;border-width:1px;overflow:hidden;word-break:normal;text-align:center;vertical-align:top\">int, bool</td>\n",
    "        <td style=\"font-family:Arial, sans-serif;font-size:18px;padding:5px 5px;border-style:solid;border-width:1px;overflow:hidden;word-break:normal;text-align:center;vertical-align:top\">int</td>\n",
    "        <td style=\"font-family:Arial, sans-serif;font-size:18px;padding:5px 5px;border-style:solid;border-width:1px;overflow:hidden;word-break:normal;vertical-align:top\">integer-location based indexer</td>\n",
    "    </tr>\n",
    "    <tr>\n",
    "        <td style=\"font-family:Arial, sans-serif;font-size:18px;padding:5px 5px;border-style:solid;border-width:1px;overflow:hidden;word-break:normal;vertical-align:top\">`obj.ix[…]`</td>\n",
    "        <td style=\"font-family:Arial, sans-serif;font-size:18px;padding:5px 5px;border-style:solid;border-width:1px;overflow:hidden;word-break:normal;text-align:center;vertical-align:top\">label, int</td>\n",
    "        <td style=\"font-family:Arial, sans-serif;font-size:18px;padding:5px 5px;border-style:solid;border-width:1px;overflow:hidden;word-break:normal;text-align:center;vertical-align:top\">label, int, bool</td>\n",
    "        <td style=\"font-family:Arial, sans-serif;font-size:18px;padding:5px 5px;border-style:solid;border-width:1px;overflow:hidden;word-break:normal;text-align:center;vertical-align:top\">label, int</td>\n",
    "        <td style=\"font-family:Arial, sans-serif;font-size:18px;padding:5px 5px;border-style:solid;border-width:1px;overflow:hidden;word-break:normal;vertical-align:top\">label-location based indexer, with integer position fallback <p>(will be removed in future version of pandas)</p></td>\n",
    "    </tr>\n",
    "    <tr>\n",
    "        <td style=\"font-family:Arial, sans-serif;font-size:18px;padding:5px 5px;border-style:solid;border-width:1px;overflow:hidden;word-break:normal;vertical-align:top\">`obj.at[…]`</td>\n",
    "        <td style=\"font-family:Arial, sans-serif;font-size:18px;padding:5px 5px;border-style:solid;border-width:1px;overflow:hidden;word-break:normal;text-align:center;vertical-align:top\">label</td>\n",
    "        <td style=\"font-family:Arial, sans-serif;font-size:18px;padding:5px 5px;border-style:solid;border-width:1px;overflow:hidden;word-break:normal;text-align:center;vertical-align:top\">-</td>\n",
    "        <td style=\"font-family:Arial, sans-serif;font-size:18px;padding:5px 5px;border-style:solid;border-width:1px;overflow:hidden;word-break:normal;text-align:center;vertical-align:top\">-</td>\n",
    "        <td style=\"font-family:Arial, sans-serif;font-size:18px;padding:5px 5px;border-style:solid;border-width:1px;overflow:hidden;word-break:normal;vertical-align:top\">fast label-location based scalar accessor</td>\n",
    "    </tr>\n",
    "    <tr>\n",
    "        <td style=\"font-family:Arial, sans-serif;font-size:18px;padding:5px 5px;border-style:solid;border-width:1px;overflow:hidden;word-break:normal;vertical-align:top\">`obj.iat[…]`</td><td style=\"font-family:Arial, sans-serif;font-size:18px;padding:5px 5px;border-style:solid;border-width:1px;overflow:hidden;word-break:normal;text-align:center;vertical-align:top\">int</td>\n",
    "        <td style=\"font-family:Arial, sans-serif;font-size:18px;padding:5px 5px;border-style:solid;border-width:1px;overflow:hidden;word-break:normal;text-align:center;vertical-align:top\">-</td>\n",
    "        <td style=\"font-family:Arial, sans-serif;font-size:18px;padding:5px 5px;border-style:solid;border-width:1px;overflow:hidden;word-break:normal;text-align:center;vertical-align:top\">-</td>\n",
    "        <td style=\"font-family:Arial, sans-serif;font-size:18px;padding:5px 5px;border-style:solid;border-width:1px;overflow:hidden;word-break:normal;vertical-align:top\">fast integer-location based scalar accessor</td>\n",
    "    </tr>\n",
    "</table>"
   ]
  },
  {
   "cell_type": "markdown",
   "metadata": {
    "slideshow": {
     "slide_type": "fragment"
    }
   },
   "source": [
    "Next we will go over some examples different data selections."
   ]
  },
  {
   "cell_type": "markdown",
   "metadata": {
    "slideshow": {
     "slide_type": "subslide"
    }
   },
   "source": [
    "### Selecting column(s)"
   ]
  },
  {
   "cell_type": "markdown",
   "metadata": {
    "slideshow": {
     "slide_type": "-"
    }
   },
   "source": [
    "Select single column as Series:"
   ]
  },
  {
   "cell_type": "code",
   "execution_count": 5,
   "metadata": {},
   "outputs": [
    {
     "data": {
      "text/plain": [
       "0                   Iep!\n",
       "1           Gangsterboys\n",
       "2    Snuf en de IJsvogel\n",
       "Name: Titel, dtype: object"
      ]
     },
     "execution_count": 5,
     "metadata": {},
     "output_type": "execute_result"
    }
   ],
   "source": [
    "s = films['Titel']\n",
    "s = films.loc[:, 'Titel']\n",
    "s = films.iloc[:, 0]\n",
    "s = films.Titel\n",
    "s.head(3)"
   ]
  },
  {
   "cell_type": "markdown",
   "metadata": {
    "slideshow": {
     "slide_type": "subslide"
    }
   },
   "source": [
    "Select single column as DataFrame:"
   ]
  },
  {
   "cell_type": "code",
   "execution_count": 6,
   "metadata": {},
   "outputs": [
    {
     "data": {
      "text/html": [
       "<div>\n",
       "<style scoped>\n",
       "    .dataframe tbody tr th:only-of-type {\n",
       "        vertical-align: middle;\n",
       "    }\n",
       "\n",
       "    .dataframe tbody tr th {\n",
       "        vertical-align: top;\n",
       "    }\n",
       "\n",
       "    .dataframe thead th {\n",
       "        text-align: right;\n",
       "    }\n",
       "</style>\n",
       "<table border=\"1\" class=\"dataframe\">\n",
       "  <thead>\n",
       "    <tr style=\"text-align: right;\">\n",
       "      <th></th>\n",
       "      <th>Titel</th>\n",
       "    </tr>\n",
       "  </thead>\n",
       "  <tbody>\n",
       "    <tr>\n",
       "      <th>0</th>\n",
       "      <td>Iep!</td>\n",
       "    </tr>\n",
       "    <tr>\n",
       "      <th>1</th>\n",
       "      <td>Gangsterboys</td>\n",
       "    </tr>\n",
       "    <tr>\n",
       "      <th>2</th>\n",
       "      <td>Snuf en de IJsvogel</td>\n",
       "    </tr>\n",
       "  </tbody>\n",
       "</table>\n",
       "</div>"
      ],
      "text/plain": [
       "                 Titel\n",
       "0                 Iep!\n",
       "1         Gangsterboys\n",
       "2  Snuf en de IJsvogel"
      ]
     },
     "execution_count": 6,
     "metadata": {},
     "output_type": "execute_result"
    }
   ],
   "source": [
    "df = films[['Titel']]\n",
    "df = films.loc[:, ['Titel']]\n",
    "df = films.iloc[:, [0]] \n",
    "df.head(3)"
   ]
  },
  {
   "cell_type": "markdown",
   "metadata": {
    "slideshow": {
     "slide_type": "subslide"
    }
   },
   "source": [
    "Select multiple columns:"
   ]
  },
  {
   "cell_type": "code",
   "execution_count": 9,
   "metadata": {},
   "outputs": [
    {
     "data": {
      "text/html": [
       "<div>\n",
       "<style scoped>\n",
       "    .dataframe tbody tr th:only-of-type {\n",
       "        vertical-align: middle;\n",
       "    }\n",
       "\n",
       "    .dataframe tbody tr th {\n",
       "        vertical-align: top;\n",
       "    }\n",
       "\n",
       "    .dataframe thead th {\n",
       "        text-align: right;\n",
       "    }\n",
       "</style>\n",
       "<table border=\"1\" class=\"dataframe\">\n",
       "  <thead>\n",
       "    <tr style=\"text-align: right;\">\n",
       "      <th></th>\n",
       "      <th>Titel</th>\n",
       "      <th>Regisseur</th>\n",
       "      <th>Acteurs</th>\n",
       "    </tr>\n",
       "  </thead>\n",
       "  <tbody>\n",
       "    <tr>\n",
       "      <th>0</th>\n",
       "      <td>Iep!</td>\n",
       "      <td>Ineke Houtman</td>\n",
       "      <td>Huub Stapel Joke...</td>\n",
       "    </tr>\n",
       "    <tr>\n",
       "      <th>1</th>\n",
       "      <td>Gangsterboys</td>\n",
       "      <td>Paul Ruven</td>\n",
       "      <td>Georgina Verbaan...</td>\n",
       "    </tr>\n",
       "    <tr>\n",
       "      <th>2</th>\n",
       "      <td>Snuf en de IJsvogel</td>\n",
       "      <td>Steven de Jong</td>\n",
       "      <td>Ydwer Bosma Joos...</td>\n",
       "    </tr>\n",
       "  </tbody>\n",
       "</table>\n",
       "</div>"
      ],
      "text/plain": [
       "                 Titel       Regisseur              Acteurs\n",
       "0                 Iep!   Ineke Houtman  Huub Stapel Joke...\n",
       "1         Gangsterboys      Paul Ruven  Georgina Verbaan...\n",
       "2  Snuf en de IJsvogel  Steven de Jong  Ydwer Bosma Joos..."
      ]
     },
     "execution_count": 9,
     "metadata": {},
     "output_type": "execute_result"
    }
   ],
   "source": [
    "df = films[['Titel', 'Regisseur', 'Acteurs']]\n",
    "df = films.loc[:, ['Titel', 'Regisseur', 'Acteurs']]\n",
    "df = films.loc[:, 'Titel':'Acteurs']  # incl. 'Regisseur'\n",
    "df = films.iloc[:, [0, 1, 2]]\n",
    "df = films.iloc[:, :3]  # excl. 3\n",
    "\n",
    "bool_idx = films.columns.isin(['Titel', 'Regisseur', 'Acteurs'])\n",
    "df = df.loc[:, bool_idx]\n",
    "\n",
    "df.head(3)"
   ]
  },
  {
   "cell_type": "markdown",
   "metadata": {
    "slideshow": {
     "slide_type": "subslide"
    }
   },
   "source": [
    "### Selecting row(s)"
   ]
  },
  {
   "cell_type": "markdown",
   "metadata": {
    "slideshow": {
     "slide_type": "-"
    }
   },
   "source": [
    "First, let's add row labels to the index of the DataFrame:"
   ]
  },
  {
   "cell_type": "code",
   "execution_count": 10,
   "metadata": {},
   "outputs": [
    {
     "data": {
      "text/html": [
       "<div>\n",
       "<style scoped>\n",
       "    .dataframe tbody tr th:only-of-type {\n",
       "        vertical-align: middle;\n",
       "    }\n",
       "\n",
       "    .dataframe tbody tr th {\n",
       "        vertical-align: top;\n",
       "    }\n",
       "\n",
       "    .dataframe thead th {\n",
       "        text-align: right;\n",
       "    }\n",
       "</style>\n",
       "<table border=\"1\" class=\"dataframe\">\n",
       "  <thead>\n",
       "    <tr style=\"text-align: right;\">\n",
       "      <th></th>\n",
       "      <th>Titel</th>\n",
       "      <th>Regisseur</th>\n",
       "      <th>Acteurs</th>\n",
       "      <th>Genre</th>\n",
       "      <th>Bijzonderheden</th>\n",
       "      <th>random_number</th>\n",
       "    </tr>\n",
       "  </thead>\n",
       "  <tbody>\n",
       "    <tr>\n",
       "      <th>r0</th>\n",
       "      <td>Iep!</td>\n",
       "      <td>Ineke Houtman</td>\n",
       "      <td>Huub Stapel Joke...</td>\n",
       "      <td>Familiefilm</td>\n",
       "      <td>17 februari</td>\n",
       "      <td>0.012898</td>\n",
       "    </tr>\n",
       "    <tr>\n",
       "      <th>r1</th>\n",
       "      <td>Gangsterboys</td>\n",
       "      <td>Paul Ruven</td>\n",
       "      <td>Georgina Verbaan...</td>\n",
       "      <td>Komedie</td>\n",
       "      <td>18 februari</td>\n",
       "      <td>0.833662</td>\n",
       "    </tr>\n",
       "    <tr>\n",
       "      <th>r2</th>\n",
       "      <td>Snuf en de IJsvogel</td>\n",
       "      <td>Steven de Jong</td>\n",
       "      <td>Ydwer Bosma Joos...</td>\n",
       "      <td>Familiefilm</td>\n",
       "      <td>20 februari</td>\n",
       "      <td>0.207152</td>\n",
       "    </tr>\n",
       "    <tr>\n",
       "      <th>r3</th>\n",
       "      <td>Zwart water</td>\n",
       "      <td>Elbert van Strien</td>\n",
       "      <td>Hadewych Minis B...</td>\n",
       "      <td>Horror</td>\n",
       "      <td>11 maart</td>\n",
       "      <td>0.531159</td>\n",
       "    </tr>\n",
       "    <tr>\n",
       "      <th>r4</th>\n",
       "      <td>First Mission</td>\n",
       "      <td>Boris Pavel Conen</td>\n",
       "      <td>Anniek Pheifer T...</td>\n",
       "      <td>Drama</td>\n",
       "      <td>25 maart</td>\n",
       "      <td>0.220960</td>\n",
       "    </tr>\n",
       "  </tbody>\n",
       "</table>\n",
       "</div>"
      ],
      "text/plain": [
       "                  Titel          Regisseur              Acteurs        Genre  \\\n",
       "r0                 Iep!      Ineke Houtman  Huub Stapel Joke...  Familiefilm   \n",
       "r1         Gangsterboys         Paul Ruven  Georgina Verbaan...      Komedie   \n",
       "r2  Snuf en de IJsvogel     Steven de Jong  Ydwer Bosma Joos...  Familiefilm   \n",
       "r3          Zwart water  Elbert van Strien  Hadewych Minis B...       Horror   \n",
       "r4        First Mission  Boris Pavel Conen  Anniek Pheifer T...        Drama   \n",
       "\n",
       "   Bijzonderheden  random_number  \n",
       "r0    17 februari       0.012898  \n",
       "r1    18 februari       0.833662  \n",
       "r2    20 februari       0.207152  \n",
       "r3       11 maart       0.531159  \n",
       "r4       25 maart       0.220960  "
      ]
     },
     "execution_count": 10,
     "metadata": {},
     "output_type": "execute_result"
    }
   ],
   "source": [
    "films.index = ['r{}'.format(i) for i in range(len(films))]\n",
    "films.head(5)"
   ]
  },
  {
   "cell_type": "markdown",
   "metadata": {
    "slideshow": {
     "slide_type": "subslide"
    }
   },
   "source": [
    "Selecting single row as Series:"
   ]
  },
  {
   "cell_type": "code",
   "execution_count": 11,
   "metadata": {
    "slideshow": {
     "slide_type": "-"
    }
   },
   "outputs": [
    {
     "data": {
      "text/plain": [
       "Titel                   First Mission\n",
       "Regisseur           Boris Pavel Conen\n",
       "Acteurs           Anniek Pheifer T...\n",
       "Genre                           Drama\n",
       "Bijzonderheden               25 maart\n",
       "random_number                 0.22096\n",
       "Name: r4, dtype: object"
      ]
     },
     "execution_count": 11,
     "metadata": {},
     "output_type": "execute_result"
    }
   ],
   "source": [
    "s = films.loc['r4']\n",
    "s = films.iloc[4]\n",
    "s"
   ]
  },
  {
   "cell_type": "markdown",
   "metadata": {
    "slideshow": {
     "slide_type": "subslide"
    }
   },
   "source": [
    "Selecting single row as DataFrame:"
   ]
  },
  {
   "cell_type": "code",
   "execution_count": 12,
   "metadata": {},
   "outputs": [
    {
     "data": {
      "text/html": [
       "<div>\n",
       "<style scoped>\n",
       "    .dataframe tbody tr th:only-of-type {\n",
       "        vertical-align: middle;\n",
       "    }\n",
       "\n",
       "    .dataframe tbody tr th {\n",
       "        vertical-align: top;\n",
       "    }\n",
       "\n",
       "    .dataframe thead th {\n",
       "        text-align: right;\n",
       "    }\n",
       "</style>\n",
       "<table border=\"1\" class=\"dataframe\">\n",
       "  <thead>\n",
       "    <tr style=\"text-align: right;\">\n",
       "      <th></th>\n",
       "      <th>Titel</th>\n",
       "      <th>Regisseur</th>\n",
       "      <th>Acteurs</th>\n",
       "      <th>Genre</th>\n",
       "      <th>Bijzonderheden</th>\n",
       "      <th>random_number</th>\n",
       "    </tr>\n",
       "  </thead>\n",
       "  <tbody>\n",
       "    <tr>\n",
       "      <th>r4</th>\n",
       "      <td>First Mission</td>\n",
       "      <td>Boris Pavel Conen</td>\n",
       "      <td>Anniek Pheifer T...</td>\n",
       "      <td>Drama</td>\n",
       "      <td>25 maart</td>\n",
       "      <td>0.22096</td>\n",
       "    </tr>\n",
       "  </tbody>\n",
       "</table>\n",
       "</div>"
      ],
      "text/plain": [
       "            Titel          Regisseur              Acteurs  Genre  \\\n",
       "r4  First Mission  Boris Pavel Conen  Anniek Pheifer T...  Drama   \n",
       "\n",
       "   Bijzonderheden  random_number  \n",
       "r4       25 maart        0.22096  "
      ]
     },
     "execution_count": 12,
     "metadata": {},
     "output_type": "execute_result"
    }
   ],
   "source": [
    "df = films.loc[['r4']]\n",
    "df = films.iloc[[4]]\n",
    "df = films[films.index == 'r4']\n",
    "df"
   ]
  },
  {
   "cell_type": "markdown",
   "metadata": {
    "slideshow": {
     "slide_type": "subslide"
    }
   },
   "source": [
    "Selecting multiple rows:\n"
   ]
  },
  {
   "cell_type": "code",
   "execution_count": 13,
   "metadata": {},
   "outputs": [
    {
     "data": {
      "text/html": [
       "<div>\n",
       "<style scoped>\n",
       "    .dataframe tbody tr th:only-of-type {\n",
       "        vertical-align: middle;\n",
       "    }\n",
       "\n",
       "    .dataframe tbody tr th {\n",
       "        vertical-align: top;\n",
       "    }\n",
       "\n",
       "    .dataframe thead th {\n",
       "        text-align: right;\n",
       "    }\n",
       "</style>\n",
       "<table border=\"1\" class=\"dataframe\">\n",
       "  <thead>\n",
       "    <tr style=\"text-align: right;\">\n",
       "      <th></th>\n",
       "      <th>Titel</th>\n",
       "      <th>Regisseur</th>\n",
       "      <th>Acteurs</th>\n",
       "      <th>Genre</th>\n",
       "      <th>Bijzonderheden</th>\n",
       "      <th>random_number</th>\n",
       "    </tr>\n",
       "  </thead>\n",
       "  <tbody>\n",
       "    <tr>\n",
       "      <th>r2</th>\n",
       "      <td>Snuf en de IJsvogel</td>\n",
       "      <td>Steven de Jong</td>\n",
       "      <td>Ydwer Bosma Joos...</td>\n",
       "      <td>Familiefilm</td>\n",
       "      <td>20 februari</td>\n",
       "      <td>0.207152</td>\n",
       "    </tr>\n",
       "    <tr>\n",
       "      <th>r3</th>\n",
       "      <td>Zwart water</td>\n",
       "      <td>Elbert van Strien</td>\n",
       "      <td>Hadewych Minis B...</td>\n",
       "      <td>Horror</td>\n",
       "      <td>11 maart</td>\n",
       "      <td>0.531159</td>\n",
       "    </tr>\n",
       "    <tr>\n",
       "      <th>r4</th>\n",
       "      <td>First Mission</td>\n",
       "      <td>Boris Pavel Conen</td>\n",
       "      <td>Anniek Pheifer T...</td>\n",
       "      <td>Drama</td>\n",
       "      <td>25 maart</td>\n",
       "      <td>0.220960</td>\n",
       "    </tr>\n",
       "  </tbody>\n",
       "</table>\n",
       "</div>"
      ],
      "text/plain": [
       "                  Titel          Regisseur              Acteurs        Genre  \\\n",
       "r2  Snuf en de IJsvogel     Steven de Jong  Ydwer Bosma Joos...  Familiefilm   \n",
       "r3          Zwart water  Elbert van Strien  Hadewych Minis B...       Horror   \n",
       "r4        First Mission  Boris Pavel Conen  Anniek Pheifer T...        Drama   \n",
       "\n",
       "   Bijzonderheden  random_number  \n",
       "r2    20 februari       0.207152  \n",
       "r3       11 maart       0.531159  \n",
       "r4       25 maart       0.220960  "
      ]
     },
     "execution_count": 13,
     "metadata": {},
     "output_type": "execute_result"
    }
   ],
   "source": [
    "df = films['r2':'r4'] # incl 'r4'\n",
    "df = films[2:5] # excl 5\n",
    "df = films.loc['r2':'r4'] \n",
    "df = films.loc[slice('r2', 'r4')]\n",
    "df = films.iloc[2:5]\n",
    "df = films.loc[films.index.isin(['r2', 'r3', 'r4'])]\n",
    "df"
   ]
  },
  {
   "cell_type": "markdown",
   "metadata": {
    "slideshow": {
     "slide_type": "subslide"
    }
   },
   "source": [
    "### Selecting a cross-section"
   ]
  },
  {
   "cell_type": "code",
   "execution_count": 14,
   "metadata": {},
   "outputs": [
    {
     "data": {
      "text/html": [
       "<div>\n",
       "<style scoped>\n",
       "    .dataframe tbody tr th:only-of-type {\n",
       "        vertical-align: middle;\n",
       "    }\n",
       "\n",
       "    .dataframe tbody tr th {\n",
       "        vertical-align: top;\n",
       "    }\n",
       "\n",
       "    .dataframe thead th {\n",
       "        text-align: right;\n",
       "    }\n",
       "</style>\n",
       "<table border=\"1\" class=\"dataframe\">\n",
       "  <thead>\n",
       "    <tr style=\"text-align: right;\">\n",
       "      <th></th>\n",
       "      <th>Titel</th>\n",
       "      <th>Regisseur</th>\n",
       "      <th>Acteurs</th>\n",
       "    </tr>\n",
       "  </thead>\n",
       "  <tbody>\n",
       "    <tr>\n",
       "      <th>r2</th>\n",
       "      <td>Snuf en de IJsvogel</td>\n",
       "      <td>Steven de Jong</td>\n",
       "      <td>Ydwer Bosma Joos...</td>\n",
       "    </tr>\n",
       "    <tr>\n",
       "      <th>r3</th>\n",
       "      <td>Zwart water</td>\n",
       "      <td>Elbert van Strien</td>\n",
       "      <td>Hadewych Minis B...</td>\n",
       "    </tr>\n",
       "    <tr>\n",
       "      <th>r4</th>\n",
       "      <td>First Mission</td>\n",
       "      <td>Boris Pavel Conen</td>\n",
       "      <td>Anniek Pheifer T...</td>\n",
       "    </tr>\n",
       "  </tbody>\n",
       "</table>\n",
       "</div>"
      ],
      "text/plain": [
       "                  Titel          Regisseur              Acteurs\n",
       "r2  Snuf en de IJsvogel     Steven de Jong  Ydwer Bosma Joos...\n",
       "r3          Zwart water  Elbert van Strien  Hadewych Minis B...\n",
       "r4        First Mission  Boris Pavel Conen  Anniek Pheifer T..."
      ]
     },
     "execution_count": 14,
     "metadata": {},
     "output_type": "execute_result"
    }
   ],
   "source": [
    "df = films.loc['r2':'r4', \n",
    "               ['Titel', 'Regisseur', 'Acteurs']]\n",
    "df = films.loc[slice('r2','r4'),\n",
    "               ['Titel', 'Regisseur', 'Acteurs']]\n",
    "df = films.iloc[2:5, 0:3]\n",
    "df.head(3)"
   ]
  },
  {
   "cell_type": "markdown",
   "metadata": {
    "slideshow": {
     "slide_type": "subslide"
    }
   },
   "source": [
    "### Selecting a single value"
   ]
  },
  {
   "cell_type": "code",
   "execution_count": 15,
   "metadata": {
    "slideshow": {
     "slide_type": "-"
    }
   },
   "outputs": [
    {
     "data": {
      "text/plain": [
       "'Snuf en de IJsvogel'"
      ]
     },
     "execution_count": 15,
     "metadata": {},
     "output_type": "execute_result"
    }
   ],
   "source": [
    "val = films.loc['r2', 'Titel']\n",
    "val = films.iloc[2, 0]\n",
    "val = films.iat[2, 0]\n",
    "val = films.at['r2', 'Titel']\n",
    "val"
   ]
  },
  {
   "cell_type": "markdown",
   "metadata": {
    "slideshow": {
     "slide_type": "subslide"
    }
   },
   "source": [
    "### Pitfall: chained indexing\n",
    "\n",
    "Try to avoid chaining indexing operations; especially when modifying the resulting object.  "
   ]
  },
  {
   "cell_type": "markdown",
   "metadata": {
    "slideshow": {
     "slide_type": "fragment"
    }
   },
   "source": [
    "Example of chained indexing and preferred alternative:"
   ]
  },
  {
   "cell_type": "code",
   "execution_count": 16,
   "metadata": {
    "scrolled": true
   },
   "outputs": [
    {
     "data": {
      "text/plain": [
       "'First Mission'"
      ]
     },
     "execution_count": 16,
     "metadata": {},
     "output_type": "execute_result"
    }
   ],
   "source": [
    "val = df.iloc[2]['Titel']  #chained indexing\n",
    "val = df.loc[df.index[2], 'Titel']  # preferred! \n",
    "val"
   ]
  },
  {
   "cell_type": "markdown",
   "metadata": {
    "slideshow": {
     "slide_type": "fragment"
    }
   },
   "source": [
    "Why should we avoid this? \n",
    "- with chaining it is often unclear if the result is a copy or view \n",
    "- this can cause problems when one wants to modify the original object"
   ]
  },
  {
   "cell_type": "markdown",
   "metadata": {
    "slideshow": {
     "slide_type": "subslide"
    }
   },
   "source": [
    "An example of assignment failing due to chained indexing (notice the warning):"
   ]
  },
  {
   "cell_type": "code",
   "execution_count": 17,
   "metadata": {
    "scrolled": true
   },
   "outputs": [
    {
     "name": "stderr",
     "output_type": "stream",
     "text": [
      "/Users/vincentwarmerdam/Development/accelerator/venv/lib/python3.6/site-packages/ipykernel_launcher.py:1: SettingWithCopyWarning: \n",
      "A value is trying to be set on a copy of a slice from a DataFrame\n",
      "\n",
      "See the caveats in the documentation: http://pandas.pydata.org/pandas-docs/stable/indexing.html#indexing-view-versus-copy\n",
      "  \"\"\"Entry point for launching an IPython kernel.\n"
     ]
    },
    {
     "data": {
      "text/plain": [
       "'Snuf en de IJsvogel'"
      ]
     },
     "execution_count": 17,
     "metadata": {},
     "output_type": "execute_result"
    }
   ],
   "source": [
    "films.loc['r2']['Titel'] = 'Some new title'  # modifying a copy!\n",
    "films.loc['r2']['Titel']"
   ]
  },
  {
   "cell_type": "markdown",
   "metadata": {
    "slideshow": {
     "slide_type": "subslide"
    }
   },
   "source": [
    "now doing the assignment correctly:"
   ]
  },
  {
   "cell_type": "code",
   "execution_count": 18,
   "metadata": {},
   "outputs": [
    {
     "data": {
      "text/plain": [
       "'Another new title'"
      ]
     },
     "execution_count": 18,
     "metadata": {},
     "output_type": "execute_result"
    }
   ],
   "source": [
    "films.loc['r2', 'Titel'] = 'Another new title'  # modifying a view!\n",
    "films.loc['r2', 'Titel']"
   ]
  },
  {
   "cell_type": "markdown",
   "metadata": {
    "slideshow": {
     "slide_type": "fragment"
    }
   },
   "source": [
    "The `SettingWithCopy` warning can be annoying, however it can safe you from this pitfall!"
   ]
  },
  {
   "cell_type": "markdown",
   "metadata": {
    "slideshow": {
     "slide_type": "subslide"
    }
   },
   "source": [
    "### Which indexing attribute to use?\n",
    "\n",
    "Use the following ordering as a rule of thumb:\n",
    " \n",
    " 1. `obj.loc[]`\n",
    " 2. `obj.iloc[]`\n",
    " 3. `[]`"
   ]
  },
  {
   "cell_type": "markdown",
   "metadata": {
    "slideshow": {
     "slide_type": "slide"
    }
   },
   "source": [
    "## Filtering the data\n",
    "\n",
    "Filtering allows the selection of subsets of data that statisfy some specified criterion. \n",
    "\n"
   ]
  },
  {
   "cell_type": "markdown",
   "metadata": {
    "slideshow": {
     "slide_type": "fragment"
    }
   },
   "source": [
    "The most common approaches to filtering are:\n",
    "\n",
    "- filtering with comparison operators\n",
    "- filtering with boolean methods \n",
    "    * e.g. `obj.isin()`, `obj.isnull()`"
   ]
  },
  {
   "cell_type": "markdown",
   "metadata": {
    "slideshow": {
     "slide_type": "fragment"
    }
   },
   "source": [
    "Next we will go over these methods in more detail."
   ]
  },
  {
   "cell_type": "markdown",
   "metadata": {
    "slideshow": {
     "slide_type": "subslide"
    }
   },
   "source": [
    "###  Filtering with comparison operators\n",
    "\n",
    "Comparison operators allows for easy filtering through boolean indexing:\n",
    "\n",
    "- the available operators: `<`, `<=`, `==`, `!=`, `>=`, `>`\n",
    "- comparison is usually done with Series object (=single DataFrame column)\n",
    "- combining multiple comparisons is allowed:\n",
    "  - combine using boolean operators: `|` (=or), `&` (=and)\n",
    "  - each comparison must be enclosed in braces, eg. `df[([df['a'] > 1) & (df['b']  < 5)]`\n",
    "- negations can be done with the `~` (not) boolean operator"
   ]
  },
  {
   "cell_type": "markdown",
   "metadata": {
    "slideshow": {
     "slide_type": "subslide"
    }
   },
   "source": [
    "Select films with `random_number` larger than 0.9:"
   ]
  },
  {
   "cell_type": "code",
   "execution_count": 19,
   "metadata": {},
   "outputs": [
    {
     "data": {
      "text/html": [
       "<div>\n",
       "<style scoped>\n",
       "    .dataframe tbody tr th:only-of-type {\n",
       "        vertical-align: middle;\n",
       "    }\n",
       "\n",
       "    .dataframe tbody tr th {\n",
       "        vertical-align: top;\n",
       "    }\n",
       "\n",
       "    .dataframe thead th {\n",
       "        text-align: right;\n",
       "    }\n",
       "</style>\n",
       "<table border=\"1\" class=\"dataframe\">\n",
       "  <thead>\n",
       "    <tr style=\"text-align: right;\">\n",
       "      <th></th>\n",
       "      <th>Titel</th>\n",
       "      <th>Regisseur</th>\n",
       "      <th>Acteurs</th>\n",
       "      <th>Genre</th>\n",
       "      <th>Bijzonderheden</th>\n",
       "      <th>random_number</th>\n",
       "    </tr>\n",
       "  </thead>\n",
       "  <tbody>\n",
       "    <tr>\n",
       "      <th>r13</th>\n",
       "      <td>Foeksia de Miniheks</td>\n",
       "      <td>Johan Nijenhuis</td>\n",
       "      <td>Rachelle Verdel ...</td>\n",
       "      <td>Fantasy</td>\n",
       "      <td>6 oktober</td>\n",
       "      <td>0.935438</td>\n",
       "    </tr>\n",
       "    <tr>\n",
       "      <th>r24</th>\n",
       "      <td>Het Geheim</td>\n",
       "      <td>Joram Lürsen</td>\n",
       "      <td>Theo Maassen Cha...</td>\n",
       "      <td>Familiefilm</td>\n",
       "      <td>1 december</td>\n",
       "      <td>0.912344</td>\n",
       "    </tr>\n",
       "    <tr>\n",
       "      <th>r26</th>\n",
       "      <td>New Kids Turbo</td>\n",
       "      <td>Steffen Haars Fl...</td>\n",
       "      <td>Huub Smit Tim Ha...</td>\n",
       "      <td>Komedie</td>\n",
       "      <td>9 december</td>\n",
       "      <td>0.974559</td>\n",
       "    </tr>\n",
       "  </tbody>\n",
       "</table>\n",
       "</div>"
      ],
      "text/plain": [
       "                   Titel            Regisseur              Acteurs  \\\n",
       "r13  Foeksia de Miniheks      Johan Nijenhuis  Rachelle Verdel ...   \n",
       "r24           Het Geheim         Joram Lürsen  Theo Maassen Cha...   \n",
       "r26       New Kids Turbo  Steffen Haars Fl...  Huub Smit Tim Ha...   \n",
       "\n",
       "           Genre Bijzonderheden  random_number  \n",
       "r13      Fantasy      6 oktober       0.935438  \n",
       "r24  Familiefilm     1 december       0.912344  \n",
       "r26      Komedie     9 december       0.974559  "
      ]
     },
     "execution_count": 19,
     "metadata": {},
     "output_type": "execute_result"
    }
   ],
   "source": [
    "df = films[films['random_number'] > .9]\n",
    "df"
   ]
  },
  {
   "cell_type": "markdown",
   "metadata": {
    "slideshow": {
     "slide_type": "subslide"
    }
   },
   "source": [
    "Select films with `random_number` larger than 0.9 and `Genre` is drama:"
   ]
  },
  {
   "cell_type": "code",
   "execution_count": 20,
   "metadata": {},
   "outputs": [
    {
     "data": {
      "text/html": [
       "<div>\n",
       "<style scoped>\n",
       "    .dataframe tbody tr th:only-of-type {\n",
       "        vertical-align: middle;\n",
       "    }\n",
       "\n",
       "    .dataframe tbody tr th {\n",
       "        vertical-align: top;\n",
       "    }\n",
       "\n",
       "    .dataframe thead th {\n",
       "        text-align: right;\n",
       "    }\n",
       "</style>\n",
       "<table border=\"1\" class=\"dataframe\">\n",
       "  <thead>\n",
       "    <tr style=\"text-align: right;\">\n",
       "      <th></th>\n",
       "      <th>Titel</th>\n",
       "      <th>Regisseur</th>\n",
       "      <th>Acteurs</th>\n",
       "      <th>Genre</th>\n",
       "      <th>Bijzonderheden</th>\n",
       "      <th>random_number</th>\n",
       "    </tr>\n",
       "  </thead>\n",
       "  <tbody>\n",
       "  </tbody>\n",
       "</table>\n",
       "</div>"
      ],
      "text/plain": [
       "Empty DataFrame\n",
       "Columns: [Titel, Regisseur, Acteurs, Genre, Bijzonderheden, random_number]\n",
       "Index: []"
      ]
     },
     "execution_count": 20,
     "metadata": {},
     "output_type": "execute_result"
    }
   ],
   "source": [
    "df = films[(films['random_number'] > .9) & \n",
    "           (films['Genre'] == 'Drama')]\n",
    "df"
   ]
  },
  {
   "cell_type": "markdown",
   "metadata": {
    "slideshow": {
     "slide_type": "subslide"
    }
   },
   "source": [
    "### Filtering with boolean methods\n",
    "\n",
    "The following instance methods output boolean arrays, they also can be used for boolean indexing:\n",
    "- `obj.isin()`\n",
    "- `obj.duplicated()`\n",
    "- `obj.isnull()`\n",
    "- `obj.notnull()`\n",
    "- `s.str.<method>`\n"
   ]
  },
  {
   "cell_type": "markdown",
   "metadata": {
    "slideshow": {
     "slide_type": "subslide"
    }
   },
   "source": [
    "First, let's create a new dataset out of our films data:"
   ]
  },
  {
   "cell_type": "code",
   "execution_count": 21,
   "metadata": {
    "scrolled": false
   },
   "outputs": [
    {
     "data": {
      "text/html": [
       "<div>\n",
       "<style scoped>\n",
       "    .dataframe tbody tr th:only-of-type {\n",
       "        vertical-align: middle;\n",
       "    }\n",
       "\n",
       "    .dataframe tbody tr th {\n",
       "        vertical-align: top;\n",
       "    }\n",
       "\n",
       "    .dataframe thead th {\n",
       "        text-align: right;\n",
       "    }\n",
       "</style>\n",
       "<table border=\"1\" class=\"dataframe\">\n",
       "  <thead>\n",
       "    <tr style=\"text-align: right;\">\n",
       "      <th></th>\n",
       "      <th>full_title</th>\n",
       "      <th>score</th>\n",
       "      <th>genre</th>\n",
       "      <th>first_word</th>\n",
       "    </tr>\n",
       "  </thead>\n",
       "  <tbody>\n",
       "    <tr>\n",
       "      <th>r0</th>\n",
       "      <td>Iep!</td>\n",
       "      <td>0.012898</td>\n",
       "      <td>familiefilm</td>\n",
       "      <td>iep!</td>\n",
       "    </tr>\n",
       "    <tr>\n",
       "      <th>r1</th>\n",
       "      <td>Gangsterboys</td>\n",
       "      <td>0.833662</td>\n",
       "      <td>komedie</td>\n",
       "      <td>gangsterboys</td>\n",
       "    </tr>\n",
       "    <tr>\n",
       "      <th>r2</th>\n",
       "      <td>Another new title</td>\n",
       "      <td>0.207152</td>\n",
       "      <td>familiefilm</td>\n",
       "      <td>another</td>\n",
       "    </tr>\n",
       "  </tbody>\n",
       "</table>\n",
       "</div>"
      ],
      "text/plain": [
       "           full_title     score        genre    first_word\n",
       "r0               Iep!  0.012898  familiefilm          iep!\n",
       "r1       Gangsterboys  0.833662      komedie  gangsterboys\n",
       "r2  Another new title  0.207152  familiefilm       another"
      ]
     },
     "execution_count": 21,
     "metadata": {},
     "output_type": "execute_result"
    }
   ],
   "source": [
    "from ast import literal_eval\n",
    "titles = pd.DataFrame({\n",
    "    'full_title': films['Titel'],\n",
    "    'score': films['random_number'],\n",
    "    'genre': films['Genre'].str.split().str[0].str.lower(),\n",
    "    'first_word': films['Titel'].str.split().str[0].str.lower()\n",
    "})\n",
    "titles.head(3)"
   ]
  },
  {
   "cell_type": "markdown",
   "metadata": {
    "slideshow": {
     "slide_type": "subslide"
    }
   },
   "source": [
    "Let's see which columns have null values:"
   ]
  },
  {
   "cell_type": "code",
   "execution_count": 22,
   "metadata": {},
   "outputs": [
    {
     "data": {
      "text/plain": [
       "full_title    0\n",
       "score         0\n",
       "genre         0\n",
       "first_word    0\n",
       "dtype: int64"
      ]
     },
     "execution_count": 22,
     "metadata": {},
     "output_type": "execute_result"
    }
   ],
   "source": [
    "titles.isnull().sum()"
   ]
  },
  {
   "cell_type": "markdown",
   "metadata": {
    "slideshow": {
     "slide_type": "subslide"
    }
   },
   "source": [
    "Select rows without null values:"
   ]
  },
  {
   "cell_type": "code",
   "execution_count": 23,
   "metadata": {},
   "outputs": [
    {
     "data": {
      "text/plain": [
       "(28, 4)"
      ]
     },
     "execution_count": 23,
     "metadata": {},
     "output_type": "execute_result"
    }
   ],
   "source": [
    "df = titles[titles['first_word'].notnull() &\n",
    "            titles['full_title'].notnull()]\n",
    "df.shape"
   ]
  },
  {
   "cell_type": "markdown",
   "metadata": {
    "slideshow": {
     "slide_type": "fragment"
    }
   },
   "source": [
    "alternative method using boolean reductions:"
   ]
  },
  {
   "cell_type": "code",
   "execution_count": 24,
   "metadata": {},
   "outputs": [
    {
     "data": {
      "text/plain": [
       "(28, 4)"
      ]
     },
     "execution_count": 24,
     "metadata": {},
     "output_type": "execute_result"
    }
   ],
   "source": [
    "df = titles[titles.notnull().all(axis=1)]\n",
    "df.shape"
   ]
  },
  {
   "cell_type": "markdown",
   "metadata": {
    "slideshow": {
     "slide_type": "subslide"
    }
   },
   "source": [
    "Select rows for which `genre` is fantasy or horror:"
   ]
  },
  {
   "cell_type": "code",
   "execution_count": 25,
   "metadata": {},
   "outputs": [
    {
     "data": {
      "text/html": [
       "<div>\n",
       "<style scoped>\n",
       "    .dataframe tbody tr th:only-of-type {\n",
       "        vertical-align: middle;\n",
       "    }\n",
       "\n",
       "    .dataframe tbody tr th {\n",
       "        vertical-align: top;\n",
       "    }\n",
       "\n",
       "    .dataframe thead th {\n",
       "        text-align: right;\n",
       "    }\n",
       "</style>\n",
       "<table border=\"1\" class=\"dataframe\">\n",
       "  <thead>\n",
       "    <tr style=\"text-align: right;\">\n",
       "      <th></th>\n",
       "      <th>full_title</th>\n",
       "      <th>score</th>\n",
       "      <th>genre</th>\n",
       "      <th>first_word</th>\n",
       "    </tr>\n",
       "  </thead>\n",
       "  <tbody>\n",
       "    <tr>\n",
       "      <th>r3</th>\n",
       "      <td>Zwart water</td>\n",
       "      <td>0.531159</td>\n",
       "      <td>horror</td>\n",
       "      <td>zwart</td>\n",
       "    </tr>\n",
       "    <tr>\n",
       "      <th>r13</th>\n",
       "      <td>Foeksia de Miniheks</td>\n",
       "      <td>0.935438</td>\n",
       "      <td>fantasy</td>\n",
       "      <td>foeksia</td>\n",
       "    </tr>\n",
       "    <tr>\n",
       "      <th>r21</th>\n",
       "      <td>Sint</td>\n",
       "      <td>0.588477</td>\n",
       "      <td>horror</td>\n",
       "      <td>sint</td>\n",
       "    </tr>\n",
       "  </tbody>\n",
       "</table>\n",
       "</div>"
      ],
      "text/plain": [
       "              full_title     score    genre first_word\n",
       "r3           Zwart water  0.531159   horror      zwart\n",
       "r13  Foeksia de Miniheks  0.935438  fantasy    foeksia\n",
       "r21                 Sint  0.588477   horror       sint"
      ]
     },
     "execution_count": 25,
     "metadata": {},
     "output_type": "execute_result"
    }
   ],
   "source": [
    "df = titles[titles['genre'].isin(['fantasy', 'horror'])]\n",
    "df"
   ]
  },
  {
   "cell_type": "markdown",
   "metadata": {
    "slideshow": {
     "slide_type": "subslide"
    }
   },
   "source": [
    "De-duplicate based on the `genre`:"
   ]
  },
  {
   "cell_type": "code",
   "execution_count": 26,
   "metadata": {
    "scrolled": true
   },
   "outputs": [
    {
     "data": {
      "text/html": [
       "<div>\n",
       "<style scoped>\n",
       "    .dataframe tbody tr th:only-of-type {\n",
       "        vertical-align: middle;\n",
       "    }\n",
       "\n",
       "    .dataframe tbody tr th {\n",
       "        vertical-align: top;\n",
       "    }\n",
       "\n",
       "    .dataframe thead th {\n",
       "        text-align: right;\n",
       "    }\n",
       "</style>\n",
       "<table border=\"1\" class=\"dataframe\">\n",
       "  <thead>\n",
       "    <tr style=\"text-align: right;\">\n",
       "      <th></th>\n",
       "      <th>full_title</th>\n",
       "      <th>score</th>\n",
       "      <th>genre</th>\n",
       "      <th>first_word</th>\n",
       "    </tr>\n",
       "  </thead>\n",
       "  <tbody>\n",
       "    <tr>\n",
       "      <th>r0</th>\n",
       "      <td>Iep!</td>\n",
       "      <td>0.012898</td>\n",
       "      <td>familiefilm</td>\n",
       "      <td>iep!</td>\n",
       "    </tr>\n",
       "    <tr>\n",
       "      <th>r1</th>\n",
       "      <td>Gangsterboys</td>\n",
       "      <td>0.833662</td>\n",
       "      <td>komedie</td>\n",
       "      <td>gangsterboys</td>\n",
       "    </tr>\n",
       "    <tr>\n",
       "      <th>r3</th>\n",
       "      <td>Zwart water</td>\n",
       "      <td>0.531159</td>\n",
       "      <td>horror</td>\n",
       "      <td>zwart</td>\n",
       "    </tr>\n",
       "    <tr>\n",
       "      <th>r4</th>\n",
       "      <td>First Mission</td>\n",
       "      <td>0.220960</td>\n",
       "      <td>drama</td>\n",
       "      <td>first</td>\n",
       "    </tr>\n",
       "    <tr>\n",
       "      <th>r12</th>\n",
       "      <td>De Leugen</td>\n",
       "      <td>0.551480</td>\n",
       "      <td>documentairefilm</td>\n",
       "      <td>de</td>\n",
       "    </tr>\n",
       "    <tr>\n",
       "      <th>r13</th>\n",
       "      <td>Foeksia de Miniheks</td>\n",
       "      <td>0.935438</td>\n",
       "      <td>fantasy</td>\n",
       "      <td>foeksia</td>\n",
       "    </tr>\n",
       "    <tr>\n",
       "      <th>r14</th>\n",
       "      <td>LelleBelle</td>\n",
       "      <td>0.504052</td>\n",
       "      <td>romantiek</td>\n",
       "      <td>lellebelle</td>\n",
       "    </tr>\n",
       "  </tbody>\n",
       "</table>\n",
       "</div>"
      ],
      "text/plain": [
       "              full_title     score             genre    first_word\n",
       "r0                  Iep!  0.012898       familiefilm          iep!\n",
       "r1          Gangsterboys  0.833662           komedie  gangsterboys\n",
       "r3           Zwart water  0.531159            horror         zwart\n",
       "r4         First Mission  0.220960             drama         first\n",
       "r12            De Leugen  0.551480  documentairefilm            de\n",
       "r13  Foeksia de Miniheks  0.935438           fantasy       foeksia\n",
       "r14           LelleBelle  0.504052         romantiek    lellebelle"
      ]
     },
     "execution_count": 26,
     "metadata": {},
     "output_type": "execute_result"
    }
   ],
   "source": [
    "df = titles[~titles.duplicated(subset=['genre'])]\n",
    "df"
   ]
  },
  {
   "cell_type": "markdown",
   "metadata": {
    "slideshow": {
     "slide_type": "subslide"
    }
   },
   "source": [
    "Select rows for which first words starts with a `'g'`:"
   ]
  },
  {
   "cell_type": "code",
   "execution_count": 27,
   "metadata": {},
   "outputs": [
    {
     "data": {
      "text/html": [
       "<div>\n",
       "<style scoped>\n",
       "    .dataframe tbody tr th:only-of-type {\n",
       "        vertical-align: middle;\n",
       "    }\n",
       "\n",
       "    .dataframe tbody tr th {\n",
       "        vertical-align: top;\n",
       "    }\n",
       "\n",
       "    .dataframe thead th {\n",
       "        text-align: right;\n",
       "    }\n",
       "</style>\n",
       "<table border=\"1\" class=\"dataframe\">\n",
       "  <thead>\n",
       "    <tr style=\"text-align: right;\">\n",
       "      <th></th>\n",
       "      <th>full_title</th>\n",
       "      <th>score</th>\n",
       "      <th>genre</th>\n",
       "      <th>first_word</th>\n",
       "    </tr>\n",
       "  </thead>\n",
       "  <tbody>\n",
       "    <tr>\n",
       "      <th>r1</th>\n",
       "      <td>Gangsterboys</td>\n",
       "      <td>0.833662</td>\n",
       "      <td>komedie</td>\n",
       "      <td>gangsterboys</td>\n",
       "    </tr>\n",
       "  </tbody>\n",
       "</table>\n",
       "</div>"
      ],
      "text/plain": [
       "      full_title     score    genre    first_word\n",
       "r1  Gangsterboys  0.833662  komedie  gangsterboys"
      ]
     },
     "execution_count": 27,
     "metadata": {},
     "output_type": "execute_result"
    }
   ],
   "source": [
    "df = titles[titles['first_word'].str.startswith('g')] \n",
    "df"
   ]
  },
  {
   "cell_type": "markdown",
   "metadata": {
    "slideshow": {
     "slide_type": "subslide"
    }
   },
   "source": [
    "## Filtering with functions\n",
    "\n",
    "Indexers `.loc` and `.iloc` also accept a function:"
   ]
  },
  {
   "cell_type": "code",
   "execution_count": 28,
   "metadata": {},
   "outputs": [
    {
     "data": {
      "text/html": [
       "<div>\n",
       "<style scoped>\n",
       "    .dataframe tbody tr th:only-of-type {\n",
       "        vertical-align: middle;\n",
       "    }\n",
       "\n",
       "    .dataframe tbody tr th {\n",
       "        vertical-align: top;\n",
       "    }\n",
       "\n",
       "    .dataframe thead th {\n",
       "        text-align: right;\n",
       "    }\n",
       "</style>\n",
       "<table border=\"1\" class=\"dataframe\">\n",
       "  <thead>\n",
       "    <tr style=\"text-align: right;\">\n",
       "      <th></th>\n",
       "      <th>full_title</th>\n",
       "      <th>score</th>\n",
       "      <th>genre</th>\n",
       "      <th>first_word</th>\n",
       "    </tr>\n",
       "  </thead>\n",
       "  <tbody>\n",
       "    <tr>\n",
       "      <th>r3</th>\n",
       "      <td>Zwart water</td>\n",
       "      <td>0.531159</td>\n",
       "      <td>horror</td>\n",
       "      <td>zwart</td>\n",
       "    </tr>\n",
       "    <tr>\n",
       "      <th>r21</th>\n",
       "      <td>Sint</td>\n",
       "      <td>0.588477</td>\n",
       "      <td>horror</td>\n",
       "      <td>sint</td>\n",
       "    </tr>\n",
       "  </tbody>\n",
       "</table>\n",
       "</div>"
      ],
      "text/plain": [
       "      full_title     score   genre first_word\n",
       "r3   Zwart water  0.531159  horror      zwart\n",
       "r21         Sint  0.588477  horror       sint"
      ]
     },
     "execution_count": 28,
     "metadata": {},
     "output_type": "execute_result"
    }
   ],
   "source": [
    "def find_horror(df):\n",
    "    return df['genre'] == 'horror'\n",
    "\n",
    "titles.loc[find_horror].head()"
   ]
  },
  {
   "cell_type": "markdown",
   "metadata": {
    "slideshow": {
     "slide_type": "subslide"
    }
   },
   "source": [
    "Instead of using a function, you can also use an anonymous `lambda` function that works on the whole DataFrame:"
   ]
  },
  {
   "cell_type": "code",
   "execution_count": 29,
   "metadata": {
    "slideshow": {
     "slide_type": "slide"
    }
   },
   "outputs": [
    {
     "data": {
      "text/html": [
       "<div>\n",
       "<style scoped>\n",
       "    .dataframe tbody tr th:only-of-type {\n",
       "        vertical-align: middle;\n",
       "    }\n",
       "\n",
       "    .dataframe tbody tr th {\n",
       "        vertical-align: top;\n",
       "    }\n",
       "\n",
       "    .dataframe thead th {\n",
       "        text-align: right;\n",
       "    }\n",
       "</style>\n",
       "<table border=\"1\" class=\"dataframe\">\n",
       "  <thead>\n",
       "    <tr style=\"text-align: right;\">\n",
       "      <th></th>\n",
       "      <th>full_title</th>\n",
       "      <th>score</th>\n",
       "      <th>genre</th>\n",
       "      <th>first_word</th>\n",
       "    </tr>\n",
       "  </thead>\n",
       "  <tbody>\n",
       "    <tr>\n",
       "      <th>r3</th>\n",
       "      <td>Zwart water</td>\n",
       "      <td>0.531159</td>\n",
       "      <td>horror</td>\n",
       "      <td>zwart</td>\n",
       "    </tr>\n",
       "    <tr>\n",
       "      <th>r21</th>\n",
       "      <td>Sint</td>\n",
       "      <td>0.588477</td>\n",
       "      <td>horror</td>\n",
       "      <td>sint</td>\n",
       "    </tr>\n",
       "  </tbody>\n",
       "</table>\n",
       "</div>"
      ],
      "text/plain": [
       "      full_title     score   genre first_word\n",
       "r3   Zwart water  0.531159  horror      zwart\n",
       "r21         Sint  0.588477  horror       sint"
      ]
     },
     "execution_count": 29,
     "metadata": {},
     "output_type": "execute_result"
    }
   ],
   "source": [
    "titles.loc[lambda x: x['genre'] == 'horror']"
   ]
  },
  {
   "cell_type": "markdown",
   "metadata": {
    "slideshow": {
     "slide_type": "subslide"
    }
   },
   "source": [
    "This syntax allows _method chaining_:"
   ]
  },
  {
   "cell_type": "code",
   "execution_count": 30,
   "metadata": {},
   "outputs": [
    {
     "data": {
      "text/html": [
       "<div>\n",
       "<style scoped>\n",
       "    .dataframe tbody tr th:only-of-type {\n",
       "        vertical-align: middle;\n",
       "    }\n",
       "\n",
       "    .dataframe tbody tr th {\n",
       "        vertical-align: top;\n",
       "    }\n",
       "\n",
       "    .dataframe thead th {\n",
       "        text-align: right;\n",
       "    }\n",
       "</style>\n",
       "<table border=\"1\" class=\"dataframe\">\n",
       "  <thead>\n",
       "    <tr style=\"text-align: right;\">\n",
       "      <th></th>\n",
       "      <th>genre</th>\n",
       "      <th>first_word</th>\n",
       "      <th>counts</th>\n",
       "    </tr>\n",
       "  </thead>\n",
       "  <tbody>\n",
       "    <tr>\n",
       "      <th>1</th>\n",
       "      <td>drama</td>\n",
       "      <td>de</td>\n",
       "      <td>3</td>\n",
       "    </tr>\n",
       "  </tbody>\n",
       "</table>\n",
       "</div>"
      ],
      "text/plain": [
       "   genre first_word  counts\n",
       "1  drama         de       3"
      ]
     },
     "execution_count": 30,
     "metadata": {},
     "output_type": "execute_result"
    }
   ],
   "source": [
    "df = (\n",
    "    titles\n",
    "    .groupby(['genre'])['first_word'].value_counts()\n",
    "    .reset_index(name='counts')\n",
    "    .loc[lambda x: (x['counts'] > 1)]\n",
    ")\n",
    "df"
   ]
  },
  {
   "cell_type": "markdown",
   "metadata": {
    "slideshow": {
     "slide_type": "subslide"
    }
   },
   "source": [
    "Another chaining example:"
   ]
  },
  {
   "cell_type": "code",
   "execution_count": 31,
   "metadata": {},
   "outputs": [
    {
     "data": {
      "text/html": [
       "<div>\n",
       "<style scoped>\n",
       "    .dataframe tbody tr th:only-of-type {\n",
       "        vertical-align: middle;\n",
       "    }\n",
       "\n",
       "    .dataframe tbody tr th {\n",
       "        vertical-align: top;\n",
       "    }\n",
       "\n",
       "    .dataframe thead th {\n",
       "        text-align: right;\n",
       "    }\n",
       "</style>\n",
       "<table border=\"1\" class=\"dataframe\">\n",
       "  <thead>\n",
       "    <tr style=\"text-align: right;\">\n",
       "      <th></th>\n",
       "      <th>full_title</th>\n",
       "      <th>score</th>\n",
       "      <th>genre</th>\n",
       "      <th>first_word</th>\n",
       "      <th>num_words</th>\n",
       "    </tr>\n",
       "  </thead>\n",
       "  <tbody>\n",
       "    <tr>\n",
       "      <th>r5</th>\n",
       "      <td>Kom niet aan mij...</td>\n",
       "      <td>0.843056</td>\n",
       "      <td>drama</td>\n",
       "      <td>kom</td>\n",
       "      <td>5</td>\n",
       "    </tr>\n",
       "    <tr>\n",
       "      <th>r15</th>\n",
       "      <td>Sinterklaas en h...</td>\n",
       "      <td>0.071893</td>\n",
       "      <td>familiefilm</td>\n",
       "      <td>sinterklaas</td>\n",
       "      <td>5</td>\n",
       "    </tr>\n",
       "    <tr>\n",
       "      <th>r6</th>\n",
       "      <td>De vliegenierste...</td>\n",
       "      <td>0.083725</td>\n",
       "      <td>drama</td>\n",
       "      <td>de</td>\n",
       "      <td>4</td>\n",
       "    </tr>\n",
       "    <tr>\n",
       "      <th>r20</th>\n",
       "      <td>Snuf en het spoo...</td>\n",
       "      <td>0.129858</td>\n",
       "      <td>familiefilm</td>\n",
       "      <td>snuf</td>\n",
       "      <td>4</td>\n",
       "    </tr>\n",
       "  </tbody>\n",
       "</table>\n",
       "</div>"
      ],
      "text/plain": [
       "              full_title     score        genre   first_word  num_words\n",
       "r5   Kom niet aan mij...  0.843056        drama          kom          5\n",
       "r15  Sinterklaas en h...  0.071893  familiefilm  sinterklaas          5\n",
       "r6   De vliegenierste...  0.083725        drama           de          4\n",
       "r20  Snuf en het spoo...  0.129858  familiefilm         snuf          4"
      ]
     },
     "execution_count": 31,
     "metadata": {},
     "output_type": "execute_result"
    }
   ],
   "source": [
    "df = (\n",
    "    titles\n",
    "    .assign(num_words=lambda x: x['full_title'].str.split().str.len())\n",
    "    .loc[lambda x: x['num_words'] > 3]\n",
    "    .sort_values(by='num_words', ascending=False)\n",
    ")      \n",
    "df"
   ]
  },
  {
   "cell_type": "markdown",
   "metadata": {
    "slideshow": {
     "slide_type": "slide"
    }
   },
   "source": [
    "## Managing axis labeling\n",
    "\n",
    "We have seen that the axis labeling provides an intuitive infrastructure for indexing and filtering of the data. "
   ]
  },
  {
   "cell_type": "markdown",
   "metadata": {
    "slideshow": {
     "slide_type": "subslide"
    }
   },
   "source": [
    "### Set and reset the index\n",
    "\n",
    "To set and reset the index of an existing DataFrame use:\n",
    "```python\n",
    "df.set_index(keys, drop=True, append=False, \n",
    "             inplace=False, ...)\n",
    "```\n",
    "```python\n",
    "df.reset_index(level=None, drop=False, \n",
    "               inplace=False, ...)\n",
    "```"
   ]
  },
  {
   "cell_type": "markdown",
   "metadata": {
    "slideshow": {
     "slide_type": "subslide"
    }
   },
   "source": [
    "Let's start by resetting our old index:"
   ]
  },
  {
   "cell_type": "code",
   "execution_count": 32,
   "metadata": {},
   "outputs": [
    {
     "data": {
      "text/html": [
       "<div>\n",
       "<style scoped>\n",
       "    .dataframe tbody tr th:only-of-type {\n",
       "        vertical-align: middle;\n",
       "    }\n",
       "\n",
       "    .dataframe tbody tr th {\n",
       "        vertical-align: top;\n",
       "    }\n",
       "\n",
       "    .dataframe thead th {\n",
       "        text-align: right;\n",
       "    }\n",
       "</style>\n",
       "<table border=\"1\" class=\"dataframe\">\n",
       "  <thead>\n",
       "    <tr style=\"text-align: right;\">\n",
       "      <th></th>\n",
       "      <th>index</th>\n",
       "      <th>Titel</th>\n",
       "      <th>Regisseur</th>\n",
       "      <th>Acteurs</th>\n",
       "      <th>Genre</th>\n",
       "      <th>Bijzonderheden</th>\n",
       "      <th>random_number</th>\n",
       "    </tr>\n",
       "  </thead>\n",
       "  <tbody>\n",
       "    <tr>\n",
       "      <th>0</th>\n",
       "      <td>r0</td>\n",
       "      <td>Iep!</td>\n",
       "      <td>Ineke Houtman</td>\n",
       "      <td>Huub Stapel Joke...</td>\n",
       "      <td>Familiefilm</td>\n",
       "      <td>17 februari</td>\n",
       "      <td>0.012898</td>\n",
       "    </tr>\n",
       "    <tr>\n",
       "      <th>1</th>\n",
       "      <td>r1</td>\n",
       "      <td>Gangsterboys</td>\n",
       "      <td>Paul Ruven</td>\n",
       "      <td>Georgina Verbaan...</td>\n",
       "      <td>Komedie</td>\n",
       "      <td>18 februari</td>\n",
       "      <td>0.833662</td>\n",
       "    </tr>\n",
       "  </tbody>\n",
       "</table>\n",
       "</div>"
      ],
      "text/plain": [
       "  index         Titel      Regisseur              Acteurs        Genre  \\\n",
       "0    r0          Iep!  Ineke Houtman  Huub Stapel Joke...  Familiefilm   \n",
       "1    r1  Gangsterboys     Paul Ruven  Georgina Verbaan...      Komedie   \n",
       "\n",
       "  Bijzonderheden  random_number  \n",
       "0    17 februari       0.012898  \n",
       "1    18 februari       0.833662  "
      ]
     },
     "execution_count": 32,
     "metadata": {},
     "output_type": "execute_result"
    }
   ],
   "source": [
    "df = films.reset_index()\n",
    "df.head(2)"
   ]
  },
  {
   "cell_type": "markdown",
   "metadata": {
    "slideshow": {
     "slide_type": "subslide"
    }
   },
   "source": [
    "Set a new index in-place (without creating a new object):"
   ]
  },
  {
   "cell_type": "code",
   "execution_count": 33,
   "metadata": {},
   "outputs": [
    {
     "data": {
      "text/html": [
       "<div>\n",
       "<style scoped>\n",
       "    .dataframe tbody tr th:only-of-type {\n",
       "        vertical-align: middle;\n",
       "    }\n",
       "\n",
       "    .dataframe tbody tr th {\n",
       "        vertical-align: top;\n",
       "    }\n",
       "\n",
       "    .dataframe thead th {\n",
       "        text-align: right;\n",
       "    }\n",
       "</style>\n",
       "<table border=\"1\" class=\"dataframe\">\n",
       "  <thead>\n",
       "    <tr style=\"text-align: right;\">\n",
       "      <th></th>\n",
       "      <th>index</th>\n",
       "      <th>Regisseur</th>\n",
       "      <th>Acteurs</th>\n",
       "      <th>Genre</th>\n",
       "      <th>Bijzonderheden</th>\n",
       "      <th>random_number</th>\n",
       "    </tr>\n",
       "    <tr>\n",
       "      <th>Titel</th>\n",
       "      <th></th>\n",
       "      <th></th>\n",
       "      <th></th>\n",
       "      <th></th>\n",
       "      <th></th>\n",
       "      <th></th>\n",
       "    </tr>\n",
       "  </thead>\n",
       "  <tbody>\n",
       "    <tr>\n",
       "      <th>Iep!</th>\n",
       "      <td>r0</td>\n",
       "      <td>Ineke Houtman</td>\n",
       "      <td>Huub Stapel Joke...</td>\n",
       "      <td>Familiefilm</td>\n",
       "      <td>17 februari</td>\n",
       "      <td>0.012898</td>\n",
       "    </tr>\n",
       "    <tr>\n",
       "      <th>Gangsterboys</th>\n",
       "      <td>r1</td>\n",
       "      <td>Paul Ruven</td>\n",
       "      <td>Georgina Verbaan...</td>\n",
       "      <td>Komedie</td>\n",
       "      <td>18 februari</td>\n",
       "      <td>0.833662</td>\n",
       "    </tr>\n",
       "  </tbody>\n",
       "</table>\n",
       "</div>"
      ],
      "text/plain": [
       "             index      Regisseur              Acteurs        Genre  \\\n",
       "Titel                                                                 \n",
       "Iep!            r0  Ineke Houtman  Huub Stapel Joke...  Familiefilm   \n",
       "Gangsterboys    r1     Paul Ruven  Georgina Verbaan...      Komedie   \n",
       "\n",
       "             Bijzonderheden  random_number  \n",
       "Titel                                       \n",
       "Iep!            17 februari       0.012898  \n",
       "Gangsterboys    18 februari       0.833662  "
      ]
     },
     "execution_count": 33,
     "metadata": {},
     "output_type": "execute_result"
    }
   ],
   "source": [
    "df.set_index('Titel', inplace=True)\n",
    "df.head(2)"
   ]
  },
  {
   "cell_type": "markdown",
   "metadata": {
    "slideshow": {
     "slide_type": "subslide"
    }
   },
   "source": [
    "Appending to an existing index:"
   ]
  },
  {
   "cell_type": "code",
   "execution_count": 34,
   "metadata": {},
   "outputs": [
    {
     "data": {
      "text/html": [
       "<div>\n",
       "<style scoped>\n",
       "    .dataframe tbody tr th:only-of-type {\n",
       "        vertical-align: middle;\n",
       "    }\n",
       "\n",
       "    .dataframe tbody tr th {\n",
       "        vertical-align: top;\n",
       "    }\n",
       "\n",
       "    .dataframe thead th {\n",
       "        text-align: right;\n",
       "    }\n",
       "</style>\n",
       "<table border=\"1\" class=\"dataframe\">\n",
       "  <thead>\n",
       "    <tr style=\"text-align: right;\">\n",
       "      <th></th>\n",
       "      <th></th>\n",
       "      <th>Regisseur</th>\n",
       "      <th>Acteurs</th>\n",
       "      <th>Genre</th>\n",
       "      <th>Bijzonderheden</th>\n",
       "      <th>random_number</th>\n",
       "    </tr>\n",
       "    <tr>\n",
       "      <th>Titel</th>\n",
       "      <th>index</th>\n",
       "      <th></th>\n",
       "      <th></th>\n",
       "      <th></th>\n",
       "      <th></th>\n",
       "      <th></th>\n",
       "    </tr>\n",
       "  </thead>\n",
       "  <tbody>\n",
       "    <tr>\n",
       "      <th>Iep!</th>\n",
       "      <th>r0</th>\n",
       "      <td>Ineke Houtman</td>\n",
       "      <td>Huub Stapel Joke...</td>\n",
       "      <td>Familiefilm</td>\n",
       "      <td>17 februari</td>\n",
       "      <td>0.012898</td>\n",
       "    </tr>\n",
       "    <tr>\n",
       "      <th>Gangsterboys</th>\n",
       "      <th>r1</th>\n",
       "      <td>Paul Ruven</td>\n",
       "      <td>Georgina Verbaan...</td>\n",
       "      <td>Komedie</td>\n",
       "      <td>18 februari</td>\n",
       "      <td>0.833662</td>\n",
       "    </tr>\n",
       "  </tbody>\n",
       "</table>\n",
       "</div>"
      ],
      "text/plain": [
       "                        Regisseur              Acteurs        Genre  \\\n",
       "Titel        index                                                    \n",
       "Iep!         r0     Ineke Houtman  Huub Stapel Joke...  Familiefilm   \n",
       "Gangsterboys r1        Paul Ruven  Georgina Verbaan...      Komedie   \n",
       "\n",
       "                   Bijzonderheden  random_number  \n",
       "Titel        index                                \n",
       "Iep!         r0       17 februari       0.012898  \n",
       "Gangsterboys r1       18 februari       0.833662  "
      ]
     },
     "execution_count": 34,
     "metadata": {},
     "output_type": "execute_result"
    }
   ],
   "source": [
    "appended_df = df.set_index('index', append=True)\n",
    "appended_df.head(2)"
   ]
  },
  {
   "cell_type": "markdown",
   "metadata": {
    "slideshow": {
     "slide_type": "subslide"
    }
   },
   "source": [
    "Reset a specific index level:"
   ]
  },
  {
   "cell_type": "code",
   "execution_count": 35,
   "metadata": {},
   "outputs": [
    {
     "data": {
      "text/html": [
       "<div>\n",
       "<style scoped>\n",
       "    .dataframe tbody tr th:only-of-type {\n",
       "        vertical-align: middle;\n",
       "    }\n",
       "\n",
       "    .dataframe tbody tr th {\n",
       "        vertical-align: top;\n",
       "    }\n",
       "\n",
       "    .dataframe thead th {\n",
       "        text-align: right;\n",
       "    }\n",
       "</style>\n",
       "<table border=\"1\" class=\"dataframe\">\n",
       "  <thead>\n",
       "    <tr style=\"text-align: right;\">\n",
       "      <th></th>\n",
       "      <th>Titel</th>\n",
       "      <th>Regisseur</th>\n",
       "      <th>Acteurs</th>\n",
       "      <th>Genre</th>\n",
       "      <th>Bijzonderheden</th>\n",
       "      <th>random_number</th>\n",
       "    </tr>\n",
       "    <tr>\n",
       "      <th>index</th>\n",
       "      <th></th>\n",
       "      <th></th>\n",
       "      <th></th>\n",
       "      <th></th>\n",
       "      <th></th>\n",
       "      <th></th>\n",
       "    </tr>\n",
       "  </thead>\n",
       "  <tbody>\n",
       "    <tr>\n",
       "      <th>r0</th>\n",
       "      <td>Iep!</td>\n",
       "      <td>Ineke Houtman</td>\n",
       "      <td>Huub Stapel Joke...</td>\n",
       "      <td>Familiefilm</td>\n",
       "      <td>17 februari</td>\n",
       "      <td>0.012898</td>\n",
       "    </tr>\n",
       "    <tr>\n",
       "      <th>r1</th>\n",
       "      <td>Gangsterboys</td>\n",
       "      <td>Paul Ruven</td>\n",
       "      <td>Georgina Verbaan...</td>\n",
       "      <td>Komedie</td>\n",
       "      <td>18 februari</td>\n",
       "      <td>0.833662</td>\n",
       "    </tr>\n",
       "  </tbody>\n",
       "</table>\n",
       "</div>"
      ],
      "text/plain": [
       "              Titel      Regisseur              Acteurs        Genre  \\\n",
       "index                                                                  \n",
       "r0             Iep!  Ineke Houtman  Huub Stapel Joke...  Familiefilm   \n",
       "r1     Gangsterboys     Paul Ruven  Georgina Verbaan...      Komedie   \n",
       "\n",
       "      Bijzonderheden  random_number  \n",
       "index                                \n",
       "r0       17 februari       0.012898  \n",
       "r1       18 februari       0.833662  "
      ]
     },
     "execution_count": 35,
     "metadata": {},
     "output_type": "execute_result"
    }
   ],
   "source": [
    "reset_df = appended_df.reset_index('Titel')\n",
    "reset_df.head(2)"
   ]
  },
  {
   "cell_type": "markdown",
   "metadata": {
    "slideshow": {
     "slide_type": "slide"
    }
   },
   "source": [
    "## Exercises: [lab 4 - Accessing the data](lab_04_accessing_the_data.ipynb)"
   ]
  }
 ],
 "metadata": {
  "anaconda-cloud": {},
  "celltoolbar": "Slideshow",
  "kernelspec": {
   "display_name": "Python 3",
   "language": "python",
   "name": "python3"
  },
  "language_info": {
   "codemirror_mode": {
    "name": "ipython",
    "version": 3
   },
   "file_extension": ".py",
   "mimetype": "text/x-python",
   "name": "python",
   "nbconvert_exporter": "python",
   "pygments_lexer": "ipython3",
   "version": "3.7.7"
  }
 },
 "nbformat": 4,
 "nbformat_minor": 1
}
