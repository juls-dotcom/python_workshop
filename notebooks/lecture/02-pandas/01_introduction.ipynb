{
 "cells": [
  {
   "cell_type": "markdown",
   "metadata": {
    "slideshow": {
     "slide_type": "slide"
    }
   },
   "source": [
    "# 1 - Introduction to Pandas"
   ]
  },
  {
   "cell_type": "markdown",
   "metadata": {
    "slideshow": {
     "slide_type": "slide"
    }
   },
   "source": [
    "## What is Pandas?\n",
    "\n",
    "According to the GitHub page:\n",
    "\n",
    "- Pandas is a Python package providing fast, flexible, and expressive data structures designed to make working with \"relational\" or \"labeled\" data both easy and intuitive. \n",
    "- It aims to be the fundamental high-level building block for doing practical, real world data analysis in Python.\n",
    "- It has the broader goal of becoming the most powerful and flexible open source data analysis / manipulation tool available in any language. It is already well on its way toward this goal."
   ]
  },
  {
   "cell_type": "markdown",
   "metadata": {
    "slideshow": {
     "slide_type": "subslide"
    }
   },
   "source": [
    "Pandas is well suited for handling:\n",
    "\n",
    "- Tabular data with heterogeneously-typed columns, as in an SQL table or Excel spreadsheet.\n",
    "- Arbitrary matrix data (homogeneously typed or heterogeneous) with or without row and column labels.\n",
    "- Ordered and unordered (not necessarily fixed-frequency) time series data."
   ]
  },
  {
   "cell_type": "markdown",
   "metadata": {
    "slideshow": {
     "slide_type": "slide"
    }
   },
   "source": [
    "## Why use pandas?\n",
    "\n",
    "It is a great tool for:\n",
    "\n",
    "- exploratory data analysis\n",
    "- creating ETL pipelines\n",
    "- building data science products"
   ]
  },
  {
   "cell_type": "markdown",
   "metadata": {
    "slideshow": {
     "slide_type": "fragment"
    }
   },
   "source": [
    "Integrates nicely with:\n",
    "- interactive environments like Jupyter Notebook \n",
    "- popular Python packages like Statsmodels, Scikit-Learn, Matplotlib and Seaborn  \n",
    "- big data tooling like Apache Spark\n"
   ]
  },
  {
   "cell_type": "markdown",
   "metadata": {
    "slideshow": {
     "slide_type": "slide"
    }
   },
   "source": [
    "## Key features (1/2)\n",
    "\n",
    "* Easy handling of __missing data__\n",
    "* __Size mutability__: columns can be inserted and deleted from DataFrame and higher dimensional objects\n",
    "* Automatic and explicit __data alignment__: objects can be explicitly aligned to a set of labels, or the data can be aligned automatically\n",
    "* Powerful, flexible __group by functionality__ to perform split-apply-combine operations on data sets\n",
    "* Intelligent label-based __slicing, fancy indexing, and subsetting__ of large data sets\n",
    "* Intuitive __merging and joining__ data sets\n",
    "* Flexible __reshaping and pivoting__ of data sets\n",
    "* __Hierarchical labeling__ of axes\n"
   ]
  },
  {
   "cell_type": "markdown",
   "metadata": {
    "slideshow": {
     "slide_type": "subslide"
    }
   },
   "source": [
    "## Key features (2/2)\n",
    "\n",
    "* Robust __IO tools__ for loading data from \n",
    "    * flat files \n",
    "    * Excel files \n",
    "    * databases\n",
    "    * HDF5\n",
    "* __Time series functionality__: date range generation and frequency conversion, moving window statistics, moving window linear regressions, date shifting and lagging, etc."
   ]
  },
  {
   "cell_type": "markdown",
   "metadata": {
    "slideshow": {
     "slide_type": "fragment"
    }
   },
   "source": [
    "This lecture is meant to provide you with a broad overview of the functionality.\n",
    "\n",
    "Remember: to fully wield the power of pandas takes time and practice! "
   ]
  },
  {
   "cell_type": "markdown",
   "metadata": {
    "slideshow": {
     "slide_type": "slide"
    }
   },
   "source": [
    "## Check-out [pandas.pydata.org](http://pandas.pydata.org/)\n",
    "\n",
    "It has tons of good resources, of which especially valuable are:\n",
    "\n",
    "- [API reference](http://pandas.pydata.org/pandas-docs/stable/api.html) \n",
    "- [Cook book](http://pandas.pydata.org/pandas-docs/stable/cookbook.html)\n",
    "- [Tutorials](http://pandas.pydata.org/pandas-docs/stable/tutorials.html)\n",
    "\n",
    "Also on [GitHub](https://github.com/pydata/pandas)!"
   ]
  }
 ],
 "metadata": {
  "anaconda-cloud": {},
  "celltoolbar": "Slideshow",
  "kernelspec": {
   "display_name": "Python 3",
   "language": "python",
   "name": "python3"
  },
  "language_info": {
   "codemirror_mode": {
    "name": "ipython",
    "version": 3
   },
   "file_extension": ".py",
   "mimetype": "text/x-python",
   "name": "python",
   "nbconvert_exporter": "python",
   "pygments_lexer": "ipython3",
   "version": "3.8.10"
  }
 },
 "nbformat": 4,
 "nbformat_minor": 1
}
