{
 "cells": [
  {
   "cell_type": "code",
   "execution_count": 91,
   "metadata": {
    "collapsed": true
   },
   "outputs": [],
   "source": [
    "import pandas as pd\n",
    "import numpy as np\n",
    "from IPython.display import HTML"
   ]
  },
  {
   "cell_type": "markdown",
   "metadata": {},
   "source": [
    "# Lecture 02"
   ]
  },
  {
   "cell_type": "code",
   "execution_count": 92,
   "metadata": {
    "collapsed": true
   },
   "outputs": [],
   "source": [
    "n = 4"
   ]
  },
  {
   "cell_type": "code",
   "execution_count": 93,
   "metadata": {
    "collapsed": false
   },
   "outputs": [
    {
     "data": {
      "text/plain": [
       "index_0    value_0\n",
       "index_1    value_1\n",
       "index_2    value_2\n",
       "index_3    value_3\n",
       "dtype: object"
      ]
     },
     "execution_count": 93,
     "metadata": {},
     "output_type": "execute_result"
    }
   ],
   "source": [
    "data = ['value_{}'.format(i) for i in range(n)]\n",
    "index = ['index_{}'.format(i) for i in range(n)]\n",
    "pd.Series(data, index= index)"
   ]
  },
  {
   "cell_type": "code",
   "execution_count": 94,
   "metadata": {
    "collapsed": false
   },
   "outputs": [
    {
     "data": {
      "text/html": [
       "<div>\n",
       "<table border=\"1\" class=\"dataframe\">\n",
       "  <thead>\n",
       "    <tr style=\"text-align: right;\">\n",
       "      <th></th>\n",
       "      <th>column_0</th>\n",
       "      <th>column_1</th>\n",
       "      <th>column_2</th>\n",
       "      <th>column_3</th>\n",
       "    </tr>\n",
       "  </thead>\n",
       "  <tbody>\n",
       "    <tr>\n",
       "      <th>index_0</th>\n",
       "      <td>value_00</td>\n",
       "      <td>value_01</td>\n",
       "      <td>value_02</td>\n",
       "      <td>value_03</td>\n",
       "    </tr>\n",
       "    <tr>\n",
       "      <th>index_1</th>\n",
       "      <td>value_10</td>\n",
       "      <td>value_11</td>\n",
       "      <td>value_12</td>\n",
       "      <td>value_13</td>\n",
       "    </tr>\n",
       "    <tr>\n",
       "      <th>index_2</th>\n",
       "      <td>value_20</td>\n",
       "      <td>value_21</td>\n",
       "      <td>value_22</td>\n",
       "      <td>value_23</td>\n",
       "    </tr>\n",
       "    <tr>\n",
       "      <th>index_3</th>\n",
       "      <td>value_30</td>\n",
       "      <td>value_31</td>\n",
       "      <td>value_32</td>\n",
       "      <td>value_33</td>\n",
       "    </tr>\n",
       "  </tbody>\n",
       "</table>\n",
       "</div>"
      ],
      "text/plain": [
       "         column_0  column_1  column_2  column_3\n",
       "index_0  value_00  value_01  value_02  value_03\n",
       "index_1  value_10  value_11  value_12  value_13\n",
       "index_2  value_20  value_21  value_22  value_23\n",
       "index_3  value_30  value_31  value_32  value_33"
      ]
     },
     "execution_count": 94,
     "metadata": {},
     "output_type": "execute_result"
    }
   ],
   "source": [
    "columns = ['column_{}'.format(i) for i in range(n)]\n",
    "data = np.array([['value_{}{}'.format(j,i) for i in range(n)] for j in range(n)])\n",
    "\n",
    "df = pd.DataFrame(data, columns=columns, index=index)\n",
    "df"
   ]
  },
  {
   "cell_type": "code",
   "execution_count": 95,
   "metadata": {
    "collapsed": false
   },
   "outputs": [
    {
     "data": {
      "text/html": [
       "<table border=\"1\" class=\"dataframe\">\n",
       "  <thead>\n",
       "    <tr style=\"text-align: right;\">\n",
       "      <th>item_0</th>\n",
       "      <th>minor_0</th>\n",
       "      <th>minor_1</th>\n",
       "      <th>minor_2</th>\n",
       "      <th>minor_3</th>\n",
       "    </tr>\n",
       "  </thead>\n",
       "  <tbody>\n",
       "    <tr>\n",
       "      <th>major_0</th>\n",
       "      <td>value_000</td>\n",
       "      <td>value_001</td>\n",
       "      <td>value_002</td>\n",
       "      <td>value_003</td>\n",
       "    </tr>\n",
       "    <tr>\n",
       "      <th>major_1</th>\n",
       "      <td>value_010</td>\n",
       "      <td>value_011</td>\n",
       "      <td>value_012</td>\n",
       "      <td>value_013</td>\n",
       "    </tr>\n",
       "    <tr>\n",
       "      <th>major_2</th>\n",
       "      <td>value_020</td>\n",
       "      <td>value_021</td>\n",
       "      <td>value_022</td>\n",
       "      <td>value_023</td>\n",
       "    </tr>\n",
       "    <tr>\n",
       "      <th>major_3</th>\n",
       "      <td>value_030</td>\n",
       "      <td>value_031</td>\n",
       "      <td>value_032</td>\n",
       "      <td>value_033</td>\n",
       "    </tr>\n",
       "  </tbody>\n",
       "</table>\n",
       "<table border=\"1\" class=\"dataframe\">\n",
       "  <thead>\n",
       "    <tr style=\"text-align: right;\">\n",
       "      <th>item_1</th>\n",
       "      <th>minor_0</th>\n",
       "      <th>minor_1</th>\n",
       "      <th>minor_2</th>\n",
       "      <th>minor_3</th>\n",
       "    </tr>\n",
       "  </thead>\n",
       "  <tbody>\n",
       "    <tr>\n",
       "      <th>major_0</th>\n",
       "      <td>value_100</td>\n",
       "      <td>value_101</td>\n",
       "      <td>value_102</td>\n",
       "      <td>value_103</td>\n",
       "    </tr>\n",
       "    <tr>\n",
       "      <th>major_1</th>\n",
       "      <td>value_110</td>\n",
       "      <td>value_111</td>\n",
       "      <td>value_112</td>\n",
       "      <td>value_113</td>\n",
       "    </tr>\n",
       "    <tr>\n",
       "      <th>major_2</th>\n",
       "      <td>value_120</td>\n",
       "      <td>value_121</td>\n",
       "      <td>value_122</td>\n",
       "      <td>value_123</td>\n",
       "    </tr>\n",
       "    <tr>\n",
       "      <th>major_3</th>\n",
       "      <td>value_130</td>\n",
       "      <td>value_131</td>\n",
       "      <td>value_132</td>\n",
       "      <td>value_133</td>\n",
       "    </tr>\n",
       "  </tbody>\n",
       "</table>\n",
       "<table border=\"1\" class=\"dataframe\">\n",
       "  <thead>\n",
       "    <tr style=\"text-align: right;\">\n",
       "      <th>item_2</th>\n",
       "      <th>minor_0</th>\n",
       "      <th>minor_1</th>\n",
       "      <th>minor_2</th>\n",
       "      <th>minor_3</th>\n",
       "    </tr>\n",
       "  </thead>\n",
       "  <tbody>\n",
       "    <tr>\n",
       "      <th>major_0</th>\n",
       "      <td>value_200</td>\n",
       "      <td>value_201</td>\n",
       "      <td>value_202</td>\n",
       "      <td>value_203</td>\n",
       "    </tr>\n",
       "    <tr>\n",
       "      <th>major_1</th>\n",
       "      <td>value_210</td>\n",
       "      <td>value_211</td>\n",
       "      <td>value_212</td>\n",
       "      <td>value_213</td>\n",
       "    </tr>\n",
       "    <tr>\n",
       "      <th>major_2</th>\n",
       "      <td>value_220</td>\n",
       "      <td>value_221</td>\n",
       "      <td>value_222</td>\n",
       "      <td>value_223</td>\n",
       "    </tr>\n",
       "    <tr>\n",
       "      <th>major_3</th>\n",
       "      <td>value_230</td>\n",
       "      <td>value_231</td>\n",
       "      <td>value_232</td>\n",
       "      <td>value_233</td>\n",
       "    </tr>\n",
       "  </tbody>\n",
       "</table>"
      ],
      "text/plain": [
       "<IPython.core.display.HTML object>"
      ]
     },
     "execution_count": 95,
     "metadata": {},
     "output_type": "execute_result"
    }
   ],
   "source": [
    "disp = []\n",
    "dfs = {}\n",
    "for k in range(3):\n",
    "    columns = ['minor_{}'.format(i) for i in range(n)]\n",
    "    index = ['major_{}'.format(i) for i in range(n)]\n",
    "    data = np.array([['value_{}{}{}'.format(k,j,i) for i in range(n)] for j in range(n)])\n",
    "    df = pd.DataFrame(data, columns=columns, index=index)\n",
    "    dfs['item_{}'.format(k)]=df.copy()\n",
    "    \n",
    "    df.columns.name = 'item_{}'.format(k)\n",
    "    \n",
    "    disp.append(df.to_html())\n",
    "    \n",
    "HTML('\\n'.join(disp))"
   ]
  },
  {
   "cell_type": "code",
   "execution_count": 96,
   "metadata": {
    "collapsed": false
   },
   "outputs": [],
   "source": [
    "p = pd.Panel(dfs)\n"
   ]
  },
  {
   "cell_type": "code",
   "execution_count": 98,
   "metadata": {
    "collapsed": false
   },
   "outputs": [
    {
     "data": {
      "text/html": [
       "<div>\n",
       "<table border=\"1\" class=\"dataframe\">\n",
       "  <thead>\n",
       "    <tr style=\"text-align: right;\">\n",
       "      <th></th>\n",
       "      <th></th>\n",
       "      <th>item_0</th>\n",
       "      <th>item_1</th>\n",
       "      <th>item_2</th>\n",
       "    </tr>\n",
       "    <tr>\n",
       "      <th>major</th>\n",
       "      <th>minor</th>\n",
       "      <th></th>\n",
       "      <th></th>\n",
       "      <th></th>\n",
       "    </tr>\n",
       "  </thead>\n",
       "  <tbody>\n",
       "    <tr>\n",
       "      <th rowspan=\"4\" valign=\"top\">major_0</th>\n",
       "      <th>minor_0</th>\n",
       "      <td>value_000</td>\n",
       "      <td>value_100</td>\n",
       "      <td>value_200</td>\n",
       "    </tr>\n",
       "    <tr>\n",
       "      <th>minor_1</th>\n",
       "      <td>value_001</td>\n",
       "      <td>value_101</td>\n",
       "      <td>value_201</td>\n",
       "    </tr>\n",
       "    <tr>\n",
       "      <th>minor_2</th>\n",
       "      <td>value_002</td>\n",
       "      <td>value_102</td>\n",
       "      <td>value_202</td>\n",
       "    </tr>\n",
       "    <tr>\n",
       "      <th>minor_3</th>\n",
       "      <td>value_003</td>\n",
       "      <td>value_103</td>\n",
       "      <td>value_203</td>\n",
       "    </tr>\n",
       "    <tr>\n",
       "      <th rowspan=\"4\" valign=\"top\">major_1</th>\n",
       "      <th>minor_0</th>\n",
       "      <td>value_010</td>\n",
       "      <td>value_110</td>\n",
       "      <td>value_210</td>\n",
       "    </tr>\n",
       "    <tr>\n",
       "      <th>minor_1</th>\n",
       "      <td>value_011</td>\n",
       "      <td>value_111</td>\n",
       "      <td>value_211</td>\n",
       "    </tr>\n",
       "    <tr>\n",
       "      <th>minor_2</th>\n",
       "      <td>value_012</td>\n",
       "      <td>value_112</td>\n",
       "      <td>value_212</td>\n",
       "    </tr>\n",
       "    <tr>\n",
       "      <th>minor_3</th>\n",
       "      <td>value_013</td>\n",
       "      <td>value_113</td>\n",
       "      <td>value_213</td>\n",
       "    </tr>\n",
       "    <tr>\n",
       "      <th rowspan=\"4\" valign=\"top\">major_2</th>\n",
       "      <th>minor_0</th>\n",
       "      <td>value_020</td>\n",
       "      <td>value_120</td>\n",
       "      <td>value_220</td>\n",
       "    </tr>\n",
       "    <tr>\n",
       "      <th>minor_1</th>\n",
       "      <td>value_021</td>\n",
       "      <td>value_121</td>\n",
       "      <td>value_221</td>\n",
       "    </tr>\n",
       "    <tr>\n",
       "      <th>minor_2</th>\n",
       "      <td>value_022</td>\n",
       "      <td>value_122</td>\n",
       "      <td>value_222</td>\n",
       "    </tr>\n",
       "    <tr>\n",
       "      <th>minor_3</th>\n",
       "      <td>value_023</td>\n",
       "      <td>value_123</td>\n",
       "      <td>value_223</td>\n",
       "    </tr>\n",
       "    <tr>\n",
       "      <th rowspan=\"4\" valign=\"top\">major_3</th>\n",
       "      <th>minor_0</th>\n",
       "      <td>value_030</td>\n",
       "      <td>value_130</td>\n",
       "      <td>value_230</td>\n",
       "    </tr>\n",
       "    <tr>\n",
       "      <th>minor_1</th>\n",
       "      <td>value_031</td>\n",
       "      <td>value_131</td>\n",
       "      <td>value_231</td>\n",
       "    </tr>\n",
       "    <tr>\n",
       "      <th>minor_2</th>\n",
       "      <td>value_032</td>\n",
       "      <td>value_132</td>\n",
       "      <td>value_232</td>\n",
       "    </tr>\n",
       "    <tr>\n",
       "      <th>minor_3</th>\n",
       "      <td>value_033</td>\n",
       "      <td>value_133</td>\n",
       "      <td>value_233</td>\n",
       "    </tr>\n",
       "  </tbody>\n",
       "</table>\n",
       "</div>"
      ],
      "text/plain": [
       "                    item_0     item_1     item_2\n",
       "major   minor                                   \n",
       "major_0 minor_0  value_000  value_100  value_200\n",
       "        minor_1  value_001  value_101  value_201\n",
       "        minor_2  value_002  value_102  value_202\n",
       "        minor_3  value_003  value_103  value_203\n",
       "major_1 minor_0  value_010  value_110  value_210\n",
       "        minor_1  value_011  value_111  value_211\n",
       "        minor_2  value_012  value_112  value_212\n",
       "        minor_3  value_013  value_113  value_213\n",
       "major_2 minor_0  value_020  value_120  value_220\n",
       "        minor_1  value_021  value_121  value_221\n",
       "        minor_2  value_022  value_122  value_222\n",
       "        minor_3  value_023  value_123  value_223\n",
       "major_3 minor_0  value_030  value_130  value_230\n",
       "        minor_1  value_031  value_131  value_231\n",
       "        minor_2  value_032  value_132  value_232\n",
       "        minor_3  value_033  value_133  value_233"
      ]
     },
     "execution_count": 98,
     "metadata": {},
     "output_type": "execute_result"
    }
   ],
   "source": [
    "\n",
    "p.to_frame()"
   ]
  },
  {
   "cell_type": "code",
   "execution_count": 79,
   "metadata": {
    "collapsed": false
   },
   "outputs": [],
   "source": [
    "pa = pd.Panel({'it1' :np.array([[1,2,2]]), 'it2':np.array([['a','b','c']])})"
   ]
  },
  {
   "cell_type": "code",
   "execution_count": 81,
   "metadata": {
    "collapsed": false
   },
   "outputs": [
    {
     "data": {
      "text/html": [
       "<div>\n",
       "<table border=\"1\" class=\"dataframe\">\n",
       "  <thead>\n",
       "    <tr style=\"text-align: right;\">\n",
       "      <th></th>\n",
       "      <th></th>\n",
       "      <th>it1</th>\n",
       "      <th>it2</th>\n",
       "    </tr>\n",
       "    <tr>\n",
       "      <th>major</th>\n",
       "      <th>minor</th>\n",
       "      <th></th>\n",
       "      <th></th>\n",
       "    </tr>\n",
       "  </thead>\n",
       "  <tbody>\n",
       "    <tr>\n",
       "      <th rowspan=\"3\" valign=\"top\">0</th>\n",
       "      <th>0</th>\n",
       "      <td>1</td>\n",
       "      <td>a</td>\n",
       "    </tr>\n",
       "    <tr>\n",
       "      <th>1</th>\n",
       "      <td>2</td>\n",
       "      <td>b</td>\n",
       "    </tr>\n",
       "    <tr>\n",
       "      <th>2</th>\n",
       "      <td>2</td>\n",
       "      <td>c</td>\n",
       "    </tr>\n",
       "  </tbody>\n",
       "</table>\n",
       "</div>"
      ],
      "text/plain": [
       "             it1 it2\n",
       "major minor         \n",
       "0     0        1   a\n",
       "      1        2   b\n",
       "      2        2   c"
      ]
     },
     "execution_count": 81,
     "metadata": {},
     "output_type": "execute_result"
    }
   ],
   "source": [
    "pa.to_frame()"
   ]
  },
  {
   "cell_type": "code",
   "execution_count": 88,
   "metadata": {
    "collapsed": false
   },
   "outputs": [],
   "source": [
    "pa = pd.Panel({'it1' :pd.DataFrame([['a',1],['b',2]], columns=['col1','col2']),\n",
    " 'it2' :pd.DataFrame([['a',True],['b',False]], columns=['col1','col2'])})"
   ]
  },
  {
   "cell_type": "code",
   "execution_count": 89,
   "metadata": {
    "collapsed": false
   },
   "outputs": [
    {
     "data": {
      "text/plain": [
       "it1    object\n",
       "it2    object\n",
       "dtype: object"
      ]
     },
     "execution_count": 89,
     "metadata": {},
     "output_type": "execute_result"
    }
   ],
   "source": [
    "pa.dtypes"
   ]
  },
  {
   "cell_type": "code",
   "execution_count": null,
   "metadata": {
    "collapsed": true
   },
   "outputs": [],
   "source": []
  }
 ],
 "metadata": {
  "kernelspec": {
   "display_name": "Python 2",
   "language": "python",
   "name": "python2"
  },
  "language_info": {
   "codemirror_mode": {
    "name": "ipython",
    "version": 2
   },
   "file_extension": ".py",
   "mimetype": "text/x-python",
   "name": "python",
   "nbconvert_exporter": "python",
   "pygments_lexer": "ipython2",
   "version": "2.7.11"
  }
 },
 "nbformat": 4,
 "nbformat_minor": 0
}
