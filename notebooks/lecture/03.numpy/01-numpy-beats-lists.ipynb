{
 "cells": [
  {
   "cell_type": "markdown",
   "metadata": {},
   "source": [
    "# Introduction to Numpy \n",
    "\n",
    "## Why Bother \n",
    "\n",
    "Why would we bother with numpy? We already have python, which is a great language, that has support for numbers built in. We even have fancy things in our `math` module which comes as part of the base library. So why bother?\n",
    "\n",
    "In this notebook we'll just show one reason: performance. It really is a fast library specialized for numerical operations and we'll encounter many of those. "
   ]
  },
  {
   "cell_type": "markdown",
   "metadata": {},
   "source": [
    "## Lists, NumPy and Performance \n",
    "\n",
    "A downside of python is that because it is a dynamically-typed language (you don't have to specify the type of your variables while writing code, the interpreter will figure this out on the fly) we lose some performance. The `numpy` module is meant to counter this by giving us an API with python objects that call highly-performant C code so that we can still write python code for performant numerical problems. \n",
    "\n",
    "Let's do a small experiment and let's see if we can measure this. We can use the `%%timeit` notebook magic. "
   ]
  },
  {
   "cell_type": "code",
   "execution_count": null,
   "metadata": {},
   "outputs": [],
   "source": [
    "import math\n",
    "import numpy as np"
   ]
  },
  {
   "cell_type": "code",
   "execution_count": null,
   "metadata": {},
   "outputs": [],
   "source": [
    "%%timeit \n",
    "sum(range(100000))"
   ]
  },
  {
   "cell_type": "code",
   "execution_count": null,
   "metadata": {},
   "outputs": [],
   "source": [
    "%%timeit \n",
    "sum([i for i in range(100000)])"
   ]
  },
  {
   "cell_type": "code",
   "execution_count": null,
   "metadata": {},
   "outputs": [],
   "source": [
    "%%timeit\n",
    "np.sum(np.arange(100000))"
   ]
  },
  {
   "cell_type": "code",
   "execution_count": null,
   "metadata": {},
   "outputs": [],
   "source": [
    "%%timeit\n",
    "np.sum(np.arange(0,100000))"
   ]
  },
  {
   "cell_type": "code",
   "execution_count": null,
   "metadata": {},
   "outputs": [],
   "source": [
    "%%timeit\n",
    "np.sum([i for i in range(100000)])"
   ]
  },
  {
   "cell_type": "code",
   "execution_count": null,
   "metadata": {},
   "outputs": [],
   "source": [
    "%%timeit\n",
    "sum(np.arange(100000))"
   ]
  },
  {
   "cell_type": "code",
   "execution_count": null,
   "metadata": {},
   "outputs": [],
   "source": [
    "%%timeit \n",
    "s = 0 \n",
    "for i in range(100000):\n",
    "    s += 1"
   ]
  },
  {
   "cell_type": "markdown",
   "metadata": {},
   "source": [
    "# First Observations \n",
    "\n",
    "1. The code that we wrote in pure numpy (only `np.sum` and `np.arrange`) is orders of magnitude faster than it's python counterpart. \n",
    "2. The performance seems to go away once we intermix the base python code and the numpy code. It seems much faster to keep numerical operations to the numpy side. Example; using the standard python `sum` function on a numpy array is the worst case! \n",
    "3. All the speeds right now are pretty fast either way, but especially when we are dealing with large datasets we can expect a massive improvement. \n",
    "\n",
    "# Other Benchmarks \n",
    "\n",
    "Similar conclusions can be made when dealing with vectorized operations. Check these benchmarks."
   ]
  },
  {
   "cell_type": "code",
   "execution_count": null,
   "metadata": {
    "scrolled": true
   },
   "outputs": [],
   "source": [
    "%%timeit \n",
    "[ 2 * i for i in range(100000) ]"
   ]
  },
  {
   "cell_type": "code",
   "execution_count": null,
   "metadata": {},
   "outputs": [],
   "source": [
    "%%timeit\n",
    "np.arange(100000) * 2"
   ]
  },
  {
   "cell_type": "code",
   "execution_count": null,
   "metadata": {},
   "outputs": [],
   "source": [
    "%%timeit \n",
    "[ math.sqrt(i) for i in range(100000) ]"
   ]
  },
  {
   "cell_type": "code",
   "execution_count": null,
   "metadata": {},
   "outputs": [],
   "source": [
    "%%timeit \n",
    "np.sqrt( np.arange(100000) )"
   ]
  },
  {
   "cell_type": "markdown",
   "metadata": {},
   "source": [
    "Numpy will run precompiled C-code and low level BLAS/Fortran. A combination with normal python code is bound to add overhead. "
   ]
  },
  {
   "cell_type": "markdown",
   "metadata": {},
   "source": [
    "# Conclusion \n",
    "\n",
    "It's not the only reason, but numpy is popular because it is **fast**. It is still bound by python's GIL but it is able to use very low level code to ensure that numerical operations can occur very very fast.  "
   ]
  }
 ],
 "metadata": {
  "anaconda-cloud": {},
  "kernelspec": {
   "display_name": "Python 3",
   "language": "python",
   "name": "python3"
  },
  "language_info": {
   "codemirror_mode": {
    "name": "ipython",
    "version": 3
   },
   "file_extension": ".py",
   "mimetype": "text/x-python",
   "name": "python",
   "nbconvert_exporter": "python",
   "pygments_lexer": "ipython3",
   "version": "3.7.7"
  }
 },
 "nbformat": 4,
 "nbformat_minor": 1
}
